{
 "cells": [
  {
   "cell_type": "markdown",
   "id": "86a0d7a8",
   "metadata": {
    "papermill": {
     "duration": 0.018205,
     "end_time": "2022-10-07T13:20:32.156935",
     "exception": false,
     "start_time": "2022-10-07T13:20:32.138730",
     "status": "completed"
    },
    "tags": []
   },
   "source": [
    "# Tabular Playground Series - Aug 2022\n",
    "\n",
    "In this notebook, I created base model for TPS Aug 2022 and show **feature importances of models**. In below, some information about data is gave us. \n",
    "\n",
    ">This data represents the results of a large product testing study. For each **product_code** you are given a number of product **attributes** (fixed for the code) as well as a number of **measurement values** for each individual product, representing various lab testing methods. Each product is used in a simulated real-world environment experiment, and and absorbs a certain amount of fluid (**loading**) to see whether or not it fails.\n",
    "\n",
    ">Your task is to use the data to predict individual product failures of new codes with their individual lab test results.\n",
    "\n",
    "**Evaluation**: Submissions are evaluated on area under the ROC curve between the **predicted probability** and the observed target."
   ]
  },
  {
   "cell_type": "markdown",
   "id": "de49ad84",
   "metadata": {
    "papermill": {
     "duration": 0.016649,
     "end_time": "2022-10-07T13:20:32.193324",
     "exception": false,
     "start_time": "2022-10-07T13:20:32.176675",
     "status": "completed"
    },
    "tags": []
   },
   "source": [
    "<a id=\"0\"></a> <br>\n",
    "# Table of Contents  \n",
    "1. [Introduction to Tabular Playground Series - Aug 2022](#1)     \n",
    "1. [A glance at the Data](#2) \n",
    " 1. [Create Train and Test Sets](#3) \n",
    "1. [EDA](#4)\n",
    "1. [Missing Values](#4)\n",
    "1. [Preprocess](#5)\n",
    "1. [Basic Modelling](#10)\n",
    "    1. [Logistic Regression](#11)\n",
    "    1. [Feature Importance of Model](#12)\n",
    "    1. [SVC - SVM Classifier](#31)\n",
    "    1. [Random Forest](#13)\n",
    "    1. [XGBoost](#20)\n",
    "    1. [CatBoost Classifier](#32)\n",
    "    1. [LightGBM](#33)\n",
    "1. [Final Model](#25)\n",
    "1. [Submission](#30)"
   ]
  },
  {
   "cell_type": "markdown",
   "id": "1abaae2c",
   "metadata": {
    "papermill": {
     "duration": 0.017447,
     "end_time": "2022-10-07T13:20:32.227868",
     "exception": false,
     "start_time": "2022-10-07T13:20:32.210421",
     "status": "completed"
    },
    "tags": []
   },
   "source": [
    "<a id=\"1\"></a> <br>\n",
    "# 1. A glance at the Data"
   ]
  },
  {
   "cell_type": "code",
   "execution_count": 1,
   "id": "b77cc726",
   "metadata": {
    "_cell_guid": "b1076dfc-b9ad-4769-8c92-a6c4dae69d19",
    "_uuid": "8f2839f25d086af736a60e9eeb907d3b93b6e0e5",
    "execution": {
     "iopub.execute_input": "2022-10-07T13:20:32.264974Z",
     "iopub.status.busy": "2022-10-07T13:20:32.264493Z",
     "iopub.status.idle": "2022-10-07T13:20:35.264584Z",
     "shell.execute_reply": "2022-10-07T13:20:35.263287Z"
    },
    "papermill": {
     "duration": 3.021997,
     "end_time": "2022-10-07T13:20:35.268137",
     "exception": false,
     "start_time": "2022-10-07T13:20:32.246140",
     "status": "completed"
    },
    "tags": []
   },
   "outputs": [
    {
     "data": {
      "text/html": [
       "<style type='text/css'>\n",
       ".datatable table.frame { margin-bottom: 0; }\n",
       ".datatable table.frame thead { border-bottom: none; }\n",
       ".datatable table.frame tr.coltypes td {  color: #FFFFFF;  line-height: 6px;  padding: 0 0.5em;}\n",
       ".datatable .bool    { background: #DDDD99; }\n",
       ".datatable .object  { background: #565656; }\n",
       ".datatable .int     { background: #5D9E5D; }\n",
       ".datatable .float   { background: #4040CC; }\n",
       ".datatable .str     { background: #CC4040; }\n",
       ".datatable .time    { background: #40CC40; }\n",
       ".datatable .row_index {  background: var(--jp-border-color3);  border-right: 1px solid var(--jp-border-color0);  color: var(--jp-ui-font-color3);  font-size: 9px;}\n",
       ".datatable .frame tbody td { text-align: left; }\n",
       ".datatable .frame tr.coltypes .row_index {  background: var(--jp-border-color0);}\n",
       ".datatable th:nth-child(2) { padding-left: 12px; }\n",
       ".datatable .hellipsis {  color: var(--jp-cell-editor-border-color);}\n",
       ".datatable .vellipsis {  background: var(--jp-layout-color0);  color: var(--jp-cell-editor-border-color);}\n",
       ".datatable .na {  color: var(--jp-cell-editor-border-color);  font-size: 80%;}\n",
       ".datatable .sp {  opacity: 0.25;}\n",
       ".datatable .footer { font-size: 9px; }\n",
       ".datatable .frame_dimensions {  background: var(--jp-border-color3);  border-top: 1px solid var(--jp-border-color0);  color: var(--jp-ui-font-color3);  display: inline-block;  opacity: 0.6;  padding: 1px 10px 1px 5px;}\n",
       "</style>\n"
      ],
      "text/plain": [
       "<IPython.core.display.HTML object>"
      ]
     },
     "metadata": {},
     "output_type": "display_data"
    },
    {
     "name": "stdout",
     "output_type": "stream",
     "text": [
      "/kaggle/input/tabular-playground-series-aug-2022/sample_submission.csv\n",
      "/kaggle/input/tabular-playground-series-aug-2022/train.csv\n",
      "/kaggle/input/tabular-playground-series-aug-2022/test.csv\n"
     ]
    }
   ],
   "source": [
    "import numpy as np # linear algebra\n",
    "import pandas as pd # data processing, CSV file I/O (e.g. pd.read_csv)\n",
    "from matplotlib import pyplot as plt\n",
    "import seaborn as sns\n",
    "\n",
    "# Preprocess\n",
    "from sklearn.compose import ColumnTransformer\n",
    "from sklearn.pipeline import Pipeline\n",
    "from sklearn.impute import SimpleImputer, KNNImputer\n",
    "from sklearn.preprocessing import OneHotEncoder, StandardScaler\n",
    "from sklearn.model_selection import GroupKFold\n",
    "\n",
    "# Metrics\n",
    "from sklearn.metrics import roc_auc_score\n",
    "\n",
    "# Model\n",
    "from sklearn.ensemble import RandomForestClassifier, GradientBoostingClassifier, ExtraTreesClassifier\n",
    "from sklearn.linear_model import LogisticRegression, RidgeClassifier\n",
    "from sklearn.svm import SVC\n",
    "\n",
    "from catboost import CatBoostClassifier\n",
    "from lightgbm import LGBMClassifier\n",
    "\n",
    "from colorama import Fore, Back, Style\n",
    "\n",
    "import os\n",
    "for dirname, _, filenames in os.walk('/kaggle/input'):\n",
    "    for filename in filenames:\n",
    "        print(os.path.join(dirname, filename))"
   ]
  },
  {
   "cell_type": "code",
   "execution_count": 2,
   "id": "fc61c069",
   "metadata": {
    "execution": {
     "iopub.execute_input": "2022-10-07T13:20:35.304252Z",
     "iopub.status.busy": "2022-10-07T13:20:35.303820Z",
     "iopub.status.idle": "2022-10-07T13:20:35.673745Z",
     "shell.execute_reply": "2022-10-07T13:20:35.672292Z"
    },
    "papermill": {
     "duration": 0.391139,
     "end_time": "2022-10-07T13:20:35.676563",
     "exception": false,
     "start_time": "2022-10-07T13:20:35.285424",
     "status": "completed"
    },
    "tags": []
   },
   "outputs": [
    {
     "data": {
      "text/html": [
       "<div>\n",
       "<style scoped>\n",
       "    .dataframe tbody tr th:only-of-type {\n",
       "        vertical-align: middle;\n",
       "    }\n",
       "\n",
       "    .dataframe tbody tr th {\n",
       "        vertical-align: top;\n",
       "    }\n",
       "\n",
       "    .dataframe thead th {\n",
       "        text-align: right;\n",
       "    }\n",
       "</style>\n",
       "<table border=\"1\" class=\"dataframe\">\n",
       "  <thead>\n",
       "    <tr style=\"text-align: right;\">\n",
       "      <th></th>\n",
       "      <th>product_code</th>\n",
       "      <th>loading</th>\n",
       "      <th>attribute_0</th>\n",
       "      <th>attribute_1</th>\n",
       "      <th>attribute_2</th>\n",
       "      <th>attribute_3</th>\n",
       "      <th>measurement_0</th>\n",
       "      <th>measurement_1</th>\n",
       "      <th>measurement_2</th>\n",
       "      <th>measurement_3</th>\n",
       "      <th>...</th>\n",
       "      <th>measurement_9</th>\n",
       "      <th>measurement_10</th>\n",
       "      <th>measurement_11</th>\n",
       "      <th>measurement_12</th>\n",
       "      <th>measurement_13</th>\n",
       "      <th>measurement_14</th>\n",
       "      <th>measurement_15</th>\n",
       "      <th>measurement_16</th>\n",
       "      <th>measurement_17</th>\n",
       "      <th>failure</th>\n",
       "    </tr>\n",
       "    <tr>\n",
       "      <th>id</th>\n",
       "      <th></th>\n",
       "      <th></th>\n",
       "      <th></th>\n",
       "      <th></th>\n",
       "      <th></th>\n",
       "      <th></th>\n",
       "      <th></th>\n",
       "      <th></th>\n",
       "      <th></th>\n",
       "      <th></th>\n",
       "      <th></th>\n",
       "      <th></th>\n",
       "      <th></th>\n",
       "      <th></th>\n",
       "      <th></th>\n",
       "      <th></th>\n",
       "      <th></th>\n",
       "      <th></th>\n",
       "      <th></th>\n",
       "      <th></th>\n",
       "      <th></th>\n",
       "    </tr>\n",
       "  </thead>\n",
       "  <tbody>\n",
       "    <tr>\n",
       "      <th>0</th>\n",
       "      <td>A</td>\n",
       "      <td>80.10</td>\n",
       "      <td>material_7</td>\n",
       "      <td>material_8</td>\n",
       "      <td>9</td>\n",
       "      <td>5</td>\n",
       "      <td>7</td>\n",
       "      <td>8</td>\n",
       "      <td>4</td>\n",
       "      <td>18.040</td>\n",
       "      <td>...</td>\n",
       "      <td>10.672</td>\n",
       "      <td>15.859</td>\n",
       "      <td>17.594</td>\n",
       "      <td>15.193</td>\n",
       "      <td>15.029</td>\n",
       "      <td>NaN</td>\n",
       "      <td>13.034</td>\n",
       "      <td>14.684</td>\n",
       "      <td>764.100</td>\n",
       "      <td>0</td>\n",
       "    </tr>\n",
       "    <tr>\n",
       "      <th>1</th>\n",
       "      <td>A</td>\n",
       "      <td>84.89</td>\n",
       "      <td>material_7</td>\n",
       "      <td>material_8</td>\n",
       "      <td>9</td>\n",
       "      <td>5</td>\n",
       "      <td>14</td>\n",
       "      <td>3</td>\n",
       "      <td>3</td>\n",
       "      <td>18.213</td>\n",
       "      <td>...</td>\n",
       "      <td>12.448</td>\n",
       "      <td>17.947</td>\n",
       "      <td>17.915</td>\n",
       "      <td>11.755</td>\n",
       "      <td>14.732</td>\n",
       "      <td>15.425</td>\n",
       "      <td>14.395</td>\n",
       "      <td>15.631</td>\n",
       "      <td>682.057</td>\n",
       "      <td>0</td>\n",
       "    </tr>\n",
       "    <tr>\n",
       "      <th>2</th>\n",
       "      <td>A</td>\n",
       "      <td>82.43</td>\n",
       "      <td>material_7</td>\n",
       "      <td>material_8</td>\n",
       "      <td>9</td>\n",
       "      <td>5</td>\n",
       "      <td>12</td>\n",
       "      <td>1</td>\n",
       "      <td>5</td>\n",
       "      <td>18.057</td>\n",
       "      <td>...</td>\n",
       "      <td>12.715</td>\n",
       "      <td>15.607</td>\n",
       "      <td>NaN</td>\n",
       "      <td>13.798</td>\n",
       "      <td>16.711</td>\n",
       "      <td>18.631</td>\n",
       "      <td>14.094</td>\n",
       "      <td>17.946</td>\n",
       "      <td>663.376</td>\n",
       "      <td>0</td>\n",
       "    </tr>\n",
       "    <tr>\n",
       "      <th>3</th>\n",
       "      <td>A</td>\n",
       "      <td>101.07</td>\n",
       "      <td>material_7</td>\n",
       "      <td>material_8</td>\n",
       "      <td>9</td>\n",
       "      <td>5</td>\n",
       "      <td>13</td>\n",
       "      <td>2</td>\n",
       "      <td>6</td>\n",
       "      <td>17.295</td>\n",
       "      <td>...</td>\n",
       "      <td>12.471</td>\n",
       "      <td>16.346</td>\n",
       "      <td>18.377</td>\n",
       "      <td>10.020</td>\n",
       "      <td>15.250</td>\n",
       "      <td>15.562</td>\n",
       "      <td>16.154</td>\n",
       "      <td>17.172</td>\n",
       "      <td>826.282</td>\n",
       "      <td>0</td>\n",
       "    </tr>\n",
       "    <tr>\n",
       "      <th>4</th>\n",
       "      <td>A</td>\n",
       "      <td>188.06</td>\n",
       "      <td>material_7</td>\n",
       "      <td>material_8</td>\n",
       "      <td>9</td>\n",
       "      <td>5</td>\n",
       "      <td>9</td>\n",
       "      <td>2</td>\n",
       "      <td>8</td>\n",
       "      <td>19.346</td>\n",
       "      <td>...</td>\n",
       "      <td>10.337</td>\n",
       "      <td>17.082</td>\n",
       "      <td>19.932</td>\n",
       "      <td>12.428</td>\n",
       "      <td>16.182</td>\n",
       "      <td>12.760</td>\n",
       "      <td>13.153</td>\n",
       "      <td>16.412</td>\n",
       "      <td>579.885</td>\n",
       "      <td>0</td>\n",
       "    </tr>\n",
       "  </tbody>\n",
       "</table>\n",
       "<p>5 rows × 25 columns</p>\n",
       "</div>"
      ],
      "text/plain": [
       "   product_code  loading attribute_0 attribute_1  attribute_2  attribute_3  \\\n",
       "id                                                                           \n",
       "0             A    80.10  material_7  material_8            9            5   \n",
       "1             A    84.89  material_7  material_8            9            5   \n",
       "2             A    82.43  material_7  material_8            9            5   \n",
       "3             A   101.07  material_7  material_8            9            5   \n",
       "4             A   188.06  material_7  material_8            9            5   \n",
       "\n",
       "    measurement_0  measurement_1  measurement_2  measurement_3  ...  \\\n",
       "id                                                              ...   \n",
       "0               7              8              4         18.040  ...   \n",
       "1              14              3              3         18.213  ...   \n",
       "2              12              1              5         18.057  ...   \n",
       "3              13              2              6         17.295  ...   \n",
       "4               9              2              8         19.346  ...   \n",
       "\n",
       "    measurement_9  measurement_10  measurement_11  measurement_12  \\\n",
       "id                                                                  \n",
       "0          10.672          15.859          17.594          15.193   \n",
       "1          12.448          17.947          17.915          11.755   \n",
       "2          12.715          15.607             NaN          13.798   \n",
       "3          12.471          16.346          18.377          10.020   \n",
       "4          10.337          17.082          19.932          12.428   \n",
       "\n",
       "    measurement_13  measurement_14  measurement_15  measurement_16  \\\n",
       "id                                                                   \n",
       "0           15.029             NaN          13.034          14.684   \n",
       "1           14.732          15.425          14.395          15.631   \n",
       "2           16.711          18.631          14.094          17.946   \n",
       "3           15.250          15.562          16.154          17.172   \n",
       "4           16.182          12.760          13.153          16.412   \n",
       "\n",
       "    measurement_17  failure  \n",
       "id                           \n",
       "0          764.100        0  \n",
       "1          682.057        0  \n",
       "2          663.376        0  \n",
       "3          826.282        0  \n",
       "4          579.885        0  \n",
       "\n",
       "[5 rows x 25 columns]"
      ]
     },
     "execution_count": 2,
     "metadata": {},
     "output_type": "execute_result"
    }
   ],
   "source": [
    "df_train_full = pd.read_csv(\"/kaggle/input/tabular-playground-series-aug-2022/train.csv\", index_col='id')\n",
    "df_test = pd.read_csv(\"/kaggle/input/tabular-playground-series-aug-2022/test.csv\", index_col='id')\n",
    "\n",
    "df_train_full.head()"
   ]
  },
  {
   "cell_type": "code",
   "execution_count": 3,
   "id": "02b9fa99",
   "metadata": {
    "execution": {
     "iopub.execute_input": "2022-10-07T13:20:35.713338Z",
     "iopub.status.busy": "2022-10-07T13:20:35.712907Z",
     "iopub.status.idle": "2022-10-07T13:20:35.737291Z",
     "shell.execute_reply": "2022-10-07T13:20:35.735434Z"
    },
    "papermill": {
     "duration": 0.046027,
     "end_time": "2022-10-07T13:20:35.740109",
     "exception": false,
     "start_time": "2022-10-07T13:20:35.694082",
     "status": "completed"
    },
    "tags": []
   },
   "outputs": [
    {
     "name": "stdout",
     "output_type": "stream",
     "text": [
      "<class 'pandas.core.frame.DataFrame'>\n",
      "Int64Index: 26570 entries, 0 to 26569\n",
      "Data columns (total 25 columns):\n",
      " #   Column          Non-Null Count  Dtype  \n",
      "---  ------          --------------  -----  \n",
      " 0   product_code    26570 non-null  object \n",
      " 1   loading         26320 non-null  float64\n",
      " 2   attribute_0     26570 non-null  object \n",
      " 3   attribute_1     26570 non-null  object \n",
      " 4   attribute_2     26570 non-null  int64  \n",
      " 5   attribute_3     26570 non-null  int64  \n",
      " 6   measurement_0   26570 non-null  int64  \n",
      " 7   measurement_1   26570 non-null  int64  \n",
      " 8   measurement_2   26570 non-null  int64  \n",
      " 9   measurement_3   26189 non-null  float64\n",
      " 10  measurement_4   26032 non-null  float64\n",
      " 11  measurement_5   25894 non-null  float64\n",
      " 12  measurement_6   25774 non-null  float64\n",
      " 13  measurement_7   25633 non-null  float64\n",
      " 14  measurement_8   25522 non-null  float64\n",
      " 15  measurement_9   25343 non-null  float64\n",
      " 16  measurement_10  25270 non-null  float64\n",
      " 17  measurement_11  25102 non-null  float64\n",
      " 18  measurement_12  24969 non-null  float64\n",
      " 19  measurement_13  24796 non-null  float64\n",
      " 20  measurement_14  24696 non-null  float64\n",
      " 21  measurement_15  24561 non-null  float64\n",
      " 22  measurement_16  24460 non-null  float64\n",
      " 23  measurement_17  24286 non-null  float64\n",
      " 24  failure         26570 non-null  int64  \n",
      "dtypes: float64(16), int64(6), object(3)\n",
      "memory usage: 5.3+ MB\n"
     ]
    }
   ],
   "source": [
    "df_train_full.info()"
   ]
  },
  {
   "cell_type": "code",
   "execution_count": 4,
   "id": "7927b9d7",
   "metadata": {
    "execution": {
     "iopub.execute_input": "2022-10-07T13:20:35.778098Z",
     "iopub.status.busy": "2022-10-07T13:20:35.776661Z",
     "iopub.status.idle": "2022-10-07T13:20:35.890128Z",
     "shell.execute_reply": "2022-10-07T13:20:35.888718Z"
    },
    "papermill": {
     "duration": 0.135068,
     "end_time": "2022-10-07T13:20:35.892933",
     "exception": false,
     "start_time": "2022-10-07T13:20:35.757865",
     "status": "completed"
    },
    "tags": []
   },
   "outputs": [
    {
     "data": {
      "text/html": [
       "<div>\n",
       "<style scoped>\n",
       "    .dataframe tbody tr th:only-of-type {\n",
       "        vertical-align: middle;\n",
       "    }\n",
       "\n",
       "    .dataframe tbody tr th {\n",
       "        vertical-align: top;\n",
       "    }\n",
       "\n",
       "    .dataframe thead th {\n",
       "        text-align: right;\n",
       "    }\n",
       "</style>\n",
       "<table border=\"1\" class=\"dataframe\">\n",
       "  <thead>\n",
       "    <tr style=\"text-align: right;\">\n",
       "      <th></th>\n",
       "      <th>loading</th>\n",
       "      <th>attribute_2</th>\n",
       "      <th>attribute_3</th>\n",
       "      <th>measurement_0</th>\n",
       "      <th>measurement_1</th>\n",
       "      <th>measurement_2</th>\n",
       "      <th>measurement_3</th>\n",
       "      <th>measurement_4</th>\n",
       "      <th>measurement_5</th>\n",
       "      <th>measurement_6</th>\n",
       "      <th>...</th>\n",
       "      <th>measurement_9</th>\n",
       "      <th>measurement_10</th>\n",
       "      <th>measurement_11</th>\n",
       "      <th>measurement_12</th>\n",
       "      <th>measurement_13</th>\n",
       "      <th>measurement_14</th>\n",
       "      <th>measurement_15</th>\n",
       "      <th>measurement_16</th>\n",
       "      <th>measurement_17</th>\n",
       "      <th>failure</th>\n",
       "    </tr>\n",
       "  </thead>\n",
       "  <tbody>\n",
       "    <tr>\n",
       "      <th>count</th>\n",
       "      <td>26320.000000</td>\n",
       "      <td>26570.000000</td>\n",
       "      <td>26570.000000</td>\n",
       "      <td>26570.000000</td>\n",
       "      <td>26570.000000</td>\n",
       "      <td>26570.000000</td>\n",
       "      <td>26189.000000</td>\n",
       "      <td>26032.000000</td>\n",
       "      <td>25894.000000</td>\n",
       "      <td>25774.000000</td>\n",
       "      <td>...</td>\n",
       "      <td>25343.000000</td>\n",
       "      <td>25270.000000</td>\n",
       "      <td>25102.000000</td>\n",
       "      <td>24969.000000</td>\n",
       "      <td>24796.000000</td>\n",
       "      <td>24696.000000</td>\n",
       "      <td>24561.000000</td>\n",
       "      <td>24460.000000</td>\n",
       "      <td>24286.000000</td>\n",
       "      <td>26570.000000</td>\n",
       "    </tr>\n",
       "    <tr>\n",
       "      <th>mean</th>\n",
       "      <td>127.826233</td>\n",
       "      <td>6.754046</td>\n",
       "      <td>7.240459</td>\n",
       "      <td>7.415883</td>\n",
       "      <td>8.232518</td>\n",
       "      <td>6.256568</td>\n",
       "      <td>17.791528</td>\n",
       "      <td>11.731988</td>\n",
       "      <td>17.127804</td>\n",
       "      <td>17.510759</td>\n",
       "      <td>...</td>\n",
       "      <td>11.430725</td>\n",
       "      <td>16.117711</td>\n",
       "      <td>19.172085</td>\n",
       "      <td>11.702464</td>\n",
       "      <td>15.652904</td>\n",
       "      <td>16.048444</td>\n",
       "      <td>14.995554</td>\n",
       "      <td>16.460727</td>\n",
       "      <td>701.269059</td>\n",
       "      <td>0.212608</td>\n",
       "    </tr>\n",
       "    <tr>\n",
       "      <th>std</th>\n",
       "      <td>39.030020</td>\n",
       "      <td>1.471852</td>\n",
       "      <td>1.456493</td>\n",
       "      <td>4.116690</td>\n",
       "      <td>4.199401</td>\n",
       "      <td>3.309109</td>\n",
       "      <td>1.001200</td>\n",
       "      <td>0.996085</td>\n",
       "      <td>0.996414</td>\n",
       "      <td>0.995980</td>\n",
       "      <td>...</td>\n",
       "      <td>0.999137</td>\n",
       "      <td>1.405978</td>\n",
       "      <td>1.520785</td>\n",
       "      <td>1.488838</td>\n",
       "      <td>1.155247</td>\n",
       "      <td>1.491923</td>\n",
       "      <td>1.549226</td>\n",
       "      <td>1.708935</td>\n",
       "      <td>123.304161</td>\n",
       "      <td>0.409160</td>\n",
       "    </tr>\n",
       "    <tr>\n",
       "      <th>min</th>\n",
       "      <td>33.160000</td>\n",
       "      <td>5.000000</td>\n",
       "      <td>5.000000</td>\n",
       "      <td>0.000000</td>\n",
       "      <td>0.000000</td>\n",
       "      <td>0.000000</td>\n",
       "      <td>13.968000</td>\n",
       "      <td>8.008000</td>\n",
       "      <td>12.073000</td>\n",
       "      <td>12.715000</td>\n",
       "      <td>...</td>\n",
       "      <td>7.537000</td>\n",
       "      <td>9.323000</td>\n",
       "      <td>12.461000</td>\n",
       "      <td>5.167000</td>\n",
       "      <td>10.890000</td>\n",
       "      <td>9.140000</td>\n",
       "      <td>9.104000</td>\n",
       "      <td>9.701000</td>\n",
       "      <td>196.787000</td>\n",
       "      <td>0.000000</td>\n",
       "    </tr>\n",
       "    <tr>\n",
       "      <th>25%</th>\n",
       "      <td>99.987500</td>\n",
       "      <td>6.000000</td>\n",
       "      <td>6.000000</td>\n",
       "      <td>4.000000</td>\n",
       "      <td>5.000000</td>\n",
       "      <td>4.000000</td>\n",
       "      <td>17.117000</td>\n",
       "      <td>11.051000</td>\n",
       "      <td>16.443000</td>\n",
       "      <td>16.839000</td>\n",
       "      <td>...</td>\n",
       "      <td>10.757000</td>\n",
       "      <td>15.209000</td>\n",
       "      <td>18.170000</td>\n",
       "      <td>10.703000</td>\n",
       "      <td>14.890000</td>\n",
       "      <td>15.057000</td>\n",
       "      <td>13.957000</td>\n",
       "      <td>15.268000</td>\n",
       "      <td>618.961500</td>\n",
       "      <td>0.000000</td>\n",
       "    </tr>\n",
       "    <tr>\n",
       "      <th>50%</th>\n",
       "      <td>122.390000</td>\n",
       "      <td>6.000000</td>\n",
       "      <td>8.000000</td>\n",
       "      <td>7.000000</td>\n",
       "      <td>8.000000</td>\n",
       "      <td>6.000000</td>\n",
       "      <td>17.787000</td>\n",
       "      <td>11.733000</td>\n",
       "      <td>17.132000</td>\n",
       "      <td>17.516000</td>\n",
       "      <td>...</td>\n",
       "      <td>11.430000</td>\n",
       "      <td>16.127000</td>\n",
       "      <td>19.211500</td>\n",
       "      <td>11.717000</td>\n",
       "      <td>15.628500</td>\n",
       "      <td>16.040000</td>\n",
       "      <td>14.969000</td>\n",
       "      <td>16.436000</td>\n",
       "      <td>701.024500</td>\n",
       "      <td>0.000000</td>\n",
       "    </tr>\n",
       "    <tr>\n",
       "      <th>75%</th>\n",
       "      <td>149.152500</td>\n",
       "      <td>8.000000</td>\n",
       "      <td>8.000000</td>\n",
       "      <td>10.000000</td>\n",
       "      <td>11.000000</td>\n",
       "      <td>8.000000</td>\n",
       "      <td>18.469000</td>\n",
       "      <td>12.410000</td>\n",
       "      <td>17.805000</td>\n",
       "      <td>18.178000</td>\n",
       "      <td>...</td>\n",
       "      <td>12.102000</td>\n",
       "      <td>17.025000</td>\n",
       "      <td>20.207000</td>\n",
       "      <td>12.709000</td>\n",
       "      <td>16.374000</td>\n",
       "      <td>17.082000</td>\n",
       "      <td>16.018000</td>\n",
       "      <td>17.628000</td>\n",
       "      <td>784.090250</td>\n",
       "      <td>0.000000</td>\n",
       "    </tr>\n",
       "    <tr>\n",
       "      <th>max</th>\n",
       "      <td>385.860000</td>\n",
       "      <td>9.000000</td>\n",
       "      <td>9.000000</td>\n",
       "      <td>29.000000</td>\n",
       "      <td>29.000000</td>\n",
       "      <td>24.000000</td>\n",
       "      <td>21.499000</td>\n",
       "      <td>16.484000</td>\n",
       "      <td>21.425000</td>\n",
       "      <td>21.543000</td>\n",
       "      <td>...</td>\n",
       "      <td>15.412000</td>\n",
       "      <td>22.479000</td>\n",
       "      <td>25.640000</td>\n",
       "      <td>17.663000</td>\n",
       "      <td>22.713000</td>\n",
       "      <td>22.303000</td>\n",
       "      <td>21.626000</td>\n",
       "      <td>24.094000</td>\n",
       "      <td>1312.794000</td>\n",
       "      <td>1.000000</td>\n",
       "    </tr>\n",
       "  </tbody>\n",
       "</table>\n",
       "<p>8 rows × 22 columns</p>\n",
       "</div>"
      ],
      "text/plain": [
       "            loading   attribute_2   attribute_3  measurement_0  measurement_1  \\\n",
       "count  26320.000000  26570.000000  26570.000000   26570.000000   26570.000000   \n",
       "mean     127.826233      6.754046      7.240459       7.415883       8.232518   \n",
       "std       39.030020      1.471852      1.456493       4.116690       4.199401   \n",
       "min       33.160000      5.000000      5.000000       0.000000       0.000000   \n",
       "25%       99.987500      6.000000      6.000000       4.000000       5.000000   \n",
       "50%      122.390000      6.000000      8.000000       7.000000       8.000000   \n",
       "75%      149.152500      8.000000      8.000000      10.000000      11.000000   \n",
       "max      385.860000      9.000000      9.000000      29.000000      29.000000   \n",
       "\n",
       "       measurement_2  measurement_3  measurement_4  measurement_5  \\\n",
       "count   26570.000000   26189.000000   26032.000000   25894.000000   \n",
       "mean        6.256568      17.791528      11.731988      17.127804   \n",
       "std         3.309109       1.001200       0.996085       0.996414   \n",
       "min         0.000000      13.968000       8.008000      12.073000   \n",
       "25%         4.000000      17.117000      11.051000      16.443000   \n",
       "50%         6.000000      17.787000      11.733000      17.132000   \n",
       "75%         8.000000      18.469000      12.410000      17.805000   \n",
       "max        24.000000      21.499000      16.484000      21.425000   \n",
       "\n",
       "       measurement_6  ...  measurement_9  measurement_10  measurement_11  \\\n",
       "count   25774.000000  ...   25343.000000    25270.000000    25102.000000   \n",
       "mean       17.510759  ...      11.430725       16.117711       19.172085   \n",
       "std         0.995980  ...       0.999137        1.405978        1.520785   \n",
       "min        12.715000  ...       7.537000        9.323000       12.461000   \n",
       "25%        16.839000  ...      10.757000       15.209000       18.170000   \n",
       "50%        17.516000  ...      11.430000       16.127000       19.211500   \n",
       "75%        18.178000  ...      12.102000       17.025000       20.207000   \n",
       "max        21.543000  ...      15.412000       22.479000       25.640000   \n",
       "\n",
       "       measurement_12  measurement_13  measurement_14  measurement_15  \\\n",
       "count    24969.000000    24796.000000    24696.000000    24561.000000   \n",
       "mean        11.702464       15.652904       16.048444       14.995554   \n",
       "std          1.488838        1.155247        1.491923        1.549226   \n",
       "min          5.167000       10.890000        9.140000        9.104000   \n",
       "25%         10.703000       14.890000       15.057000       13.957000   \n",
       "50%         11.717000       15.628500       16.040000       14.969000   \n",
       "75%         12.709000       16.374000       17.082000       16.018000   \n",
       "max         17.663000       22.713000       22.303000       21.626000   \n",
       "\n",
       "       measurement_16  measurement_17       failure  \n",
       "count    24460.000000    24286.000000  26570.000000  \n",
       "mean        16.460727      701.269059      0.212608  \n",
       "std          1.708935      123.304161      0.409160  \n",
       "min          9.701000      196.787000      0.000000  \n",
       "25%         15.268000      618.961500      0.000000  \n",
       "50%         16.436000      701.024500      0.000000  \n",
       "75%         17.628000      784.090250      0.000000  \n",
       "max         24.094000     1312.794000      1.000000  \n",
       "\n",
       "[8 rows x 22 columns]"
      ]
     },
     "execution_count": 4,
     "metadata": {},
     "output_type": "execute_result"
    }
   ],
   "source": [
    "df_train_full.describe()"
   ]
  },
  {
   "cell_type": "markdown",
   "id": "b95a9b10",
   "metadata": {
    "papermill": {
     "duration": 0.018029,
     "end_time": "2022-10-07T13:20:35.929245",
     "exception": false,
     "start_time": "2022-10-07T13:20:35.911216",
     "status": "completed"
    },
    "tags": []
   },
   "source": [
    "### Ratio of the Failure on Train Set"
   ]
  },
  {
   "cell_type": "code",
   "execution_count": 5,
   "id": "be27aaf9",
   "metadata": {
    "execution": {
     "iopub.execute_input": "2022-10-07T13:20:35.968077Z",
     "iopub.status.busy": "2022-10-07T13:20:35.967191Z",
     "iopub.status.idle": "2022-10-07T13:20:36.115777Z",
     "shell.execute_reply": "2022-10-07T13:20:36.114469Z"
    },
    "papermill": {
     "duration": 0.170744,
     "end_time": "2022-10-07T13:20:36.118212",
     "exception": false,
     "start_time": "2022-10-07T13:20:35.947468",
     "status": "completed"
    },
    "tags": []
   },
   "outputs": [
    {
     "name": "stdout",
     "output_type": "stream",
     "text": [
      "0    20921\n",
      "1     5649\n",
      "Name: failure, dtype: int64\n"
     ]
    },
    {
     "data": {
      "text/plain": [
       "Text(0.5, 1.0, 'Failure Rate of Products on Training Set')"
      ]
     },
     "execution_count": 5,
     "metadata": {},
     "output_type": "execute_result"
    },
    {
     "data": {
      "image/png": "[encoded data removed]",
      "text/plain": [
       "<Figure size 360x360 with 1 Axes>"
      ]
     },
     "metadata": {},
     "output_type": "display_data"
    }
   ],
   "source": [
    "colors = [\"#22a7f0\",\"#c9e52f\"]\n",
    "labels = ['Normal', 'Failure']\n",
    "explode = [0,0.05]\n",
    "\n",
    "print(df_train_full.failure.value_counts())\n",
    "           \n",
    "plt.figure(figsize = (5,5))\n",
    "plt.pie(df_train_full.failure.value_counts(),explode=explode, labels=labels, colors=colors, autopct='%1.1f%%')\n",
    "plt.title(\"Failure Rate of Products on Training Set\", color = 'blue',fontsize = 14)"
   ]
  },
  {
   "cell_type": "markdown",
   "id": "1473776c",
   "metadata": {
    "papermill": {
     "duration": 0.018851,
     "end_time": "2022-10-07T13:20:36.156229",
     "exception": false,
     "start_time": "2022-10-07T13:20:36.137378",
     "status": "completed"
    },
    "tags": []
   },
   "source": [
    "### Ratio of Nan Values\n",
    "There is a lot of missing value. We will deal with them later."
   ]
  },
  {
   "cell_type": "code",
   "execution_count": 6,
   "id": "31a6d0bb",
   "metadata": {
    "execution": {
     "iopub.execute_input": "2022-10-07T13:20:36.196313Z",
     "iopub.status.busy": "2022-10-07T13:20:36.195118Z",
     "iopub.status.idle": "2022-10-07T13:20:36.286692Z",
     "shell.execute_reply": "2022-10-07T13:20:36.285346Z"
    },
    "papermill": {
     "duration": 0.11409,
     "end_time": "2022-10-07T13:20:36.289081",
     "exception": false,
     "start_time": "2022-10-07T13:20:36.174991",
     "status": "completed"
    },
    "tags": []
   },
   "outputs": [
    {
     "data": {
      "text/html": [
       "<style type=\"text/css\">\n",
       "#T_d8456_row0_col0, #T_d8456_row0_col1 {\n",
       "  background-color: #ffff00;\n",
       "  color: #000000;\n",
       "}\n",
       "#T_d8456_row1_col0, #T_d8456_row1_col1 {\n",
       "  background-color: #fefe10;\n",
       "  color: #000000;\n",
       "}\n",
       "#T_d8456_row2_col0, #T_d8456_row2_col1 {\n",
       "  background-color: #fdfd1a;\n",
       "  color: #000000;\n",
       "}\n",
       "#T_d8456_row3_col0, #T_d8456_row3_col1 {\n",
       "  background-color: #fdfd27;\n",
       "  color: #000000;\n",
       "}\n",
       "#T_d8456_row4_col0, #T_d8456_row4_col1 {\n",
       "  background-color: #fcfc31;\n",
       "  color: #000000;\n",
       "}\n",
       "#T_d8456_row5_col0, #T_d8456_row5_col1 {\n",
       "  background-color: #fbfb42;\n",
       "  color: #000000;\n",
       "}\n",
       "#T_d8456_row6_col0, #T_d8456_row6_col1 {\n",
       "  background-color: #fafa4f;\n",
       "  color: #000000;\n",
       "}\n",
       "#T_d8456_row7_col0, #T_d8456_row7_col1 {\n",
       "  background-color: #f9f95f;\n",
       "  color: #000000;\n",
       "}\n",
       "#T_d8456_row8_col0, #T_d8456_row8_col1 {\n",
       "  background-color: #f9f966;\n",
       "  color: #000000;\n",
       "}\n",
       "#T_d8456_row9_col0, #T_d8456_row9_col1 {\n",
       "  background-color: #f8f878;\n",
       "  color: #000000;\n",
       "}\n",
       "#T_d8456_row10_col0, #T_d8456_row10_col1 {\n",
       "  background-color: #f7f782;\n",
       "  color: #000000;\n",
       "}\n",
       "#T_d8456_row11_col0, #T_d8456_row11_col1 {\n",
       "  background-color: #f7f790;\n",
       "  color: #000000;\n",
       "}\n",
       "#T_d8456_row12_col0, #T_d8456_row12_col1 {\n",
       "  background-color: #f6f69c;\n",
       "  color: #000000;\n",
       "}\n",
       "#T_d8456_row13_col0, #T_d8456_row13_col1 {\n",
       "  background-color: #f5f5a9;\n",
       "  color: #000000;\n",
       "}\n",
       "#T_d8456_row14_col0, #T_d8456_row14_col1 {\n",
       "  background-color: #f4f4b9;\n",
       "  color: #000000;\n",
       "}\n",
       "#T_d8456_row15_col0, #T_d8456_row15_col1 {\n",
       "  background-color: #f3f3c5;\n",
       "  color: #000000;\n",
       "}\n",
       "#T_d8456_row16_col0, #T_d8456_row16_col1, #T_d8456_row17_col0, #T_d8456_row17_col1, #T_d8456_row18_col0, #T_d8456_row18_col1, #T_d8456_row19_col0, #T_d8456_row19_col1, #T_d8456_row20_col0, #T_d8456_row20_col1, #T_d8456_row21_col0, #T_d8456_row21_col1, #T_d8456_row22_col0, #T_d8456_row22_col1, #T_d8456_row23_col0, #T_d8456_row23_col1, #T_d8456_row24_col0, #T_d8456_row24_col1 {\n",
       "  background-color: #f2f2dd;\n",
       "  color: #000000;\n",
       "}\n",
       "</style>\n",
       "<table id=\"T_d8456_\">\n",
       "  <thead>\n",
       "    <tr>\n",
       "      <th class=\"blank level0\" >&nbsp;</th>\n",
       "      <th class=\"col_heading level0 col0\" >NaN Count</th>\n",
       "      <th class=\"col_heading level0 col1\" >NaN Ratio</th>\n",
       "    </tr>\n",
       "  </thead>\n",
       "  <tbody>\n",
       "    <tr>\n",
       "      <th id=\"T_d8456_level0_row0\" class=\"row_heading level0 row0\" >measurement_17</th>\n",
       "      <td id=\"T_d8456_row0_col0\" class=\"data row0 col0\" >2284</td>\n",
       "      <td id=\"T_d8456_row0_col1\" class=\"data row0 col1\" >0.085962</td>\n",
       "    </tr>\n",
       "    <tr>\n",
       "      <th id=\"T_d8456_level0_row1\" class=\"row_heading level0 row1\" >measurement_16</th>\n",
       "      <td id=\"T_d8456_row1_col0\" class=\"data row1 col0\" >2110</td>\n",
       "      <td id=\"T_d8456_row1_col1\" class=\"data row1 col1\" >0.079413</td>\n",
       "    </tr>\n",
       "    <tr>\n",
       "      <th id=\"T_d8456_level0_row2\" class=\"row_heading level0 row2\" >measurement_15</th>\n",
       "      <td id=\"T_d8456_row2_col0\" class=\"data row2 col0\" >2009</td>\n",
       "      <td id=\"T_d8456_row2_col1\" class=\"data row2 col1\" >0.075612</td>\n",
       "    </tr>\n",
       "    <tr>\n",
       "      <th id=\"T_d8456_level0_row3\" class=\"row_heading level0 row3\" >measurement_14</th>\n",
       "      <td id=\"T_d8456_row3_col0\" class=\"data row3 col0\" >1874</td>\n",
       "      <td id=\"T_d8456_row3_col1\" class=\"data row3 col1\" >0.070531</td>\n",
       "    </tr>\n",
       "    <tr>\n",
       "      <th id=\"T_d8456_level0_row4\" class=\"row_heading level0 row4\" >measurement_13</th>\n",
       "      <td id=\"T_d8456_row4_col0\" class=\"data row4 col0\" >1774</td>\n",
       "      <td id=\"T_d8456_row4_col1\" class=\"data row4 col1\" >0.066767</td>\n",
       "    </tr>\n",
       "    <tr>\n",
       "      <th id=\"T_d8456_level0_row5\" class=\"row_heading level0 row5\" >measurement_12</th>\n",
       "      <td id=\"T_d8456_row5_col0\" class=\"data row5 col0\" >1601</td>\n",
       "      <td id=\"T_d8456_row5_col1\" class=\"data row5 col1\" >0.060256</td>\n",
       "    </tr>\n",
       "    <tr>\n",
       "      <th id=\"T_d8456_level0_row6\" class=\"row_heading level0 row6\" >measurement_11</th>\n",
       "      <td id=\"T_d8456_row6_col0\" class=\"data row6 col0\" >1468</td>\n",
       "      <td id=\"T_d8456_row6_col1\" class=\"data row6 col1\" >0.055250</td>\n",
       "    </tr>\n",
       "    <tr>\n",
       "      <th id=\"T_d8456_level0_row7\" class=\"row_heading level0 row7\" >measurement_10</th>\n",
       "      <td id=\"T_d8456_row7_col0\" class=\"data row7 col0\" >1300</td>\n",
       "      <td id=\"T_d8456_row7_col1\" class=\"data row7 col1\" >0.048927</td>\n",
       "    </tr>\n",
       "    <tr>\n",
       "      <th id=\"T_d8456_level0_row8\" class=\"row_heading level0 row8\" >measurement_9</th>\n",
       "      <td id=\"T_d8456_row8_col0\" class=\"data row8 col0\" >1227</td>\n",
       "      <td id=\"T_d8456_row8_col1\" class=\"data row8 col1\" >0.046180</td>\n",
       "    </tr>\n",
       "    <tr>\n",
       "      <th id=\"T_d8456_level0_row9\" class=\"row_heading level0 row9\" >measurement_8</th>\n",
       "      <td id=\"T_d8456_row9_col0\" class=\"data row9 col0\" >1048</td>\n",
       "      <td id=\"T_d8456_row9_col1\" class=\"data row9 col1\" >0.039443</td>\n",
       "    </tr>\n",
       "    <tr>\n",
       "      <th id=\"T_d8456_level0_row10\" class=\"row_heading level0 row10\" >measurement_7</th>\n",
       "      <td id=\"T_d8456_row10_col0\" class=\"data row10 col0\" >937</td>\n",
       "      <td id=\"T_d8456_row10_col1\" class=\"data row10 col1\" >0.035265</td>\n",
       "    </tr>\n",
       "    <tr>\n",
       "      <th id=\"T_d8456_level0_row11\" class=\"row_heading level0 row11\" >measurement_6</th>\n",
       "      <td id=\"T_d8456_row11_col0\" class=\"data row11 col0\" >796</td>\n",
       "      <td id=\"T_d8456_row11_col1\" class=\"data row11 col1\" >0.029959</td>\n",
       "    </tr>\n",
       "    <tr>\n",
       "      <th id=\"T_d8456_level0_row12\" class=\"row_heading level0 row12\" >measurement_5</th>\n",
       "      <td id=\"T_d8456_row12_col0\" class=\"data row12 col0\" >676</td>\n",
       "      <td id=\"T_d8456_row12_col1\" class=\"data row12 col1\" >0.025442</td>\n",
       "    </tr>\n",
       "    <tr>\n",
       "      <th id=\"T_d8456_level0_row13\" class=\"row_heading level0 row13\" >measurement_4</th>\n",
       "      <td id=\"T_d8456_row13_col0\" class=\"data row13 col0\" >538</td>\n",
       "      <td id=\"T_d8456_row13_col1\" class=\"data row13 col1\" >0.020248</td>\n",
       "    </tr>\n",
       "    <tr>\n",
       "      <th id=\"T_d8456_level0_row14\" class=\"row_heading level0 row14\" >measurement_3</th>\n",
       "      <td id=\"T_d8456_row14_col0\" class=\"data row14 col0\" >381</td>\n",
       "      <td id=\"T_d8456_row14_col1\" class=\"data row14 col1\" >0.014339</td>\n",
       "    </tr>\n",
       "    <tr>\n",
       "      <th id=\"T_d8456_level0_row15\" class=\"row_heading level0 row15\" >loading</th>\n",
       "      <td id=\"T_d8456_row15_col0\" class=\"data row15 col0\" >250</td>\n",
       "      <td id=\"T_d8456_row15_col1\" class=\"data row15 col1\" >0.009409</td>\n",
       "    </tr>\n",
       "    <tr>\n",
       "      <th id=\"T_d8456_level0_row16\" class=\"row_heading level0 row16\" >product_code</th>\n",
       "      <td id=\"T_d8456_row16_col0\" class=\"data row16 col0\" >0</td>\n",
       "      <td id=\"T_d8456_row16_col1\" class=\"data row16 col1\" >0.000000</td>\n",
       "    </tr>\n",
       "    <tr>\n",
       "      <th id=\"T_d8456_level0_row17\" class=\"row_heading level0 row17\" >measurement_2</th>\n",
       "      <td id=\"T_d8456_row17_col0\" class=\"data row17 col0\" >0</td>\n",
       "      <td id=\"T_d8456_row17_col1\" class=\"data row17 col1\" >0.000000</td>\n",
       "    </tr>\n",
       "    <tr>\n",
       "      <th id=\"T_d8456_level0_row18\" class=\"row_heading level0 row18\" >measurement_1</th>\n",
       "      <td id=\"T_d8456_row18_col0\" class=\"data row18 col0\" >0</td>\n",
       "      <td id=\"T_d8456_row18_col1\" class=\"data row18 col1\" >0.000000</td>\n",
       "    </tr>\n",
       "    <tr>\n",
       "      <th id=\"T_d8456_level0_row19\" class=\"row_heading level0 row19\" >measurement_0</th>\n",
       "      <td id=\"T_d8456_row19_col0\" class=\"data row19 col0\" >0</td>\n",
       "      <td id=\"T_d8456_row19_col1\" class=\"data row19 col1\" >0.000000</td>\n",
       "    </tr>\n",
       "    <tr>\n",
       "      <th id=\"T_d8456_level0_row20\" class=\"row_heading level0 row20\" >attribute_3</th>\n",
       "      <td id=\"T_d8456_row20_col0\" class=\"data row20 col0\" >0</td>\n",
       "      <td id=\"T_d8456_row20_col1\" class=\"data row20 col1\" >0.000000</td>\n",
       "    </tr>\n",
       "    <tr>\n",
       "      <th id=\"T_d8456_level0_row21\" class=\"row_heading level0 row21\" >attribute_2</th>\n",
       "      <td id=\"T_d8456_row21_col0\" class=\"data row21 col0\" >0</td>\n",
       "      <td id=\"T_d8456_row21_col1\" class=\"data row21 col1\" >0.000000</td>\n",
       "    </tr>\n",
       "    <tr>\n",
       "      <th id=\"T_d8456_level0_row22\" class=\"row_heading level0 row22\" >attribute_1</th>\n",
       "      <td id=\"T_d8456_row22_col0\" class=\"data row22 col0\" >0</td>\n",
       "      <td id=\"T_d8456_row22_col1\" class=\"data row22 col1\" >0.000000</td>\n",
       "    </tr>\n",
       "    <tr>\n",
       "      <th id=\"T_d8456_level0_row23\" class=\"row_heading level0 row23\" >attribute_0</th>\n",
       "      <td id=\"T_d8456_row23_col0\" class=\"data row23 col0\" >0</td>\n",
       "      <td id=\"T_d8456_row23_col1\" class=\"data row23 col1\" >0.000000</td>\n",
       "    </tr>\n",
       "    <tr>\n",
       "      <th id=\"T_d8456_level0_row24\" class=\"row_heading level0 row24\" >failure</th>\n",
       "      <td id=\"T_d8456_row24_col0\" class=\"data row24 col0\" >0</td>\n",
       "      <td id=\"T_d8456_row24_col1\" class=\"data row24 col1\" >0.000000</td>\n",
       "    </tr>\n",
       "  </tbody>\n",
       "</table>\n"
      ],
      "text/plain": [
       "<pandas.io.formats.style.Styler at 0x7fca6a505690>"
      ]
     },
     "execution_count": 6,
     "metadata": {},
     "output_type": "execute_result"
    }
   ],
   "source": [
    "cm = sns.light_palette(\"yellow\", as_cmap=True)\n",
    "pd.DataFrame({\"NaN Count\": df_train_full.isna().sum(),\n",
    "              \"NaN Ratio\": df_train_full.isna().sum()/len(df_train_full)}).sort_values(by=\"NaN Count\",\n",
    "                                                                 ascending=False).style.background_gradient(cmap=cm)"
   ]
  },
  {
   "cell_type": "markdown",
   "id": "20afccf8",
   "metadata": {
    "papermill": {
     "duration": 0.019629,
     "end_time": "2022-10-07T13:20:36.327307",
     "exception": false,
     "start_time": "2022-10-07T13:20:36.307678",
     "status": "completed"
    },
    "tags": []
   },
   "source": [
    "<a id=\"3\"></a> <br>\n",
    "## 1.A. Create Train and Test Sets"
   ]
  },
  {
   "cell_type": "code",
   "execution_count": 7,
   "id": "816f7bcd",
   "metadata": {
    "execution": {
     "iopub.execute_input": "2022-10-07T13:20:36.366374Z",
     "iopub.status.busy": "2022-10-07T13:20:36.365988Z",
     "iopub.status.idle": "2022-10-07T13:20:36.386752Z",
     "shell.execute_reply": "2022-10-07T13:20:36.385558Z"
    },
    "papermill": {
     "duration": 0.043821,
     "end_time": "2022-10-07T13:20:36.389722",
     "exception": false,
     "start_time": "2022-10-07T13:20:36.345901",
     "status": "completed"
    },
    "tags": []
   },
   "outputs": [],
   "source": [
    "from sklearn.model_selection import train_test_split\n",
    "\n",
    "random_state=42\n",
    "\n",
    "y = df_train_full[\"failure\"]  # save target\n",
    "# df_train_full.drop(['failure'], axis=1, inplace=True) # drop target\n",
    "df_train = df_train_full.drop(['failure'], axis=1)\n",
    "\n",
    "test_size = 0.2\n",
    "x_train, x_val, y_train, y_val = train_test_split(df_train, y , test_size = test_size, random_state=random_state)"
   ]
  },
  {
   "cell_type": "code",
   "execution_count": 8,
   "id": "75d2067e",
   "metadata": {
    "execution": {
     "iopub.execute_input": "2022-10-07T13:20:36.429373Z",
     "iopub.status.busy": "2022-10-07T13:20:36.428732Z",
     "iopub.status.idle": "2022-10-07T13:20:36.436272Z",
     "shell.execute_reply": "2022-10-07T13:20:36.434387Z"
    },
    "papermill": {
     "duration": 0.030378,
     "end_time": "2022-10-07T13:20:36.438958",
     "exception": false,
     "start_time": "2022-10-07T13:20:36.408580",
     "status": "completed"
    },
    "tags": []
   },
   "outputs": [
    {
     "name": "stdout",
     "output_type": "stream",
     "text": [
      "x_train.shape:  (21256, 24)\n",
      "y_train.shape:  (21256,)\n",
      "x_val.shape:  (5314, 24)\n",
      "y_val.shape:  (5314,)\n"
     ]
    }
   ],
   "source": [
    "print(\"x_train.shape: \",x_train.shape)\n",
    "print(\"y_train.shape: \",y_train.shape)\n",
    "print(\"x_val.shape: \",x_val.shape)\n",
    "print(\"y_val.shape: \",y_val.shape)"
   ]
  },
  {
   "cell_type": "code",
   "execution_count": 9,
   "id": "ade60f1f",
   "metadata": {
    "execution": {
     "iopub.execute_input": "2022-10-07T13:20:36.479177Z",
     "iopub.status.busy": "2022-10-07T13:20:36.478513Z",
     "iopub.status.idle": "2022-10-07T13:20:36.506529Z",
     "shell.execute_reply": "2022-10-07T13:20:36.505286Z"
    },
    "papermill": {
     "duration": 0.051609,
     "end_time": "2022-10-07T13:20:36.509160",
     "exception": false,
     "start_time": "2022-10-07T13:20:36.457551",
     "status": "completed"
    },
    "tags": []
   },
   "outputs": [
    {
     "data": {
      "text/html": [
       "<div>\n",
       "<style scoped>\n",
       "    .dataframe tbody tr th:only-of-type {\n",
       "        vertical-align: middle;\n",
       "    }\n",
       "\n",
       "    .dataframe tbody tr th {\n",
       "        vertical-align: top;\n",
       "    }\n",
       "\n",
       "    .dataframe thead th {\n",
       "        text-align: right;\n",
       "    }\n",
       "</style>\n",
       "<table border=\"1\" class=\"dataframe\">\n",
       "  <thead>\n",
       "    <tr style=\"text-align: right;\">\n",
       "      <th></th>\n",
       "      <th>product_code</th>\n",
       "      <th>loading</th>\n",
       "      <th>attribute_0</th>\n",
       "      <th>attribute_1</th>\n",
       "      <th>attribute_2</th>\n",
       "      <th>attribute_3</th>\n",
       "      <th>measurement_0</th>\n",
       "      <th>measurement_1</th>\n",
       "      <th>measurement_2</th>\n",
       "      <th>measurement_3</th>\n",
       "      <th>...</th>\n",
       "      <th>measurement_8</th>\n",
       "      <th>measurement_9</th>\n",
       "      <th>measurement_10</th>\n",
       "      <th>measurement_11</th>\n",
       "      <th>measurement_12</th>\n",
       "      <th>measurement_13</th>\n",
       "      <th>measurement_14</th>\n",
       "      <th>measurement_15</th>\n",
       "      <th>measurement_16</th>\n",
       "      <th>measurement_17</th>\n",
       "    </tr>\n",
       "    <tr>\n",
       "      <th>id</th>\n",
       "      <th></th>\n",
       "      <th></th>\n",
       "      <th></th>\n",
       "      <th></th>\n",
       "      <th></th>\n",
       "      <th></th>\n",
       "      <th></th>\n",
       "      <th></th>\n",
       "      <th></th>\n",
       "      <th></th>\n",
       "      <th></th>\n",
       "      <th></th>\n",
       "      <th></th>\n",
       "      <th></th>\n",
       "      <th></th>\n",
       "      <th></th>\n",
       "      <th></th>\n",
       "      <th></th>\n",
       "      <th></th>\n",
       "      <th></th>\n",
       "      <th></th>\n",
       "    </tr>\n",
       "  </thead>\n",
       "  <tbody>\n",
       "    <tr>\n",
       "      <th>0</th>\n",
       "      <td>A</td>\n",
       "      <td>80.10</td>\n",
       "      <td>material_7</td>\n",
       "      <td>material_8</td>\n",
       "      <td>9</td>\n",
       "      <td>5</td>\n",
       "      <td>7</td>\n",
       "      <td>8</td>\n",
       "      <td>4</td>\n",
       "      <td>18.040</td>\n",
       "      <td>...</td>\n",
       "      <td>20.155</td>\n",
       "      <td>10.672</td>\n",
       "      <td>15.859</td>\n",
       "      <td>17.594</td>\n",
       "      <td>15.193</td>\n",
       "      <td>15.029</td>\n",
       "      <td>NaN</td>\n",
       "      <td>13.034</td>\n",
       "      <td>14.684</td>\n",
       "      <td>764.100</td>\n",
       "    </tr>\n",
       "    <tr>\n",
       "      <th>1</th>\n",
       "      <td>A</td>\n",
       "      <td>84.89</td>\n",
       "      <td>material_7</td>\n",
       "      <td>material_8</td>\n",
       "      <td>9</td>\n",
       "      <td>5</td>\n",
       "      <td>14</td>\n",
       "      <td>3</td>\n",
       "      <td>3</td>\n",
       "      <td>18.213</td>\n",
       "      <td>...</td>\n",
       "      <td>17.889</td>\n",
       "      <td>12.448</td>\n",
       "      <td>17.947</td>\n",
       "      <td>17.915</td>\n",
       "      <td>11.755</td>\n",
       "      <td>14.732</td>\n",
       "      <td>15.425</td>\n",
       "      <td>14.395</td>\n",
       "      <td>15.631</td>\n",
       "      <td>682.057</td>\n",
       "    </tr>\n",
       "    <tr>\n",
       "      <th>2</th>\n",
       "      <td>A</td>\n",
       "      <td>82.43</td>\n",
       "      <td>material_7</td>\n",
       "      <td>material_8</td>\n",
       "      <td>9</td>\n",
       "      <td>5</td>\n",
       "      <td>12</td>\n",
       "      <td>1</td>\n",
       "      <td>5</td>\n",
       "      <td>18.057</td>\n",
       "      <td>...</td>\n",
       "      <td>18.288</td>\n",
       "      <td>12.715</td>\n",
       "      <td>15.607</td>\n",
       "      <td>NaN</td>\n",
       "      <td>13.798</td>\n",
       "      <td>16.711</td>\n",
       "      <td>18.631</td>\n",
       "      <td>14.094</td>\n",
       "      <td>17.946</td>\n",
       "      <td>663.376</td>\n",
       "    </tr>\n",
       "    <tr>\n",
       "      <th>3</th>\n",
       "      <td>A</td>\n",
       "      <td>101.07</td>\n",
       "      <td>material_7</td>\n",
       "      <td>material_8</td>\n",
       "      <td>9</td>\n",
       "      <td>5</td>\n",
       "      <td>13</td>\n",
       "      <td>2</td>\n",
       "      <td>6</td>\n",
       "      <td>17.295</td>\n",
       "      <td>...</td>\n",
       "      <td>19.060</td>\n",
       "      <td>12.471</td>\n",
       "      <td>16.346</td>\n",
       "      <td>18.377</td>\n",
       "      <td>10.020</td>\n",
       "      <td>15.250</td>\n",
       "      <td>15.562</td>\n",
       "      <td>16.154</td>\n",
       "      <td>17.172</td>\n",
       "      <td>826.282</td>\n",
       "    </tr>\n",
       "    <tr>\n",
       "      <th>4</th>\n",
       "      <td>A</td>\n",
       "      <td>188.06</td>\n",
       "      <td>material_7</td>\n",
       "      <td>material_8</td>\n",
       "      <td>9</td>\n",
       "      <td>5</td>\n",
       "      <td>9</td>\n",
       "      <td>2</td>\n",
       "      <td>8</td>\n",
       "      <td>19.346</td>\n",
       "      <td>...</td>\n",
       "      <td>18.093</td>\n",
       "      <td>10.337</td>\n",
       "      <td>17.082</td>\n",
       "      <td>19.932</td>\n",
       "      <td>12.428</td>\n",
       "      <td>16.182</td>\n",
       "      <td>12.760</td>\n",
       "      <td>13.153</td>\n",
       "      <td>16.412</td>\n",
       "      <td>579.885</td>\n",
       "    </tr>\n",
       "  </tbody>\n",
       "</table>\n",
       "<p>5 rows × 24 columns</p>\n",
       "</div>"
      ],
      "text/plain": [
       "   product_code  loading attribute_0 attribute_1  attribute_2  attribute_3  \\\n",
       "id                                                                           \n",
       "0             A    80.10  material_7  material_8            9            5   \n",
       "1             A    84.89  material_7  material_8            9            5   \n",
       "2             A    82.43  material_7  material_8            9            5   \n",
       "3             A   101.07  material_7  material_8            9            5   \n",
       "4             A   188.06  material_7  material_8            9            5   \n",
       "\n",
       "    measurement_0  measurement_1  measurement_2  measurement_3  ...  \\\n",
       "id                                                              ...   \n",
       "0               7              8              4         18.040  ...   \n",
       "1              14              3              3         18.213  ...   \n",
       "2              12              1              5         18.057  ...   \n",
       "3              13              2              6         17.295  ...   \n",
       "4               9              2              8         19.346  ...   \n",
       "\n",
       "    measurement_8  measurement_9  measurement_10  measurement_11  \\\n",
       "id                                                                 \n",
       "0          20.155         10.672          15.859          17.594   \n",
       "1          17.889         12.448          17.947          17.915   \n",
       "2          18.288         12.715          15.607             NaN   \n",
       "3          19.060         12.471          16.346          18.377   \n",
       "4          18.093         10.337          17.082          19.932   \n",
       "\n",
       "    measurement_12  measurement_13  measurement_14  measurement_15  \\\n",
       "id                                                                   \n",
       "0           15.193          15.029             NaN          13.034   \n",
       "1           11.755          14.732          15.425          14.395   \n",
       "2           13.798          16.711          18.631          14.094   \n",
       "3           10.020          15.250          15.562          16.154   \n",
       "4           12.428          16.182          12.760          13.153   \n",
       "\n",
       "    measurement_16  measurement_17  \n",
       "id                                  \n",
       "0           14.684         764.100  \n",
       "1           15.631         682.057  \n",
       "2           17.946         663.376  \n",
       "3           17.172         826.282  \n",
       "4           16.412         579.885  \n",
       "\n",
       "[5 rows x 24 columns]"
      ]
     },
     "execution_count": 9,
     "metadata": {},
     "output_type": "execute_result"
    }
   ],
   "source": [
    "df_train.head()"
   ]
  },
  {
   "cell_type": "markdown",
   "id": "00a37a1a",
   "metadata": {
    "papermill": {
     "duration": 0.018875,
     "end_time": "2022-10-07T13:20:36.547650",
     "exception": false,
     "start_time": "2022-10-07T13:20:36.528775",
     "status": "completed"
    },
    "tags": []
   },
   "source": [
    "**What's the ratio of failure numbers, after splitting data?**"
   ]
  },
  {
   "cell_type": "code",
   "execution_count": 10,
   "id": "9099ee8e",
   "metadata": {
    "execution": {
     "iopub.execute_input": "2022-10-07T13:20:36.588191Z",
     "iopub.status.busy": "2022-10-07T13:20:36.587774Z",
     "iopub.status.idle": "2022-10-07T13:20:36.617664Z",
     "shell.execute_reply": "2022-10-07T13:20:36.616568Z"
    },
    "papermill": {
     "duration": 0.053146,
     "end_time": "2022-10-07T13:20:36.620207",
     "exception": false,
     "start_time": "2022-10-07T13:20:36.567061",
     "status": "completed"
    },
    "tags": []
   },
   "outputs": [
    {
     "data": {
      "text/html": [
       "<div>\n",
       "<style scoped>\n",
       "    .dataframe tbody tr th:only-of-type {\n",
       "        vertical-align: middle;\n",
       "    }\n",
       "\n",
       "    .dataframe tbody tr th {\n",
       "        vertical-align: top;\n",
       "    }\n",
       "\n",
       "    .dataframe thead th {\n",
       "        text-align: right;\n",
       "    }\n",
       "</style>\n",
       "<table border=\"1\" class=\"dataframe\">\n",
       "  <thead>\n",
       "    <tr style=\"text-align: right;\">\n",
       "      <th></th>\n",
       "      <th>product_code</th>\n",
       "      <th>loading</th>\n",
       "      <th>attribute_0</th>\n",
       "      <th>attribute_1</th>\n",
       "      <th>attribute_2</th>\n",
       "      <th>attribute_3</th>\n",
       "      <th>measurement_0</th>\n",
       "      <th>measurement_1</th>\n",
       "      <th>measurement_2</th>\n",
       "      <th>measurement_3</th>\n",
       "      <th>...</th>\n",
       "      <th>measurement_8</th>\n",
       "      <th>measurement_9</th>\n",
       "      <th>measurement_10</th>\n",
       "      <th>measurement_11</th>\n",
       "      <th>measurement_12</th>\n",
       "      <th>measurement_13</th>\n",
       "      <th>measurement_14</th>\n",
       "      <th>measurement_15</th>\n",
       "      <th>measurement_16</th>\n",
       "      <th>measurement_17</th>\n",
       "    </tr>\n",
       "    <tr>\n",
       "      <th>id</th>\n",
       "      <th></th>\n",
       "      <th></th>\n",
       "      <th></th>\n",
       "      <th></th>\n",
       "      <th></th>\n",
       "      <th></th>\n",
       "      <th></th>\n",
       "      <th></th>\n",
       "      <th></th>\n",
       "      <th></th>\n",
       "      <th></th>\n",
       "      <th></th>\n",
       "      <th></th>\n",
       "      <th></th>\n",
       "      <th></th>\n",
       "      <th></th>\n",
       "      <th></th>\n",
       "      <th></th>\n",
       "      <th></th>\n",
       "      <th></th>\n",
       "      <th></th>\n",
       "    </tr>\n",
       "  </thead>\n",
       "  <tbody>\n",
       "    <tr>\n",
       "      <th>4031</th>\n",
       "      <td>A</td>\n",
       "      <td>125.77</td>\n",
       "      <td>material_7</td>\n",
       "      <td>material_8</td>\n",
       "      <td>9</td>\n",
       "      <td>5</td>\n",
       "      <td>13</td>\n",
       "      <td>1</td>\n",
       "      <td>3</td>\n",
       "      <td>16.957</td>\n",
       "      <td>...</td>\n",
       "      <td>21.896</td>\n",
       "      <td>NaN</td>\n",
       "      <td>14.837</td>\n",
       "      <td>17.120</td>\n",
       "      <td>13.848</td>\n",
       "      <td>16.205</td>\n",
       "      <td>14.036</td>\n",
       "      <td>12.391</td>\n",
       "      <td>15.069</td>\n",
       "      <td>879.008</td>\n",
       "    </tr>\n",
       "    <tr>\n",
       "      <th>2375</th>\n",
       "      <td>A</td>\n",
       "      <td>108.12</td>\n",
       "      <td>material_7</td>\n",
       "      <td>material_8</td>\n",
       "      <td>9</td>\n",
       "      <td>5</td>\n",
       "      <td>14</td>\n",
       "      <td>8</td>\n",
       "      <td>7</td>\n",
       "      <td>18.219</td>\n",
       "      <td>...</td>\n",
       "      <td>NaN</td>\n",
       "      <td>11.097</td>\n",
       "      <td>16.114</td>\n",
       "      <td>19.780</td>\n",
       "      <td>11.668</td>\n",
       "      <td>14.948</td>\n",
       "      <td>18.790</td>\n",
       "      <td>13.674</td>\n",
       "      <td>17.019</td>\n",
       "      <td>760.411</td>\n",
       "    </tr>\n",
       "    <tr>\n",
       "      <th>13904</th>\n",
       "      <td>C</td>\n",
       "      <td>190.34</td>\n",
       "      <td>material_7</td>\n",
       "      <td>material_8</td>\n",
       "      <td>5</td>\n",
       "      <td>8</td>\n",
       "      <td>16</td>\n",
       "      <td>11</td>\n",
       "      <td>10</td>\n",
       "      <td>17.512</td>\n",
       "      <td>...</td>\n",
       "      <td>18.780</td>\n",
       "      <td>10.582</td>\n",
       "      <td>15.999</td>\n",
       "      <td>18.201</td>\n",
       "      <td>10.160</td>\n",
       "      <td>16.337</td>\n",
       "      <td>16.701</td>\n",
       "      <td>15.145</td>\n",
       "      <td>16.283</td>\n",
       "      <td>675.360</td>\n",
       "    </tr>\n",
       "    <tr>\n",
       "      <th>18772</th>\n",
       "      <td>D</td>\n",
       "      <td>132.96</td>\n",
       "      <td>material_7</td>\n",
       "      <td>material_5</td>\n",
       "      <td>6</td>\n",
       "      <td>6</td>\n",
       "      <td>8</td>\n",
       "      <td>8</td>\n",
       "      <td>5</td>\n",
       "      <td>18.077</td>\n",
       "      <td>...</td>\n",
       "      <td>20.289</td>\n",
       "      <td>11.254</td>\n",
       "      <td>19.852</td>\n",
       "      <td>18.620</td>\n",
       "      <td>12.750</td>\n",
       "      <td>15.698</td>\n",
       "      <td>17.998</td>\n",
       "      <td>NaN</td>\n",
       "      <td>17.994</td>\n",
       "      <td>966.597</td>\n",
       "    </tr>\n",
       "    <tr>\n",
       "      <th>3884</th>\n",
       "      <td>A</td>\n",
       "      <td>108.12</td>\n",
       "      <td>material_7</td>\n",
       "      <td>material_8</td>\n",
       "      <td>9</td>\n",
       "      <td>5</td>\n",
       "      <td>11</td>\n",
       "      <td>5</td>\n",
       "      <td>4</td>\n",
       "      <td>18.878</td>\n",
       "      <td>...</td>\n",
       "      <td>18.192</td>\n",
       "      <td>10.980</td>\n",
       "      <td>14.872</td>\n",
       "      <td>21.283</td>\n",
       "      <td>11.759</td>\n",
       "      <td>16.563</td>\n",
       "      <td>17.046</td>\n",
       "      <td>14.296</td>\n",
       "      <td>14.557</td>\n",
       "      <td>566.990</td>\n",
       "    </tr>\n",
       "  </tbody>\n",
       "</table>\n",
       "<p>5 rows × 24 columns</p>\n",
       "</div>"
      ],
      "text/plain": [
       "      product_code  loading attribute_0 attribute_1  attribute_2  attribute_3  \\\n",
       "id                                                                              \n",
       "4031             A   125.77  material_7  material_8            9            5   \n",
       "2375             A   108.12  material_7  material_8            9            5   \n",
       "13904            C   190.34  material_7  material_8            5            8   \n",
       "18772            D   132.96  material_7  material_5            6            6   \n",
       "3884             A   108.12  material_7  material_8            9            5   \n",
       "\n",
       "       measurement_0  measurement_1  measurement_2  measurement_3  ...  \\\n",
       "id                                                                 ...   \n",
       "4031              13              1              3         16.957  ...   \n",
       "2375              14              8              7         18.219  ...   \n",
       "13904             16             11             10         17.512  ...   \n",
       "18772              8              8              5         18.077  ...   \n",
       "3884              11              5              4         18.878  ...   \n",
       "\n",
       "       measurement_8  measurement_9  measurement_10  measurement_11  \\\n",
       "id                                                                    \n",
       "4031          21.896            NaN          14.837          17.120   \n",
       "2375             NaN         11.097          16.114          19.780   \n",
       "13904         18.780         10.582          15.999          18.201   \n",
       "18772         20.289         11.254          19.852          18.620   \n",
       "3884          18.192         10.980          14.872          21.283   \n",
       "\n",
       "       measurement_12  measurement_13  measurement_14  measurement_15  \\\n",
       "id                                                                      \n",
       "4031           13.848          16.205          14.036          12.391   \n",
       "2375           11.668          14.948          18.790          13.674   \n",
       "13904          10.160          16.337          16.701          15.145   \n",
       "18772          12.750          15.698          17.998             NaN   \n",
       "3884           11.759          16.563          17.046          14.296   \n",
       "\n",
       "       measurement_16  measurement_17  \n",
       "id                                     \n",
       "4031           15.069         879.008  \n",
       "2375           17.019         760.411  \n",
       "13904          16.283         675.360  \n",
       "18772          17.994         966.597  \n",
       "3884           14.557         566.990  \n",
       "\n",
       "[5 rows x 24 columns]"
      ]
     },
     "execution_count": 10,
     "metadata": {},
     "output_type": "execute_result"
    }
   ],
   "source": [
    "x_train.head()"
   ]
  },
  {
   "cell_type": "code",
   "execution_count": 11,
   "id": "348cbfae",
   "metadata": {
    "execution": {
     "iopub.execute_input": "2022-10-07T13:20:36.661733Z",
     "iopub.status.busy": "2022-10-07T13:20:36.661326Z",
     "iopub.status.idle": "2022-10-07T13:20:36.840353Z",
     "shell.execute_reply": "2022-10-07T13:20:36.838735Z"
    },
    "papermill": {
     "duration": 0.202865,
     "end_time": "2022-10-07T13:20:36.843077",
     "exception": false,
     "start_time": "2022-10-07T13:20:36.640212",
     "status": "completed"
    },
    "tags": []
   },
   "outputs": [
    {
     "name": "stdout",
     "output_type": "stream",
     "text": [
      "Failure Rate on Splitted Training Set\n",
      " 0    16664\n",
      "1     4592\n",
      "Name: failure, dtype: int64\n"
     ]
    },
    {
     "data": {
      "text/plain": [
       "Text(0.5, 1.0, 'Failure Rate on Training Set')"
      ]
     },
     "execution_count": 11,
     "metadata": {},
     "output_type": "execute_result"
    },
    {
     "data": {
      "image/png": "[encoded data removed]",
      "text/plain": [
       "<Figure size 720x360 with 2 Axes>"
      ]
     },
     "metadata": {},
     "output_type": "display_data"
    }
   ],
   "source": [
    "print(\"Failure Rate on Splitted Training Set\\n\",y_train.value_counts())\n",
    "           \n",
    "plt.figure(figsize = (10,5))\n",
    "\n",
    "plt.subplot(1,2,1)\n",
    "plt.pie(y_train.value_counts(),explode=explode, labels=labels, colors=colors, autopct='%1.1f%%')\n",
    "plt.title(\"Failure Rate on Splitted Training Set\", color = 'blue',fontsize = 14)\n",
    "\n",
    "plt.subplot(1,2,2)\n",
    "plt.pie(df_train_full.failure.value_counts(),explode=explode, labels=labels, colors=colors, autopct='%1.1f%%')\n",
    "plt.title(\"Failure Rate on Training Set\", color = 'Red',fontsize = 14)"
   ]
  },
  {
   "cell_type": "markdown",
   "id": "73e2cac6",
   "metadata": {
    "papermill": {
     "duration": 0.020422,
     "end_time": "2022-10-07T13:20:36.884032",
     "exception": false,
     "start_time": "2022-10-07T13:20:36.863610",
     "status": "completed"
    },
    "tags": []
   },
   "source": [
    "<a id=\"3\"></a> <br>\n",
    "# 2. EDA"
   ]
  },
  {
   "cell_type": "code",
   "execution_count": 12,
   "id": "d6dc48f1",
   "metadata": {
    "execution": {
     "iopub.execute_input": "2022-10-07T13:20:36.927296Z",
     "iopub.status.busy": "2022-10-07T13:20:36.926901Z",
     "iopub.status.idle": "2022-10-07T13:20:36.945799Z",
     "shell.execute_reply": "2022-10-07T13:20:36.944459Z"
    },
    "papermill": {
     "duration": 0.044944,
     "end_time": "2022-10-07T13:20:36.949730",
     "exception": false,
     "start_time": "2022-10-07T13:20:36.904786",
     "status": "completed"
    },
    "tags": []
   },
   "outputs": [
    {
     "name": "stdout",
     "output_type": "stream",
     "text": [
      "\n",
      " product_code\n",
      "C    4615\n",
      "E    4251\n",
      "B    4175\n",
      "D    4144\n",
      "A    4071\n",
      "Name: product_code, dtype: int64\n",
      "\n",
      " attribute_0\n",
      "material_7    17081\n",
      "material_5     4175\n",
      "Name: attribute_0, dtype: int64\n",
      "\n",
      " attribute_1\n",
      "material_8    8686\n",
      "material_5    8319\n",
      "material_6    4251\n",
      "Name: attribute_1, dtype: int64\n",
      "\n",
      " attribute_2\n",
      "6    8395\n",
      "5    4615\n",
      "8    4175\n",
      "9    4071\n",
      "Name: attribute_2, dtype: int64\n",
      "\n",
      " attribute_3\n",
      "8    8790\n",
      "9    4251\n",
      "6    4144\n",
      "5    4071\n",
      "Name: attribute_3, dtype: int64\n"
     ]
    }
   ],
   "source": [
    "for column in x_train.columns:\n",
    "    if x_train[column].dtypes == \"object\":\n",
    "        print(\"\\n\",column)\n",
    "        print(x_train[column].value_counts())\n",
    "\n",
    "attributes = [\"attribute_2\", \"attribute_3\"]\n",
    "print(\"\\n\",attributes[0])\n",
    "print(x_train[attributes[0]].value_counts())\n",
    "print(\"\\n\",attributes[1])\n",
    "print(x_train[attributes[1]].value_counts())\n",
    "\n",
    "# categorical_columns = \n",
    "\n",
    "# cm = sns.light_palette(\"red\", as_cmap=True)\n",
    "# pd.DataFrame({\"NaN Count\": df.isna().sum(),\n",
    "#               \"NaN Ratio\": df.isna().sum()/len(df)}).sort_values(by=\"NaN Count\",\n",
    "#                                                                  ascending=False).style.background_gradient(cmap=cm)"
   ]
  },
  {
   "cell_type": "markdown",
   "id": "e4a383cb",
   "metadata": {
    "papermill": {
     "duration": 0.020079,
     "end_time": "2022-10-07T13:20:36.991339",
     "exception": false,
     "start_time": "2022-10-07T13:20:36.971260",
     "status": "completed"
    },
    "tags": []
   },
   "source": [
    "<a id=\"4\"></a> <br>\n",
    "## 2. Missing Values"
   ]
  },
  {
   "cell_type": "code",
   "execution_count": 13,
   "id": "3ff0dfdb",
   "metadata": {
    "execution": {
     "iopub.execute_input": "2022-10-07T13:20:37.034077Z",
     "iopub.status.busy": "2022-10-07T13:20:37.033367Z",
     "iopub.status.idle": "2022-10-07T13:20:37.047191Z",
     "shell.execute_reply": "2022-10-07T13:20:37.046202Z"
    },
    "papermill": {
     "duration": 0.037604,
     "end_time": "2022-10-07T13:20:37.049348",
     "exception": false,
     "start_time": "2022-10-07T13:20:37.011744",
     "status": "completed"
    },
    "tags": []
   },
   "outputs": [
    {
     "data": {
      "text/plain": [
       "product_code         0\n",
       "loading            207\n",
       "attribute_0          0\n",
       "attribute_1          0\n",
       "attribute_2          0\n",
       "attribute_3          0\n",
       "measurement_0        0\n",
       "measurement_1        0\n",
       "measurement_2        0\n",
       "measurement_3      293\n",
       "measurement_4      439\n",
       "measurement_5      539\n",
       "measurement_6      627\n",
       "measurement_7      738\n",
       "measurement_8      852\n",
       "measurement_9      972\n",
       "measurement_10    1042\n",
       "measurement_11    1153\n",
       "measurement_12    1315\n",
       "measurement_13    1401\n",
       "measurement_14    1496\n",
       "measurement_15    1623\n",
       "measurement_16    1699\n",
       "measurement_17    1837\n",
       "dtype: int64"
      ]
     },
     "execution_count": 13,
     "metadata": {},
     "output_type": "execute_result"
    }
   ],
   "source": [
    "x_train.isnull().sum()"
   ]
  },
  {
   "cell_type": "markdown",
   "id": "4f0f5eb5",
   "metadata": {
    "papermill": {
     "duration": 0.019965,
     "end_time": "2022-10-07T13:20:37.089692",
     "exception": false,
     "start_time": "2022-10-07T13:20:37.069727",
     "status": "completed"
    },
    "tags": []
   },
   "source": [
    "<div class=\"alert alert-block alert-warning\">\n",
    "<b>Remember:</b> Null Values can be a sign of failure.\n",
    "</div>"
   ]
  },
  {
   "cell_type": "code",
   "execution_count": 14,
   "id": "339f09dc",
   "metadata": {
    "execution": {
     "iopub.execute_input": "2022-10-07T13:20:37.132674Z",
     "iopub.status.busy": "2022-10-07T13:20:37.131815Z",
     "iopub.status.idle": "2022-10-07T13:20:37.149389Z",
     "shell.execute_reply": "2022-10-07T13:20:37.147970Z"
    },
    "papermill": {
     "duration": 0.041935,
     "end_time": "2022-10-07T13:20:37.151929",
     "exception": false,
     "start_time": "2022-10-07T13:20:37.109994",
     "status": "completed"
    },
    "tags": []
   },
   "outputs": [
    {
     "data": {
      "text/plain": [
       "['loading',\n",
       " 'measurement_3',\n",
       " 'measurement_4',\n",
       " 'measurement_5',\n",
       " 'measurement_6',\n",
       " 'measurement_7',\n",
       " 'measurement_8',\n",
       " 'measurement_9',\n",
       " 'measurement_10',\n",
       " 'measurement_11',\n",
       " 'measurement_12',\n",
       " 'measurement_13',\n",
       " 'measurement_14',\n",
       " 'measurement_15',\n",
       " 'measurement_16',\n",
       " 'measurement_17']"
      ]
     },
     "execution_count": 14,
     "metadata": {},
     "output_type": "execute_result"
    }
   ],
   "source": [
    "cols_with_missing = [col for col in df_train.columns if df_train[col].isnull().any()]\n",
    "cols_with_missing"
   ]
  },
  {
   "cell_type": "code",
   "execution_count": 15,
   "id": "e8ec734f",
   "metadata": {
    "execution": {
     "iopub.execute_input": "2022-10-07T13:20:37.198675Z",
     "iopub.status.busy": "2022-10-07T13:20:37.197357Z",
     "iopub.status.idle": "2022-10-07T13:20:37.204948Z",
     "shell.execute_reply": "2022-10-07T13:20:37.203128Z"
    },
    "papermill": {
     "duration": 0.036009,
     "end_time": "2022-10-07T13:20:37.208717",
     "exception": false,
     "start_time": "2022-10-07T13:20:37.172708",
     "status": "completed"
    },
    "tags": []
   },
   "outputs": [
    {
     "name": "stdout",
     "output_type": "stream",
     "text": [
      "['loading_was_missing', 'measurement_3_was_missing', 'measurement_4_was_missing', 'measurement_5_was_missing', 'measurement_6_was_missing', 'measurement_7_was_missing', 'measurement_8_was_missing', 'measurement_9_was_missing', 'measurement_10_was_missing', 'measurement_11_was_missing', 'measurement_12_was_missing', 'measurement_13_was_missing', 'measurement_14_was_missing', 'measurement_15_was_missing', 'measurement_16_was_missing', 'measurement_17_was_missing']\n"
     ]
    }
   ],
   "source": [
    "# new columns for missing columns\n",
    "new_columns = []\n",
    "for col in cols_with_missing:\n",
    "    new_columns.append(f\"{col}_was_missing\")\n",
    "\n",
    "print(new_columns)"
   ]
  },
  {
   "cell_type": "code",
   "execution_count": 16,
   "id": "996345ea",
   "metadata": {
    "execution": {
     "iopub.execute_input": "2022-10-07T13:20:37.252706Z",
     "iopub.status.busy": "2022-10-07T13:20:37.252254Z",
     "iopub.status.idle": "2022-10-07T13:20:37.259605Z",
     "shell.execute_reply": "2022-10-07T13:20:37.258520Z"
    },
    "papermill": {
     "duration": 0.033057,
     "end_time": "2022-10-07T13:20:37.262933",
     "exception": false,
     "start_time": "2022-10-07T13:20:37.229876",
     "status": "completed"
    },
    "tags": []
   },
   "outputs": [
    {
     "name": "stdout",
     "output_type": "stream",
     "text": [
      "Numerical Columns\n",
      " ['loading', 'attribute_2', 'attribute_3', 'measurement_0', 'measurement_1', 'measurement_2', 'measurement_3', 'measurement_4', 'measurement_5', 'measurement_6', 'measurement_7', 'measurement_8', 'measurement_9', 'measurement_10', 'measurement_11', 'measurement_12', 'measurement_13', 'measurement_14', 'measurement_15', 'measurement_16', 'measurement_17']\n",
      "\n",
      "Categorical Columns\n",
      " ['product_code', 'attribute_0', 'attribute_1']\n"
     ]
    }
   ],
   "source": [
    "numerical_cols = [c for c in x_train.columns if x_train[c].dtypes in ['int', 'float']]\n",
    "print(\"Numerical Columns\\n\", numerical_cols)\n",
    "\n",
    "categorical_cols = [c for c in x_train.columns if x_train[c].dtypes in ['object']]\n",
    "print(\"\\nCategorical Columns\\n\", categorical_cols)"
   ]
  },
  {
   "cell_type": "code",
   "execution_count": 17,
   "id": "828b0d5d",
   "metadata": {
    "execution": {
     "iopub.execute_input": "2022-10-07T13:20:37.310158Z",
     "iopub.status.busy": "2022-10-07T13:20:37.309470Z",
     "iopub.status.idle": "2022-10-07T13:20:37.316163Z",
     "shell.execute_reply": "2022-10-07T13:20:37.314457Z"
    },
    "papermill": {
     "duration": 0.032909,
     "end_time": "2022-10-07T13:20:37.318771",
     "exception": false,
     "start_time": "2022-10-07T13:20:37.285862",
     "status": "completed"
    },
    "tags": []
   },
   "outputs": [
    {
     "name": "stdout",
     "output_type": "stream",
     "text": [
      "['loading', 'attribute_2', 'attribute_3', 'measurement_0', 'measurement_1', 'measurement_2', 'measurement_3', 'measurement_4', 'measurement_5', 'measurement_6', 'measurement_7', 'measurement_8', 'measurement_9', 'measurement_10', 'measurement_11', 'measurement_12', 'measurement_13', 'measurement_14', 'measurement_15', 'measurement_16', 'measurement_17', 'loading_was_missing', 'measurement_3_was_missing', 'measurement_4_was_missing', 'measurement_5_was_missing', 'measurement_6_was_missing', 'measurement_7_was_missing', 'measurement_8_was_missing', 'measurement_9_was_missing', 'measurement_10_was_missing', 'measurement_11_was_missing', 'measurement_12_was_missing', 'measurement_13_was_missing', 'measurement_14_was_missing', 'measurement_15_was_missing', 'measurement_16_was_missing', 'measurement_17_was_missing']\n"
     ]
    }
   ],
   "source": [
    "numerical_cols += new_columns\n",
    "print(numerical_cols)"
   ]
  },
  {
   "cell_type": "markdown",
   "id": "1389a13e",
   "metadata": {
    "papermill": {
     "duration": 0.020984,
     "end_time": "2022-10-07T13:20:37.360784",
     "exception": false,
     "start_time": "2022-10-07T13:20:37.339800",
     "status": "completed"
    },
    "tags": []
   },
   "source": [
    "<a id=\"5\"></a> <br>\n",
    "# Preprocess"
   ]
  },
  {
   "cell_type": "code",
   "execution_count": 18,
   "id": "f30c8a78",
   "metadata": {
    "execution": {
     "iopub.execute_input": "2022-10-07T13:20:37.406425Z",
     "iopub.status.busy": "2022-10-07T13:20:37.405419Z",
     "iopub.status.idle": "2022-10-07T13:20:37.413045Z",
     "shell.execute_reply": "2022-10-07T13:20:37.411900Z"
    },
    "papermill": {
     "duration": 0.032901,
     "end_time": "2022-10-07T13:20:37.415437",
     "exception": false,
     "start_time": "2022-10-07T13:20:37.382536",
     "status": "completed"
    },
    "tags": []
   },
   "outputs": [],
   "source": [
    "# Preprocessing for numerical data\n",
    "# it was constant\n",
    "numerical_transformer = Pipeline(steps=[('imputer',SimpleImputer(strategy='median')),\n",
    "                                        ('std_scaler', StandardScaler())\n",
    "                                       ]) \n",
    "\n",
    "\n",
    "# # Preprocessing for categorical data\n",
    "categorical_transformer = Pipeline(steps=[\n",
    "    ('imputer', SimpleImputer(strategy='constant')),\n",
    "    ('onehot', OneHotEncoder(handle_unknown='ignore'))\n",
    "])\n",
    "\n",
    "\n",
    "# Bundle preprocessing for numerical and categorical data\n",
    "preprocessor = ColumnTransformer([\n",
    "        ('num', numerical_transformer, numerical_cols),\n",
    "        ('cat', categorical_transformer, categorical_cols)\n",
    "])"
   ]
  },
  {
   "cell_type": "code",
   "execution_count": 19,
   "id": "139cc7b1",
   "metadata": {
    "execution": {
     "iopub.execute_input": "2022-10-07T13:20:37.460520Z",
     "iopub.status.busy": "2022-10-07T13:20:37.459968Z",
     "iopub.status.idle": "2022-10-07T13:20:37.494326Z",
     "shell.execute_reply": "2022-10-07T13:20:37.493031Z"
    },
    "papermill": {
     "duration": 0.059522,
     "end_time": "2022-10-07T13:20:37.496977",
     "exception": false,
     "start_time": "2022-10-07T13:20:37.437455",
     "status": "completed"
    },
    "tags": []
   },
   "outputs": [
    {
     "data": {
      "text/html": [
       "<div>\n",
       "<style scoped>\n",
       "    .dataframe tbody tr th:only-of-type {\n",
       "        vertical-align: middle;\n",
       "    }\n",
       "\n",
       "    .dataframe tbody tr th {\n",
       "        vertical-align: top;\n",
       "    }\n",
       "\n",
       "    .dataframe thead th {\n",
       "        text-align: right;\n",
       "    }\n",
       "</style>\n",
       "<table border=\"1\" class=\"dataframe\">\n",
       "  <thead>\n",
       "    <tr style=\"text-align: right;\">\n",
       "      <th></th>\n",
       "      <th>product_code</th>\n",
       "      <th>loading</th>\n",
       "      <th>attribute_0</th>\n",
       "      <th>attribute_1</th>\n",
       "      <th>attribute_2</th>\n",
       "      <th>attribute_3</th>\n",
       "      <th>measurement_0</th>\n",
       "      <th>measurement_1</th>\n",
       "      <th>measurement_2</th>\n",
       "      <th>measurement_3</th>\n",
       "      <th>...</th>\n",
       "      <th>measurement_8</th>\n",
       "      <th>measurement_9</th>\n",
       "      <th>measurement_10</th>\n",
       "      <th>measurement_11</th>\n",
       "      <th>measurement_12</th>\n",
       "      <th>measurement_13</th>\n",
       "      <th>measurement_14</th>\n",
       "      <th>measurement_15</th>\n",
       "      <th>measurement_16</th>\n",
       "      <th>measurement_17</th>\n",
       "    </tr>\n",
       "    <tr>\n",
       "      <th>id</th>\n",
       "      <th></th>\n",
       "      <th></th>\n",
       "      <th></th>\n",
       "      <th></th>\n",
       "      <th></th>\n",
       "      <th></th>\n",
       "      <th></th>\n",
       "      <th></th>\n",
       "      <th></th>\n",
       "      <th></th>\n",
       "      <th></th>\n",
       "      <th></th>\n",
       "      <th></th>\n",
       "      <th></th>\n",
       "      <th></th>\n",
       "      <th></th>\n",
       "      <th></th>\n",
       "      <th></th>\n",
       "      <th></th>\n",
       "      <th></th>\n",
       "      <th></th>\n",
       "    </tr>\n",
       "  </thead>\n",
       "  <tbody>\n",
       "    <tr>\n",
       "      <th>4031</th>\n",
       "      <td>A</td>\n",
       "      <td>125.77</td>\n",
       "      <td>material_7</td>\n",
       "      <td>material_8</td>\n",
       "      <td>9</td>\n",
       "      <td>5</td>\n",
       "      <td>13</td>\n",
       "      <td>1</td>\n",
       "      <td>3</td>\n",
       "      <td>16.957</td>\n",
       "      <td>...</td>\n",
       "      <td>21.896</td>\n",
       "      <td>NaN</td>\n",
       "      <td>14.837</td>\n",
       "      <td>17.120</td>\n",
       "      <td>13.848</td>\n",
       "      <td>16.205</td>\n",
       "      <td>14.036</td>\n",
       "      <td>12.391</td>\n",
       "      <td>15.069</td>\n",
       "      <td>879.008</td>\n",
       "    </tr>\n",
       "    <tr>\n",
       "      <th>2375</th>\n",
       "      <td>A</td>\n",
       "      <td>108.12</td>\n",
       "      <td>material_7</td>\n",
       "      <td>material_8</td>\n",
       "      <td>9</td>\n",
       "      <td>5</td>\n",
       "      <td>14</td>\n",
       "      <td>8</td>\n",
       "      <td>7</td>\n",
       "      <td>18.219</td>\n",
       "      <td>...</td>\n",
       "      <td>NaN</td>\n",
       "      <td>11.097</td>\n",
       "      <td>16.114</td>\n",
       "      <td>19.780</td>\n",
       "      <td>11.668</td>\n",
       "      <td>14.948</td>\n",
       "      <td>18.790</td>\n",
       "      <td>13.674</td>\n",
       "      <td>17.019</td>\n",
       "      <td>760.411</td>\n",
       "    </tr>\n",
       "    <tr>\n",
       "      <th>13904</th>\n",
       "      <td>C</td>\n",
       "      <td>190.34</td>\n",
       "      <td>material_7</td>\n",
       "      <td>material_8</td>\n",
       "      <td>5</td>\n",
       "      <td>8</td>\n",
       "      <td>16</td>\n",
       "      <td>11</td>\n",
       "      <td>10</td>\n",
       "      <td>17.512</td>\n",
       "      <td>...</td>\n",
       "      <td>18.780</td>\n",
       "      <td>10.582</td>\n",
       "      <td>15.999</td>\n",
       "      <td>18.201</td>\n",
       "      <td>10.160</td>\n",
       "      <td>16.337</td>\n",
       "      <td>16.701</td>\n",
       "      <td>15.145</td>\n",
       "      <td>16.283</td>\n",
       "      <td>675.360</td>\n",
       "    </tr>\n",
       "    <tr>\n",
       "      <th>18772</th>\n",
       "      <td>D</td>\n",
       "      <td>132.96</td>\n",
       "      <td>material_7</td>\n",
       "      <td>material_5</td>\n",
       "      <td>6</td>\n",
       "      <td>6</td>\n",
       "      <td>8</td>\n",
       "      <td>8</td>\n",
       "      <td>5</td>\n",
       "      <td>18.077</td>\n",
       "      <td>...</td>\n",
       "      <td>20.289</td>\n",
       "      <td>11.254</td>\n",
       "      <td>19.852</td>\n",
       "      <td>18.620</td>\n",
       "      <td>12.750</td>\n",
       "      <td>15.698</td>\n",
       "      <td>17.998</td>\n",
       "      <td>NaN</td>\n",
       "      <td>17.994</td>\n",
       "      <td>966.597</td>\n",
       "    </tr>\n",
       "    <tr>\n",
       "      <th>3884</th>\n",
       "      <td>A</td>\n",
       "      <td>108.12</td>\n",
       "      <td>material_7</td>\n",
       "      <td>material_8</td>\n",
       "      <td>9</td>\n",
       "      <td>5</td>\n",
       "      <td>11</td>\n",
       "      <td>5</td>\n",
       "      <td>4</td>\n",
       "      <td>18.878</td>\n",
       "      <td>...</td>\n",
       "      <td>18.192</td>\n",
       "      <td>10.980</td>\n",
       "      <td>14.872</td>\n",
       "      <td>21.283</td>\n",
       "      <td>11.759</td>\n",
       "      <td>16.563</td>\n",
       "      <td>17.046</td>\n",
       "      <td>14.296</td>\n",
       "      <td>14.557</td>\n",
       "      <td>566.990</td>\n",
       "    </tr>\n",
       "    <tr>\n",
       "      <th>18347</th>\n",
       "      <td>D</td>\n",
       "      <td>144.12</td>\n",
       "      <td>material_7</td>\n",
       "      <td>material_5</td>\n",
       "      <td>6</td>\n",
       "      <td>6</td>\n",
       "      <td>7</td>\n",
       "      <td>8</td>\n",
       "      <td>6</td>\n",
       "      <td>16.929</td>\n",
       "      <td>...</td>\n",
       "      <td>18.541</td>\n",
       "      <td>9.553</td>\n",
       "      <td>13.386</td>\n",
       "      <td>20.145</td>\n",
       "      <td>11.973</td>\n",
       "      <td>16.659</td>\n",
       "      <td>15.823</td>\n",
       "      <td>13.875</td>\n",
       "      <td>18.638</td>\n",
       "      <td>804.271</td>\n",
       "    </tr>\n",
       "    <tr>\n",
       "      <th>5610</th>\n",
       "      <td>B</td>\n",
       "      <td>171.30</td>\n",
       "      <td>material_5</td>\n",
       "      <td>material_5</td>\n",
       "      <td>8</td>\n",
       "      <td>8</td>\n",
       "      <td>6</td>\n",
       "      <td>9</td>\n",
       "      <td>6</td>\n",
       "      <td>15.724</td>\n",
       "      <td>...</td>\n",
       "      <td>18.470</td>\n",
       "      <td>10.543</td>\n",
       "      <td>15.388</td>\n",
       "      <td>18.421</td>\n",
       "      <td>10.796</td>\n",
       "      <td>14.399</td>\n",
       "      <td>16.273</td>\n",
       "      <td>12.998</td>\n",
       "      <td>17.569</td>\n",
       "      <td>660.654</td>\n",
       "    </tr>\n",
       "    <tr>\n",
       "      <th>21940</th>\n",
       "      <td>E</td>\n",
       "      <td>174.71</td>\n",
       "      <td>material_7</td>\n",
       "      <td>material_6</td>\n",
       "      <td>6</td>\n",
       "      <td>9</td>\n",
       "      <td>3</td>\n",
       "      <td>18</td>\n",
       "      <td>0</td>\n",
       "      <td>18.154</td>\n",
       "      <td>...</td>\n",
       "      <td>18.990</td>\n",
       "      <td>13.491</td>\n",
       "      <td>17.749</td>\n",
       "      <td>19.830</td>\n",
       "      <td>10.391</td>\n",
       "      <td>NaN</td>\n",
       "      <td>14.896</td>\n",
       "      <td>13.928</td>\n",
       "      <td>15.057</td>\n",
       "      <td>762.758</td>\n",
       "    </tr>\n",
       "    <tr>\n",
       "      <th>25511</th>\n",
       "      <td>E</td>\n",
       "      <td>189.11</td>\n",
       "      <td>material_7</td>\n",
       "      <td>material_6</td>\n",
       "      <td>6</td>\n",
       "      <td>9</td>\n",
       "      <td>5</td>\n",
       "      <td>8</td>\n",
       "      <td>8</td>\n",
       "      <td>17.781</td>\n",
       "      <td>...</td>\n",
       "      <td>18.195</td>\n",
       "      <td>12.326</td>\n",
       "      <td>16.642</td>\n",
       "      <td>21.269</td>\n",
       "      <td>12.471</td>\n",
       "      <td>15.330</td>\n",
       "      <td>15.751</td>\n",
       "      <td>15.165</td>\n",
       "      <td>18.934</td>\n",
       "      <td>706.423</td>\n",
       "    </tr>\n",
       "    <tr>\n",
       "      <th>18205</th>\n",
       "      <td>D</td>\n",
       "      <td>71.79</td>\n",
       "      <td>material_7</td>\n",
       "      <td>material_5</td>\n",
       "      <td>6</td>\n",
       "      <td>6</td>\n",
       "      <td>7</td>\n",
       "      <td>11</td>\n",
       "      <td>10</td>\n",
       "      <td>17.434</td>\n",
       "      <td>...</td>\n",
       "      <td>19.796</td>\n",
       "      <td>NaN</td>\n",
       "      <td>18.349</td>\n",
       "      <td>18.653</td>\n",
       "      <td>9.345</td>\n",
       "      <td>13.839</td>\n",
       "      <td>15.456</td>\n",
       "      <td>13.743</td>\n",
       "      <td>17.378</td>\n",
       "      <td>782.500</td>\n",
       "    </tr>\n",
       "  </tbody>\n",
       "</table>\n",
       "<p>10 rows × 24 columns</p>\n",
       "</div>"
      ],
      "text/plain": [
       "      product_code  loading attribute_0 attribute_1  attribute_2  attribute_3  \\\n",
       "id                                                                              \n",
       "4031             A   125.77  material_7  material_8            9            5   \n",
       "2375             A   108.12  material_7  material_8            9            5   \n",
       "13904            C   190.34  material_7  material_8            5            8   \n",
       "18772            D   132.96  material_7  material_5            6            6   \n",
       "3884             A   108.12  material_7  material_8            9            5   \n",
       "18347            D   144.12  material_7  material_5            6            6   \n",
       "5610             B   171.30  material_5  material_5            8            8   \n",
       "21940            E   174.71  material_7  material_6            6            9   \n",
       "25511            E   189.11  material_7  material_6            6            9   \n",
       "18205            D    71.79  material_7  material_5            6            6   \n",
       "\n",
       "       measurement_0  measurement_1  measurement_2  measurement_3  ...  \\\n",
       "id                                                                 ...   \n",
       "4031              13              1              3         16.957  ...   \n",
       "2375              14              8              7         18.219  ...   \n",
       "13904             16             11             10         17.512  ...   \n",
       "18772              8              8              5         18.077  ...   \n",
       "3884              11              5              4         18.878  ...   \n",
       "18347              7              8              6         16.929  ...   \n",
       "5610               6              9              6         15.724  ...   \n",
       "21940              3             18              0         18.154  ...   \n",
       "25511              5              8              8         17.781  ...   \n",
       "18205              7             11             10         17.434  ...   \n",
       "\n",
       "       measurement_8  measurement_9  measurement_10  measurement_11  \\\n",
       "id                                                                    \n",
       "4031          21.896            NaN          14.837          17.120   \n",
       "2375             NaN         11.097          16.114          19.780   \n",
       "13904         18.780         10.582          15.999          18.201   \n",
       "18772         20.289         11.254          19.852          18.620   \n",
       "3884          18.192         10.980          14.872          21.283   \n",
       "18347         18.541          9.553          13.386          20.145   \n",
       "5610          18.470         10.543          15.388          18.421   \n",
       "21940         18.990         13.491          17.749          19.830   \n",
       "25511         18.195         12.326          16.642          21.269   \n",
       "18205         19.796            NaN          18.349          18.653   \n",
       "\n",
       "       measurement_12  measurement_13  measurement_14  measurement_15  \\\n",
       "id                                                                      \n",
       "4031           13.848          16.205          14.036          12.391   \n",
       "2375           11.668          14.948          18.790          13.674   \n",
       "13904          10.160          16.337          16.701          15.145   \n",
       "18772          12.750          15.698          17.998             NaN   \n",
       "3884           11.759          16.563          17.046          14.296   \n",
       "18347          11.973          16.659          15.823          13.875   \n",
       "5610           10.796          14.399          16.273          12.998   \n",
       "21940          10.391             NaN          14.896          13.928   \n",
       "25511          12.471          15.330          15.751          15.165   \n",
       "18205           9.345          13.839          15.456          13.743   \n",
       "\n",
       "       measurement_16  measurement_17  \n",
       "id                                     \n",
       "4031           15.069         879.008  \n",
       "2375           17.019         760.411  \n",
       "13904          16.283         675.360  \n",
       "18772          17.994         966.597  \n",
       "3884           14.557         566.990  \n",
       "18347          18.638         804.271  \n",
       "5610           17.569         660.654  \n",
       "21940          15.057         762.758  \n",
       "25511          18.934         706.423  \n",
       "18205          17.378         782.500  \n",
       "\n",
       "[10 rows x 24 columns]"
      ]
     },
     "execution_count": 19,
     "metadata": {},
     "output_type": "execute_result"
    }
   ],
   "source": [
    "x_train.head(10)"
   ]
  },
  {
   "cell_type": "markdown",
   "id": "47420cdc",
   "metadata": {
    "papermill": {
     "duration": 0.021047,
     "end_time": "2022-10-07T13:20:37.539586",
     "exception": false,
     "start_time": "2022-10-07T13:20:37.518539",
     "status": "completed"
    },
    "tags": []
   },
   "source": [
    "### Apply Preprocess and put on Pd DataFrame"
   ]
  },
  {
   "cell_type": "code",
   "execution_count": 20,
   "id": "2bb327f3",
   "metadata": {
    "execution": {
     "iopub.execute_input": "2022-10-07T13:20:37.585405Z",
     "iopub.status.busy": "2022-10-07T13:20:37.584573Z",
     "iopub.status.idle": "2022-10-07T13:20:37.601541Z",
     "shell.execute_reply": "2022-10-07T13:20:37.600242Z"
    },
    "papermill": {
     "duration": 0.043075,
     "end_time": "2022-10-07T13:20:37.604175",
     "exception": false,
     "start_time": "2022-10-07T13:20:37.561100",
     "status": "completed"
    },
    "tags": []
   },
   "outputs": [
    {
     "data": {
      "text/html": [
       "<div>\n",
       "<style scoped>\n",
       "    .dataframe tbody tr th:only-of-type {\n",
       "        vertical-align: middle;\n",
       "    }\n",
       "\n",
       "    .dataframe tbody tr th {\n",
       "        vertical-align: top;\n",
       "    }\n",
       "\n",
       "    .dataframe thead th {\n",
       "        text-align: right;\n",
       "    }\n",
       "</style>\n",
       "<table border=\"1\" class=\"dataframe\">\n",
       "  <thead>\n",
       "    <tr style=\"text-align: right;\">\n",
       "      <th></th>\n",
       "      <th>product_code</th>\n",
       "      <th>attribute_0</th>\n",
       "      <th>attribute_1</th>\n",
       "    </tr>\n",
       "    <tr>\n",
       "      <th>id</th>\n",
       "      <th></th>\n",
       "      <th></th>\n",
       "      <th></th>\n",
       "    </tr>\n",
       "  </thead>\n",
       "  <tbody>\n",
       "    <tr>\n",
       "      <th>0</th>\n",
       "      <td>A</td>\n",
       "      <td>material_7</td>\n",
       "      <td>material_8</td>\n",
       "    </tr>\n",
       "    <tr>\n",
       "      <th>1</th>\n",
       "      <td>A</td>\n",
       "      <td>material_7</td>\n",
       "      <td>material_8</td>\n",
       "    </tr>\n",
       "    <tr>\n",
       "      <th>2</th>\n",
       "      <td>A</td>\n",
       "      <td>material_7</td>\n",
       "      <td>material_8</td>\n",
       "    </tr>\n",
       "    <tr>\n",
       "      <th>3</th>\n",
       "      <td>A</td>\n",
       "      <td>material_7</td>\n",
       "      <td>material_8</td>\n",
       "    </tr>\n",
       "    <tr>\n",
       "      <th>4</th>\n",
       "      <td>A</td>\n",
       "      <td>material_7</td>\n",
       "      <td>material_8</td>\n",
       "    </tr>\n",
       "    <tr>\n",
       "      <th>...</th>\n",
       "      <td>...</td>\n",
       "      <td>...</td>\n",
       "      <td>...</td>\n",
       "    </tr>\n",
       "    <tr>\n",
       "      <th>26565</th>\n",
       "      <td>E</td>\n",
       "      <td>material_7</td>\n",
       "      <td>material_6</td>\n",
       "    </tr>\n",
       "    <tr>\n",
       "      <th>26566</th>\n",
       "      <td>E</td>\n",
       "      <td>material_7</td>\n",
       "      <td>material_6</td>\n",
       "    </tr>\n",
       "    <tr>\n",
       "      <th>26567</th>\n",
       "      <td>E</td>\n",
       "      <td>material_7</td>\n",
       "      <td>material_6</td>\n",
       "    </tr>\n",
       "    <tr>\n",
       "      <th>26568</th>\n",
       "      <td>E</td>\n",
       "      <td>material_7</td>\n",
       "      <td>material_6</td>\n",
       "    </tr>\n",
       "    <tr>\n",
       "      <th>26569</th>\n",
       "      <td>E</td>\n",
       "      <td>material_7</td>\n",
       "      <td>material_6</td>\n",
       "    </tr>\n",
       "  </tbody>\n",
       "</table>\n",
       "<p>26570 rows × 3 columns</p>\n",
       "</div>"
      ],
      "text/plain": [
       "      product_code attribute_0 attribute_1\n",
       "id                                        \n",
       "0                A  material_7  material_8\n",
       "1                A  material_7  material_8\n",
       "2                A  material_7  material_8\n",
       "3                A  material_7  material_8\n",
       "4                A  material_7  material_8\n",
       "...            ...         ...         ...\n",
       "26565            E  material_7  material_6\n",
       "26566            E  material_7  material_6\n",
       "26567            E  material_7  material_6\n",
       "26568            E  material_7  material_6\n",
       "26569            E  material_7  material_6\n",
       "\n",
       "[26570 rows x 3 columns]"
      ]
     },
     "execution_count": 20,
     "metadata": {},
     "output_type": "execute_result"
    }
   ],
   "source": [
    "df_train[categorical_cols]"
   ]
  },
  {
   "cell_type": "markdown",
   "id": "b412fb46",
   "metadata": {
    "papermill": {
     "duration": 0.021326,
     "end_time": "2022-10-07T13:20:37.647564",
     "exception": false,
     "start_time": "2022-10-07T13:20:37.626238",
     "status": "completed"
    },
    "tags": []
   },
   "source": [
    "### Apply Preprocess\n",
    "When I use preprocess on kfold, preprocess can't deal with test data columns categories that training data doesn't contain. So, I make preprocess before everything."
   ]
  },
  {
   "cell_type": "code",
   "execution_count": 21,
   "id": "0e52da07",
   "metadata": {
    "execution": {
     "iopub.execute_input": "2022-10-07T13:20:37.693533Z",
     "iopub.status.busy": "2022-10-07T13:20:37.693130Z",
     "iopub.status.idle": "2022-10-07T13:20:37.699754Z",
     "shell.execute_reply": "2022-10-07T13:20:37.698580Z"
    },
    "papermill": {
     "duration": 0.032599,
     "end_time": "2022-10-07T13:20:37.702294",
     "exception": false,
     "start_time": "2022-10-07T13:20:37.669695",
     "status": "completed"
    },
    "tags": []
   },
   "outputs": [],
   "source": [
    "def do_preprocess(df, preprocessor, train = False):\n",
    "    for col in cols_with_missing:\n",
    "        df[col + '_was_missing'] = df[col].isnull()\n",
    "    \n",
    "    if train==True:\n",
    "        df = preprocessor.fit_transform(df)\n",
    "    else:\n",
    "        df = preprocessor.transform(df)\n",
    "    \n",
    "    print(df.shape)\n",
    "    \n",
    "    return df"
   ]
  },
  {
   "cell_type": "code",
   "execution_count": 22,
   "id": "2c1ef46b",
   "metadata": {
    "execution": {
     "iopub.execute_input": "2022-10-07T13:20:37.748393Z",
     "iopub.status.busy": "2022-10-07T13:20:37.747710Z",
     "iopub.status.idle": "2022-10-07T13:20:38.157009Z",
     "shell.execute_reply": "2022-10-07T13:20:38.155411Z"
    },
    "papermill": {
     "duration": 0.436473,
     "end_time": "2022-10-07T13:20:38.160992",
     "exception": false,
     "start_time": "2022-10-07T13:20:37.724519",
     "status": "completed"
    },
    "tags": []
   },
   "outputs": [
    {
     "name": "stdout",
     "output_type": "stream",
     "text": [
      "(21256, 47)\n",
      "(5314, 47)\n"
     ]
    }
   ],
   "source": [
    "# x_train = preprocessor.fit_transform(x_train)\n",
    "# x_val = preprocessor.transform(x_val)\n",
    "\n",
    "x_train = do_preprocess(x_train, preprocessor, train=True)\n",
    "x_val = do_preprocess(x_val, preprocessor, train=False)"
   ]
  },
  {
   "cell_type": "code",
   "execution_count": 23,
   "id": "03125a82",
   "metadata": {
    "execution": {
     "iopub.execute_input": "2022-10-07T13:20:38.207477Z",
     "iopub.status.busy": "2022-10-07T13:20:38.206382Z",
     "iopub.status.idle": "2022-10-07T13:20:38.214181Z",
     "shell.execute_reply": "2022-10-07T13:20:38.213221Z"
    },
    "papermill": {
     "duration": 0.033301,
     "end_time": "2022-10-07T13:20:38.216341",
     "exception": false,
     "start_time": "2022-10-07T13:20:38.183040",
     "status": "completed"
    },
    "tags": []
   },
   "outputs": [
    {
     "data": {
      "text/plain": [
       "(21256, 47)"
      ]
     },
     "execution_count": 23,
     "metadata": {},
     "output_type": "execute_result"
    }
   ],
   "source": [
    "x_train.shape"
   ]
  },
  {
   "cell_type": "code",
   "execution_count": 24,
   "id": "0d26d2b3",
   "metadata": {
    "_kg_hide-output": true,
    "execution": {
     "iopub.execute_input": "2022-10-07T13:20:38.262035Z",
     "iopub.status.busy": "2022-10-07T13:20:38.261563Z",
     "iopub.status.idle": "2022-10-07T13:20:38.269469Z",
     "shell.execute_reply": "2022-10-07T13:20:38.268434Z"
    },
    "papermill": {
     "duration": 0.033217,
     "end_time": "2022-10-07T13:20:38.271701",
     "exception": false,
     "start_time": "2022-10-07T13:20:38.238484",
     "status": "completed"
    },
    "tags": []
   },
   "outputs": [
    {
     "data": {
      "text/plain": [
       "array([[-0.05212651,  1.52948135, -1.53568998, ...,  0.        ,\n",
       "         0.        ,  1.        ],\n",
       "       [-0.50681701,  1.52948135, -1.53568998, ...,  0.        ,\n",
       "         0.        ,  1.        ],\n",
       "       [ 1.61129361, -1.18993777,  0.52516861, ...,  0.        ,\n",
       "         0.        ,  1.        ],\n",
       "       ...,\n",
       "       [-0.31334813,  1.52948135, -1.53568998, ...,  0.        ,\n",
       "         0.        ,  1.        ],\n",
       "       [ 2.27903172, -1.18993777,  0.52516861, ...,  0.        ,\n",
       "         0.        ,  1.        ],\n",
       "       [-0.1840254 , -0.51008299,  1.21212148, ...,  0.        ,\n",
       "         1.        ,  0.        ]])"
      ]
     },
     "execution_count": 24,
     "metadata": {},
     "output_type": "execute_result"
    }
   ],
   "source": [
    "x_train"
   ]
  },
  {
   "cell_type": "code",
   "execution_count": 25,
   "id": "65bdbcf4",
   "metadata": {
    "_kg_hide-input": false,
    "_kg_hide-output": true,
    "execution": {
     "iopub.execute_input": "2022-10-07T13:20:38.317460Z",
     "iopub.status.busy": "2022-10-07T13:20:38.316840Z",
     "iopub.status.idle": "2022-10-07T13:20:38.325349Z",
     "shell.execute_reply": "2022-10-07T13:20:38.324069Z"
    },
    "papermill": {
     "duration": 0.034383,
     "end_time": "2022-10-07T13:20:38.327740",
     "exception": false,
     "start_time": "2022-10-07T13:20:38.293357",
     "status": "completed"
    },
    "tags": []
   },
   "outputs": [
    {
     "data": {
      "text/plain": [
       "array([[-5.21265117e-02,  1.52948135e+00, -1.53568998e+00,\n",
       "         1.35551322e+00, -1.72380914e+00, -9.86569452e-01,\n",
       "        -8.51043508e-01, -1.36194673e+00, -6.94104184e-01,\n",
       "        -7.80730248e-02,  7.71803105e-01,  2.90645802e+00,\n",
       "        -1.58882181e-04, -9.35673193e-01, -1.39019656e+00,\n",
       "         1.48430633e+00,  4.96488592e-01, -1.40120639e+00,\n",
       "        -1.75551790e+00, -8.50359795e-01,  1.50881804e+00,\n",
       "        -9.91675169e-02, -1.18224393e-01, -1.45218915e-01,\n",
       "        -1.61298731e-01, -1.74339053e-01, -1.89653415e-01,\n",
       "        -2.04344117e-01,  4.56818484e+00, -2.27042797e-01,\n",
       "        -2.39488254e-01, -2.56796683e-01, -2.65634281e-01,\n",
       "        -2.75151780e-01, -2.87518588e-01, -2.94744406e-01,\n",
       "        -3.07567999e-01,  1.00000000e+00,  0.00000000e+00,\n",
       "         0.00000000e+00,  0.00000000e+00,  0.00000000e+00,\n",
       "         0.00000000e+00,  1.00000000e+00,  0.00000000e+00,\n",
       "         0.00000000e+00,  1.00000000e+00],\n",
       "       [-5.06817006e-01,  1.52948135e+00, -1.53568998e+00,\n",
       "         1.59863655e+00, -6.05317948e-02,  2.24899079e-01,\n",
       "         4.18220771e-01, -5.27739742e-01,  2.77097654e-01,\n",
       "         1.35263476e+00, -4.17817102e-01, -5.35772955e-03,\n",
       "        -3.39107664e-01, -4.69056389e-03,  4.10576148e-01,\n",
       "        -2.37130413e-02, -6.26170866e-01,  1.90998373e+00,\n",
       "        -8.92498208e-01,  3.37154470e-01,  5.00591123e-01,\n",
       "        -9.91675169e-02, -1.18224393e-01, -1.45218915e-01,\n",
       "        -1.61298731e-01, -1.74339053e-01, -1.89653415e-01,\n",
       "         4.89370584e+00, -2.18905328e-01, -2.27042797e-01,\n",
       "        -2.39488254e-01, -2.56796683e-01, -2.65634281e-01,\n",
       "        -2.75151780e-01, -2.87518588e-01, -2.94744406e-01,\n",
       "        -3.07567999e-01,  1.00000000e+00,  0.00000000e+00,\n",
       "         0.00000000e+00,  0.00000000e+00,  0.00000000e+00,\n",
       "         0.00000000e+00,  1.00000000e+00,  0.00000000e+00,\n",
       "         0.00000000e+00,  1.00000000e+00]])"
      ]
     },
     "execution_count": 25,
     "metadata": {},
     "output_type": "execute_result"
    }
   ],
   "source": [
    "x_train[0:2]"
   ]
  },
  {
   "cell_type": "markdown",
   "id": "98ad670e",
   "metadata": {
    "papermill": {
     "duration": 0.02142,
     "end_time": "2022-10-07T13:20:38.370875",
     "exception": false,
     "start_time": "2022-10-07T13:20:38.349455",
     "status": "completed"
    },
    "tags": []
   },
   "source": [
    "## New Columns After Preprocessing"
   ]
  },
  {
   "cell_type": "code",
   "execution_count": 26,
   "id": "448efb7f",
   "metadata": {
    "_kg_hide-output": true,
    "execution": {
     "iopub.execute_input": "2022-10-07T13:20:38.416546Z",
     "iopub.status.busy": "2022-10-07T13:20:38.415910Z",
     "iopub.status.idle": "2022-10-07T13:20:38.425987Z",
     "shell.execute_reply": "2022-10-07T13:20:38.423587Z"
    },
    "papermill": {
     "duration": 0.036726,
     "end_time": "2022-10-07T13:20:38.429424",
     "exception": false,
     "start_time": "2022-10-07T13:20:38.392698",
     "status": "completed"
    },
    "tags": []
   },
   "outputs": [
    {
     "name": "stdout",
     "output_type": "stream",
     "text": [
      "['A' 'B' 'C' 'D' 'E']\n",
      "['material_5' 'material_7']\n",
      "['material_5' 'material_6' 'material_8']\n",
      "\n",
      "Categorical Columns:\n",
      " ['A' 'B' 'C' 'D' 'E' 'material_5' 'material_7' 'material_5' 'material_6'\n",
      " 'material_8']\n",
      "\n",
      "Numerical Columns:\n",
      " ['loading', 'attribute_2', 'attribute_3', 'measurement_0', 'measurement_1', 'measurement_2', 'measurement_3', 'measurement_4', 'measurement_5', 'measurement_6', 'measurement_7', 'measurement_8', 'measurement_9', 'measurement_10', 'measurement_11', 'measurement_12', 'measurement_13', 'measurement_14', 'measurement_15', 'measurement_16', 'measurement_17', 'loading_was_missing', 'measurement_3_was_missing', 'measurement_4_was_missing', 'measurement_5_was_missing', 'measurement_6_was_missing', 'measurement_7_was_missing', 'measurement_8_was_missing', 'measurement_9_was_missing', 'measurement_10_was_missing', 'measurement_11_was_missing', 'measurement_12_was_missing', 'measurement_13_was_missing', 'measurement_14_was_missing', 'measurement_15_was_missing', 'measurement_16_was_missing', 'measurement_17_was_missing']\n",
      "\n",
      "All Columns:\n",
      " ['loading' 'attribute_2' 'attribute_3' 'measurement_0' 'measurement_1'\n",
      " 'measurement_2' 'measurement_3' 'measurement_4' 'measurement_5'\n",
      " 'measurement_6' 'measurement_7' 'measurement_8' 'measurement_9'\n",
      " 'measurement_10' 'measurement_11' 'measurement_12' 'measurement_13'\n",
      " 'measurement_14' 'measurement_15' 'measurement_16' 'measurement_17'\n",
      " 'loading_was_missing' 'measurement_3_was_missing'\n",
      " 'measurement_4_was_missing' 'measurement_5_was_missing'\n",
      " 'measurement_6_was_missing' 'measurement_7_was_missing'\n",
      " 'measurement_8_was_missing' 'measurement_9_was_missing'\n",
      " 'measurement_10_was_missing' 'measurement_11_was_missing'\n",
      " 'measurement_12_was_missing' 'measurement_13_was_missing'\n",
      " 'measurement_14_was_missing' 'measurement_15_was_missing'\n",
      " 'measurement_16_was_missing' 'measurement_17_was_missing' 'A' 'B' 'C' 'D'\n",
      " 'E' 'material_5' 'material_7' 'material_5' 'material_6' 'material_8']\n",
      "\n",
      "All Columns Shape: (47,)\n"
     ]
    }
   ],
   "source": [
    "for c in preprocessor.named_transformers_['cat']['onehot'].categories_:\n",
    "    print(c)\n",
    "\n",
    "cat_one_hot_attribs = np.concatenate([c for c in preprocessor.named_transformers_['cat']['onehot'].categories_])\n",
    "print(\"\\nCategorical Columns:\\n\", cat_one_hot_attribs) \n",
    "print(\"\\nNumerical Columns:\\n\", numerical_cols)\n",
    "\n",
    "all_cols = np.concatenate((numerical_cols, cat_one_hot_attribs))\n",
    "print(\"\\nAll Columns:\\n\", all_cols)\n",
    "print(\"\\nAll Columns Shape:\", all_cols.shape)"
   ]
  },
  {
   "cell_type": "code",
   "execution_count": 27,
   "id": "a6d4ed3c",
   "metadata": {
    "execution": {
     "iopub.execute_input": "2022-10-07T13:20:38.476346Z",
     "iopub.status.busy": "2022-10-07T13:20:38.475601Z",
     "iopub.status.idle": "2022-10-07T13:20:38.509987Z",
     "shell.execute_reply": "2022-10-07T13:20:38.508771Z"
    },
    "papermill": {
     "duration": 0.060827,
     "end_time": "2022-10-07T13:20:38.512619",
     "exception": false,
     "start_time": "2022-10-07T13:20:38.451792",
     "status": "completed"
    },
    "tags": []
   },
   "outputs": [
    {
     "data": {
      "text/html": [
       "<div>\n",
       "<style scoped>\n",
       "    .dataframe tbody tr th:only-of-type {\n",
       "        vertical-align: middle;\n",
       "    }\n",
       "\n",
       "    .dataframe tbody tr th {\n",
       "        vertical-align: top;\n",
       "    }\n",
       "\n",
       "    .dataframe thead th {\n",
       "        text-align: right;\n",
       "    }\n",
       "</style>\n",
       "<table border=\"1\" class=\"dataframe\">\n",
       "  <thead>\n",
       "    <tr style=\"text-align: right;\">\n",
       "      <th></th>\n",
       "      <th>loading</th>\n",
       "      <th>attribute_2</th>\n",
       "      <th>attribute_3</th>\n",
       "      <th>measurement_0</th>\n",
       "      <th>measurement_1</th>\n",
       "      <th>measurement_2</th>\n",
       "      <th>measurement_3</th>\n",
       "      <th>measurement_4</th>\n",
       "      <th>measurement_5</th>\n",
       "      <th>measurement_6</th>\n",
       "      <th>...</th>\n",
       "      <th>A</th>\n",
       "      <th>B</th>\n",
       "      <th>C</th>\n",
       "      <th>D</th>\n",
       "      <th>E</th>\n",
       "      <th>material_5</th>\n",
       "      <th>material_7</th>\n",
       "      <th>material_5</th>\n",
       "      <th>material_6</th>\n",
       "      <th>material_8</th>\n",
       "    </tr>\n",
       "  </thead>\n",
       "  <tbody>\n",
       "    <tr>\n",
       "      <th>0</th>\n",
       "      <td>-0.052127</td>\n",
       "      <td>1.529481</td>\n",
       "      <td>-1.535690</td>\n",
       "      <td>1.355513</td>\n",
       "      <td>-1.723809</td>\n",
       "      <td>-0.986569</td>\n",
       "      <td>-0.851044</td>\n",
       "      <td>-1.361947</td>\n",
       "      <td>-0.694104</td>\n",
       "      <td>-0.078073</td>\n",
       "      <td>...</td>\n",
       "      <td>1.0</td>\n",
       "      <td>0.0</td>\n",
       "      <td>0.0</td>\n",
       "      <td>0.0</td>\n",
       "      <td>0.0</td>\n",
       "      <td>0.0</td>\n",
       "      <td>1.0</td>\n",
       "      <td>0.0</td>\n",
       "      <td>0.0</td>\n",
       "      <td>1.0</td>\n",
       "    </tr>\n",
       "    <tr>\n",
       "      <th>1</th>\n",
       "      <td>-0.506817</td>\n",
       "      <td>1.529481</td>\n",
       "      <td>-1.535690</td>\n",
       "      <td>1.598637</td>\n",
       "      <td>-0.060532</td>\n",
       "      <td>0.224899</td>\n",
       "      <td>0.418221</td>\n",
       "      <td>-0.527740</td>\n",
       "      <td>0.277098</td>\n",
       "      <td>1.352635</td>\n",
       "      <td>...</td>\n",
       "      <td>1.0</td>\n",
       "      <td>0.0</td>\n",
       "      <td>0.0</td>\n",
       "      <td>0.0</td>\n",
       "      <td>0.0</td>\n",
       "      <td>0.0</td>\n",
       "      <td>1.0</td>\n",
       "      <td>0.0</td>\n",
       "      <td>0.0</td>\n",
       "      <td>1.0</td>\n",
       "    </tr>\n",
       "    <tr>\n",
       "      <th>2</th>\n",
       "      <td>1.611294</td>\n",
       "      <td>-1.189938</td>\n",
       "      <td>0.525169</td>\n",
       "      <td>2.084883</td>\n",
       "      <td>0.652301</td>\n",
       "      <td>1.133500</td>\n",
       "      <td>-0.292849</td>\n",
       "      <td>0.351969</td>\n",
       "      <td>0.270009</td>\n",
       "      <td>-1.492488</td>\n",
       "      <td>...</td>\n",
       "      <td>0.0</td>\n",
       "      <td>0.0</td>\n",
       "      <td>1.0</td>\n",
       "      <td>0.0</td>\n",
       "      <td>0.0</td>\n",
       "      <td>0.0</td>\n",
       "      <td>1.0</td>\n",
       "      <td>0.0</td>\n",
       "      <td>0.0</td>\n",
       "      <td>1.0</td>\n",
       "    </tr>\n",
       "    <tr>\n",
       "      <th>3</th>\n",
       "      <td>0.133099</td>\n",
       "      <td>-0.510083</td>\n",
       "      <td>-0.848737</td>\n",
       "      <td>0.139897</td>\n",
       "      <td>-0.060532</td>\n",
       "      <td>-0.380835</td>\n",
       "      <td>0.275403</td>\n",
       "      <td>-0.329552</td>\n",
       "      <td>0.262920</td>\n",
       "      <td>1.376056</td>\n",
       "      <td>...</td>\n",
       "      <td>0.0</td>\n",
       "      <td>0.0</td>\n",
       "      <td>0.0</td>\n",
       "      <td>1.0</td>\n",
       "      <td>0.0</td>\n",
       "      <td>0.0</td>\n",
       "      <td>1.0</td>\n",
       "      <td>1.0</td>\n",
       "      <td>0.0</td>\n",
       "      <td>0.0</td>\n",
       "    </tr>\n",
       "    <tr>\n",
       "      <th>4</th>\n",
       "      <td>-0.506817</td>\n",
       "      <td>1.529481</td>\n",
       "      <td>-1.535690</td>\n",
       "      <td>0.869267</td>\n",
       "      <td>-0.773365</td>\n",
       "      <td>-0.683702</td>\n",
       "      <td>1.081014</td>\n",
       "      <td>-0.988829</td>\n",
       "      <td>-0.832847</td>\n",
       "      <td>0.007464</td>\n",
       "      <td>...</td>\n",
       "      <td>1.0</td>\n",
       "      <td>0.0</td>\n",
       "      <td>0.0</td>\n",
       "      <td>0.0</td>\n",
       "      <td>0.0</td>\n",
       "      <td>0.0</td>\n",
       "      <td>1.0</td>\n",
       "      <td>0.0</td>\n",
       "      <td>0.0</td>\n",
       "      <td>1.0</td>\n",
       "    </tr>\n",
       "    <tr>\n",
       "      <th>5</th>\n",
       "      <td>0.420597</td>\n",
       "      <td>-0.510083</td>\n",
       "      <td>-0.848737</td>\n",
       "      <td>-0.103227</td>\n",
       "      <td>-0.060532</td>\n",
       "      <td>-0.077968</td>\n",
       "      <td>-0.879205</td>\n",
       "      <td>2.179136</td>\n",
       "      <td>-0.106725</td>\n",
       "      <td>1.488068</td>\n",
       "      <td>...</td>\n",
       "      <td>0.0</td>\n",
       "      <td>0.0</td>\n",
       "      <td>0.0</td>\n",
       "      <td>1.0</td>\n",
       "      <td>0.0</td>\n",
       "      <td>0.0</td>\n",
       "      <td>1.0</td>\n",
       "      <td>1.0</td>\n",
       "      <td>0.0</td>\n",
       "      <td>0.0</td>\n",
       "    </tr>\n",
       "    <tr>\n",
       "      <th>6</th>\n",
       "      <td>1.120795</td>\n",
       "      <td>0.849627</td>\n",
       "      <td>0.525169</td>\n",
       "      <td>-0.346350</td>\n",
       "      <td>0.177079</td>\n",
       "      <td>-0.077968</td>\n",
       "      <td>-2.091141</td>\n",
       "      <td>-0.361910</td>\n",
       "      <td>1.084238</td>\n",
       "      <td>0.836358</td>\n",
       "      <td>...</td>\n",
       "      <td>0.0</td>\n",
       "      <td>1.0</td>\n",
       "      <td>0.0</td>\n",
       "      <td>0.0</td>\n",
       "      <td>0.0</td>\n",
       "      <td>1.0</td>\n",
       "      <td>0.0</td>\n",
       "      <td>1.0</td>\n",
       "      <td>0.0</td>\n",
       "      <td>0.0</td>\n",
       "    </tr>\n",
       "    <tr>\n",
       "      <th>7</th>\n",
       "      <td>1.208641</td>\n",
       "      <td>-0.510083</td>\n",
       "      <td>1.212121</td>\n",
       "      <td>-1.075720</td>\n",
       "      <td>2.315579</td>\n",
       "      <td>-1.895171</td>\n",
       "      <td>0.352847</td>\n",
       "      <td>0.106258</td>\n",
       "      <td>-0.613086</td>\n",
       "      <td>0.752858</td>\n",
       "      <td>...</td>\n",
       "      <td>0.0</td>\n",
       "      <td>0.0</td>\n",
       "      <td>0.0</td>\n",
       "      <td>0.0</td>\n",
       "      <td>1.0</td>\n",
       "      <td>0.0</td>\n",
       "      <td>1.0</td>\n",
       "      <td>0.0</td>\n",
       "      <td>1.0</td>\n",
       "      <td>0.0</td>\n",
       "    </tr>\n",
       "    <tr>\n",
       "      <th>8</th>\n",
       "      <td>1.579607</td>\n",
       "      <td>-0.510083</td>\n",
       "      <td>1.212121</td>\n",
       "      <td>-0.589473</td>\n",
       "      <td>-0.060532</td>\n",
       "      <td>0.527766</td>\n",
       "      <td>-0.022300</td>\n",
       "      <td>-1.022197</td>\n",
       "      <td>1.745547</td>\n",
       "      <td>-0.095384</td>\n",
       "      <td>...</td>\n",
       "      <td>0.0</td>\n",
       "      <td>0.0</td>\n",
       "      <td>0.0</td>\n",
       "      <td>0.0</td>\n",
       "      <td>1.0</td>\n",
       "      <td>0.0</td>\n",
       "      <td>1.0</td>\n",
       "      <td>0.0</td>\n",
       "      <td>1.0</td>\n",
       "      <td>0.0</td>\n",
       "    </tr>\n",
       "    <tr>\n",
       "      <th>9</th>\n",
       "      <td>-1.442732</td>\n",
       "      <td>-0.510083</td>\n",
       "      <td>-0.848737</td>\n",
       "      <td>-0.103227</td>\n",
       "      <td>0.652301</td>\n",
       "      <td>1.133500</td>\n",
       "      <td>-0.371298</td>\n",
       "      <td>0.500610</td>\n",
       "      <td>1.170320</td>\n",
       "      <td>0.100129</td>\n",
       "      <td>...</td>\n",
       "      <td>0.0</td>\n",
       "      <td>0.0</td>\n",
       "      <td>0.0</td>\n",
       "      <td>1.0</td>\n",
       "      <td>0.0</td>\n",
       "      <td>0.0</td>\n",
       "      <td>1.0</td>\n",
       "      <td>1.0</td>\n",
       "      <td>0.0</td>\n",
       "      <td>0.0</td>\n",
       "    </tr>\n",
       "  </tbody>\n",
       "</table>\n",
       "<p>10 rows × 47 columns</p>\n",
       "</div>"
      ],
      "text/plain": [
       "    loading  attribute_2  attribute_3  measurement_0  measurement_1  \\\n",
       "0 -0.052127     1.529481    -1.535690       1.355513      -1.723809   \n",
       "1 -0.506817     1.529481    -1.535690       1.598637      -0.060532   \n",
       "2  1.611294    -1.189938     0.525169       2.084883       0.652301   \n",
       "3  0.133099    -0.510083    -0.848737       0.139897      -0.060532   \n",
       "4 -0.506817     1.529481    -1.535690       0.869267      -0.773365   \n",
       "5  0.420597    -0.510083    -0.848737      -0.103227      -0.060532   \n",
       "6  1.120795     0.849627     0.525169      -0.346350       0.177079   \n",
       "7  1.208641    -0.510083     1.212121      -1.075720       2.315579   \n",
       "8  1.579607    -0.510083     1.212121      -0.589473      -0.060532   \n",
       "9 -1.442732    -0.510083    -0.848737      -0.103227       0.652301   \n",
       "\n",
       "   measurement_2  measurement_3  measurement_4  measurement_5  measurement_6  \\\n",
       "0      -0.986569      -0.851044      -1.361947      -0.694104      -0.078073   \n",
       "1       0.224899       0.418221      -0.527740       0.277098       1.352635   \n",
       "2       1.133500      -0.292849       0.351969       0.270009      -1.492488   \n",
       "3      -0.380835       0.275403      -0.329552       0.262920       1.376056   \n",
       "4      -0.683702       1.081014      -0.988829      -0.832847       0.007464   \n",
       "5      -0.077968      -0.879205       2.179136      -0.106725       1.488068   \n",
       "6      -0.077968      -2.091141      -0.361910       1.084238       0.836358   \n",
       "7      -1.895171       0.352847       0.106258      -0.613086       0.752858   \n",
       "8       0.527766      -0.022300      -1.022197       1.745547      -0.095384   \n",
       "9       1.133500      -0.371298       0.500610       1.170320       0.100129   \n",
       "\n",
       "   ...    A    B    C    D    E  material_5  material_7  material_5  \\\n",
       "0  ...  1.0  0.0  0.0  0.0  0.0         0.0         1.0         0.0   \n",
       "1  ...  1.0  0.0  0.0  0.0  0.0         0.0         1.0         0.0   \n",
       "2  ...  0.0  0.0  1.0  0.0  0.0         0.0         1.0         0.0   \n",
       "3  ...  0.0  0.0  0.0  1.0  0.0         0.0         1.0         1.0   \n",
       "4  ...  1.0  0.0  0.0  0.0  0.0         0.0         1.0         0.0   \n",
       "5  ...  0.0  0.0  0.0  1.0  0.0         0.0         1.0         1.0   \n",
       "6  ...  0.0  1.0  0.0  0.0  0.0         1.0         0.0         1.0   \n",
       "7  ...  0.0  0.0  0.0  0.0  1.0         0.0         1.0         0.0   \n",
       "8  ...  0.0  0.0  0.0  0.0  1.0         0.0         1.0         0.0   \n",
       "9  ...  0.0  0.0  0.0  1.0  0.0         0.0         1.0         1.0   \n",
       "\n",
       "   material_6  material_8  \n",
       "0         0.0         1.0  \n",
       "1         0.0         1.0  \n",
       "2         0.0         1.0  \n",
       "3         0.0         0.0  \n",
       "4         0.0         1.0  \n",
       "5         0.0         0.0  \n",
       "6         0.0         0.0  \n",
       "7         1.0         0.0  \n",
       "8         1.0         0.0  \n",
       "9         0.0         0.0  \n",
       "\n",
       "[10 rows x 47 columns]"
      ]
     },
     "execution_count": 27,
     "metadata": {},
     "output_type": "execute_result"
    }
   ],
   "source": [
    "df = pd.DataFrame(x_train, columns=all_cols)\n",
    "df.head(10)"
   ]
  },
  {
   "cell_type": "markdown",
   "id": "4587aac6",
   "metadata": {
    "papermill": {
     "duration": 0.022439,
     "end_time": "2022-10-07T13:20:38.557910",
     "exception": false,
     "start_time": "2022-10-07T13:20:38.535471",
     "status": "completed"
    },
    "tags": []
   },
   "source": [
    "<a id=\"10\"></a> <br>\n",
    "# Basic Modelling"
   ]
  },
  {
   "cell_type": "markdown",
   "id": "f066f167",
   "metadata": {
    "papermill": {
     "duration": 0.022371,
     "end_time": "2022-10-07T13:20:38.602964",
     "exception": false,
     "start_time": "2022-10-07T13:20:38.580593",
     "status": "completed"
    },
    "tags": []
   },
   "source": [
    "<a id=\"11\"></a> <br>\n",
    "# LogisticRegression"
   ]
  },
  {
   "cell_type": "code",
   "execution_count": 28,
   "id": "bd8e19c1",
   "metadata": {
    "execution": {
     "iopub.execute_input": "2022-10-07T13:20:38.650493Z",
     "iopub.status.busy": "2022-10-07T13:20:38.650103Z",
     "iopub.status.idle": "2022-10-07T13:20:38.821468Z",
     "shell.execute_reply": "2022-10-07T13:20:38.819567Z"
    },
    "papermill": {
     "duration": 0.200546,
     "end_time": "2022-10-07T13:20:38.826236",
     "exception": false,
     "start_time": "2022-10-07T13:20:38.625690",
     "status": "completed"
    },
    "tags": []
   },
   "outputs": [
    {
     "name": "stdout",
     "output_type": "stream",
     "text": [
      "auc = 0.58801\n",
      "CPU times: user 397 ms, sys: 231 ms, total: 628 ms\n",
      "Wall time: 163 ms\n"
     ]
    }
   ],
   "source": [
    "%%time\n",
    "\n",
    "model = LogisticRegression()\n",
    "model.fit(x_train, y_train)\n",
    "\n",
    "# We validate the model\n",
    "y_val_pred = model.predict_proba(x_val)[:,1]\n",
    "score = roc_auc_score(y_val, y_val_pred)\n",
    "print(f\"auc = {score:.5f}\")"
   ]
  },
  {
   "cell_type": "markdown",
   "id": "cbcade91",
   "metadata": {
    "papermill": {
     "duration": 0.05134,
     "end_time": "2022-10-07T13:20:38.937067",
     "exception": false,
     "start_time": "2022-10-07T13:20:38.885727",
     "status": "completed"
    },
    "tags": []
   },
   "source": [
    "<a id=\"12\"></a> <br>\n",
    "# Feature Importance of Model"
   ]
  },
  {
   "cell_type": "code",
   "execution_count": 29,
   "id": "42fe9485",
   "metadata": {
    "execution": {
     "iopub.execute_input": "2022-10-07T13:20:38.985487Z",
     "iopub.status.busy": "2022-10-07T13:20:38.985056Z",
     "iopub.status.idle": "2022-10-07T13:20:38.992667Z",
     "shell.execute_reply": "2022-10-07T13:20:38.991314Z"
    },
    "papermill": {
     "duration": 0.036037,
     "end_time": "2022-10-07T13:20:38.996355",
     "exception": false,
     "start_time": "2022-10-07T13:20:38.960318",
     "status": "completed"
    },
    "tags": []
   },
   "outputs": [
    {
     "name": "stdout",
     "output_type": "stream",
     "text": [
      "(47,)\n",
      "[ 0.29309896  0.00260418 -0.01865938  0.00716481 -0.00668561  0.05471817\n",
      "  0.0080535  -0.03917941  0.01810977  0.02415464  0.02477674  0.01667664\n",
      " -0.01132773 -0.01585919 -0.02133473  0.01653588  0.01093535  0.0090498\n",
      "  0.00312105  0.01372169  0.05672093 -0.02063273 -0.05144731  0.02014904\n",
      "  0.04336289 -0.0140169   0.01143489 -0.00408293  0.00575449  0.00670278\n",
      "  0.00319443  0.01385906 -0.00605591  0.00952491 -0.00554586 -0.00790789\n",
      "  0.00597748  0.01642064 -0.02354647 -0.00144693 -0.0046771   0.01296385\n",
      " -0.02354647  0.02326047 -0.02822357  0.01296385  0.01497372]\n"
     ]
    }
   ],
   "source": [
    "feature_importances = model.coef_.ravel() # ravel that makes the list to flattened array\n",
    "print(feature_importances.shape)\n",
    "print(feature_importances)"
   ]
  },
  {
   "cell_type": "code",
   "execution_count": 30,
   "id": "6d890d13",
   "metadata": {
    "execution": {
     "iopub.execute_input": "2022-10-07T13:20:39.045711Z",
     "iopub.status.busy": "2022-10-07T13:20:39.044979Z",
     "iopub.status.idle": "2022-10-07T13:20:39.056133Z",
     "shell.execute_reply": "2022-10-07T13:20:39.054856Z"
    },
    "papermill": {
     "duration": 0.038032,
     "end_time": "2022-10-07T13:20:39.058649",
     "exception": false,
     "start_time": "2022-10-07T13:20:39.020617",
     "status": "completed"
    },
    "tags": []
   },
   "outputs": [
    {
     "data": {
      "text/html": [
       "<div>\n",
       "<style scoped>\n",
       "    .dataframe tbody tr th:only-of-type {\n",
       "        vertical-align: middle;\n",
       "    }\n",
       "\n",
       "    .dataframe tbody tr th {\n",
       "        vertical-align: top;\n",
       "    }\n",
       "\n",
       "    .dataframe thead th {\n",
       "        text-align: right;\n",
       "    }\n",
       "</style>\n",
       "<table border=\"1\" class=\"dataframe\">\n",
       "  <thead>\n",
       "    <tr style=\"text-align: right;\">\n",
       "      <th></th>\n",
       "      <th>0</th>\n",
       "      <th>1</th>\n",
       "    </tr>\n",
       "  </thead>\n",
       "  <tbody>\n",
       "    <tr>\n",
       "      <th>0</th>\n",
       "      <td>0.293099</td>\n",
       "      <td>loading</td>\n",
       "    </tr>\n",
       "    <tr>\n",
       "      <th>1</th>\n",
       "      <td>0.056721</td>\n",
       "      <td>measurement_17</td>\n",
       "    </tr>\n",
       "    <tr>\n",
       "      <th>2</th>\n",
       "      <td>0.054718</td>\n",
       "      <td>measurement_2</td>\n",
       "    </tr>\n",
       "    <tr>\n",
       "      <th>3</th>\n",
       "      <td>0.043363</td>\n",
       "      <td>measurement_5_was_missing</td>\n",
       "    </tr>\n",
       "    <tr>\n",
       "      <th>4</th>\n",
       "      <td>0.024777</td>\n",
       "      <td>measurement_7</td>\n",
       "    </tr>\n",
       "  </tbody>\n",
       "</table>\n",
       "</div>"
      ],
      "text/plain": [
       "          0                          1\n",
       "0  0.293099                    loading\n",
       "1  0.056721             measurement_17\n",
       "2  0.054718              measurement_2\n",
       "3  0.043363  measurement_5_was_missing\n",
       "4  0.024777              measurement_7"
      ]
     },
     "execution_count": 30,
     "metadata": {},
     "output_type": "execute_result"
    }
   ],
   "source": [
    "feature_importance_list = sorted(zip(feature_importances, all_cols), reverse=True)\n",
    "pd.DataFrame(feature_importance_list).head()"
   ]
  },
  {
   "cell_type": "code",
   "execution_count": 31,
   "id": "e234d878",
   "metadata": {
    "execution": {
     "iopub.execute_input": "2022-10-07T13:20:39.106729Z",
     "iopub.status.busy": "2022-10-07T13:20:39.106205Z",
     "iopub.status.idle": "2022-10-07T13:20:39.131340Z",
     "shell.execute_reply": "2022-10-07T13:20:39.130096Z"
    },
    "papermill": {
     "duration": 0.05248,
     "end_time": "2022-10-07T13:20:39.134042",
     "exception": false,
     "start_time": "2022-10-07T13:20:39.081562",
     "status": "completed"
    },
    "tags": []
   },
   "outputs": [
    {
     "data": {
      "text/html": [
       "<div>\n",
       "<style scoped>\n",
       "    .dataframe tbody tr th:only-of-type {\n",
       "        vertical-align: middle;\n",
       "    }\n",
       "\n",
       "    .dataframe tbody tr th {\n",
       "        vertical-align: top;\n",
       "    }\n",
       "\n",
       "    .dataframe thead th {\n",
       "        text-align: right;\n",
       "    }\n",
       "</style>\n",
       "<table border=\"1\" class=\"dataframe\">\n",
       "  <thead>\n",
       "    <tr style=\"text-align: right;\">\n",
       "      <th></th>\n",
       "      <th>loading</th>\n",
       "      <th>attribute_2</th>\n",
       "      <th>attribute_3</th>\n",
       "      <th>measurement_0</th>\n",
       "      <th>measurement_1</th>\n",
       "      <th>measurement_2</th>\n",
       "      <th>measurement_3</th>\n",
       "      <th>measurement_4</th>\n",
       "      <th>measurement_5</th>\n",
       "      <th>measurement_6</th>\n",
       "      <th>...</th>\n",
       "      <th>A</th>\n",
       "      <th>B</th>\n",
       "      <th>C</th>\n",
       "      <th>D</th>\n",
       "      <th>E</th>\n",
       "      <th>material_5</th>\n",
       "      <th>material_7</th>\n",
       "      <th>material_5</th>\n",
       "      <th>material_6</th>\n",
       "      <th>material_8</th>\n",
       "    </tr>\n",
       "  </thead>\n",
       "  <tbody>\n",
       "    <tr>\n",
       "      <th>0</th>\n",
       "      <td>0.293099</td>\n",
       "      <td>0.002604</td>\n",
       "      <td>-0.018659</td>\n",
       "      <td>0.007165</td>\n",
       "      <td>-0.006686</td>\n",
       "      <td>0.054718</td>\n",
       "      <td>0.008053</td>\n",
       "      <td>-0.039179</td>\n",
       "      <td>0.01811</td>\n",
       "      <td>0.024155</td>\n",
       "      <td>...</td>\n",
       "      <td>0.016421</td>\n",
       "      <td>-0.023546</td>\n",
       "      <td>-0.001447</td>\n",
       "      <td>-0.004677</td>\n",
       "      <td>0.012964</td>\n",
       "      <td>-0.023546</td>\n",
       "      <td>0.02326</td>\n",
       "      <td>-0.028224</td>\n",
       "      <td>0.012964</td>\n",
       "      <td>0.014974</td>\n",
       "    </tr>\n",
       "  </tbody>\n",
       "</table>\n",
       "<p>1 rows × 47 columns</p>\n",
       "</div>"
      ],
      "text/plain": [
       "    loading  attribute_2  attribute_3  measurement_0  measurement_1  \\\n",
       "0  0.293099     0.002604    -0.018659       0.007165      -0.006686   \n",
       "\n",
       "   measurement_2  measurement_3  measurement_4  measurement_5  measurement_6  \\\n",
       "0       0.054718       0.008053      -0.039179        0.01811       0.024155   \n",
       "\n",
       "   ...         A         B         C         D         E  material_5  \\\n",
       "0  ...  0.016421 -0.023546 -0.001447 -0.004677  0.012964   -0.023546   \n",
       "\n",
       "   material_7  material_5  material_6  material_8  \n",
       "0     0.02326   -0.028224    0.012964    0.014974  \n",
       "\n",
       "[1 rows x 47 columns]"
      ]
     },
     "execution_count": 31,
     "metadata": {},
     "output_type": "execute_result"
    }
   ],
   "source": [
    "df_feature_importance = pd.DataFrame(np.array(feature_importances).reshape(1, len(feature_importances)), columns=all_cols)\n",
    "df_feature_importance.head()"
   ]
  },
  {
   "cell_type": "code",
   "execution_count": 32,
   "id": "d988630f",
   "metadata": {
    "execution": {
     "iopub.execute_input": "2022-10-07T13:20:39.183578Z",
     "iopub.status.busy": "2022-10-07T13:20:39.182926Z",
     "iopub.status.idle": "2022-10-07T13:20:39.188955Z",
     "shell.execute_reply": "2022-10-07T13:20:39.187953Z"
    },
    "papermill": {
     "duration": 0.034318,
     "end_time": "2022-10-07T13:20:39.191948",
     "exception": false,
     "start_time": "2022-10-07T13:20:39.157630",
     "status": "completed"
    },
    "tags": []
   },
   "outputs": [
    {
     "name": "stdout",
     "output_type": "stream",
     "text": [
      "(2, 47)\n",
      "(47, 2)\n"
     ]
    }
   ],
   "source": [
    "# example to show whats going on feature_importance_list\n",
    "feature_importances_list = []\n",
    "feature_importances_list.append(feature_importances)\n",
    "feature_importances_list.append(feature_importances)\n",
    "print(np.array(feature_importances_list).shape)\n",
    "print(np.array(feature_importances_list).T.shape)"
   ]
  },
  {
   "cell_type": "code",
   "execution_count": 33,
   "id": "10093c83",
   "metadata": {
    "execution": {
     "iopub.execute_input": "2022-10-07T13:20:39.243672Z",
     "iopub.status.busy": "2022-10-07T13:20:39.243223Z",
     "iopub.status.idle": "2022-10-07T13:20:39.566841Z",
     "shell.execute_reply": "2022-10-07T13:20:39.565424Z"
    },
    "papermill": {
     "duration": 0.352887,
     "end_time": "2022-10-07T13:20:39.569743",
     "exception": false,
     "start_time": "2022-10-07T13:20:39.216856",
     "status": "completed"
    },
    "tags": []
   },
   "outputs": [
    {
     "data": {
      "image/png": "[encoded data removed]",
      "text/plain": [
       "<Figure size 1008x288 with 1 Axes>"
      ]
     },
     "metadata": {
      "needs_background": "light"
     },
     "output_type": "display_data"
    }
   ],
   "source": [
    "# Show feature importances\n",
    "# code source : https://www.kaggle.com/code/ambrosm/tpsaug22-eda-which-makes-sense\n",
    "def plot_model_feature_importance(feature_importance_list, features, title_name='Model', number_of_features=10):\n",
    "    \"\"\"\n",
    "    features_importance_list: array of features importance\n",
    "    features: a array that contain columns or features names\n",
    "    title_name = title of graph\n",
    "    number_of_features : how many numbers of features to show on the graph\n",
    "    \"\"\"\n",
    "    importance_df = pd.DataFrame(np.array(feature_importance_list).T, index=features)\n",
    "    importance_df['mean'] = importance_df.mean(axis=1).abs()\n",
    "    importance_df['feature'] = features\n",
    "    importance_df = importance_df.sort_values('mean', ascending=False).reset_index().head(number_of_features)\n",
    "    plt.figure(figsize=(14, 4))\n",
    "    plt.barh(importance_df.index, importance_df['mean'], color='lightgreen')\n",
    "    plt.gca().invert_yaxis()\n",
    "    plt.yticks(ticks=importance_df.index, labels=importance_df['feature'])\n",
    "    plt.title(title_name + \" Feature Importance\")\n",
    "    plt.show()\n",
    "    \n",
    "    return importance_df # to show the dataframe\n",
    "\n",
    "importance_df = plot_model_feature_importance(feature_importances, all_cols, title_name=\"LogisticRegression\", number_of_features=20)"
   ]
  },
  {
   "cell_type": "code",
   "execution_count": 34,
   "id": "7a5dc776",
   "metadata": {
    "execution": {
     "iopub.execute_input": "2022-10-07T13:20:39.621589Z",
     "iopub.status.busy": "2022-10-07T13:20:39.620759Z",
     "iopub.status.idle": "2022-10-07T13:20:39.633034Z",
     "shell.execute_reply": "2022-10-07T13:20:39.632176Z"
    },
    "papermill": {
     "duration": 0.040929,
     "end_time": "2022-10-07T13:20:39.635235",
     "exception": false,
     "start_time": "2022-10-07T13:20:39.594306",
     "status": "completed"
    },
    "tags": []
   },
   "outputs": [
    {
     "data": {
      "text/html": [
       "<div>\n",
       "<style scoped>\n",
       "    .dataframe tbody tr th:only-of-type {\n",
       "        vertical-align: middle;\n",
       "    }\n",
       "\n",
       "    .dataframe tbody tr th {\n",
       "        vertical-align: top;\n",
       "    }\n",
       "\n",
       "    .dataframe thead th {\n",
       "        text-align: right;\n",
       "    }\n",
       "</style>\n",
       "<table border=\"1\" class=\"dataframe\">\n",
       "  <thead>\n",
       "    <tr style=\"text-align: right;\">\n",
       "      <th></th>\n",
       "      <th>index</th>\n",
       "      <th>0</th>\n",
       "      <th>mean</th>\n",
       "      <th>feature</th>\n",
       "    </tr>\n",
       "  </thead>\n",
       "  <tbody>\n",
       "    <tr>\n",
       "      <th>0</th>\n",
       "      <td>loading</td>\n",
       "      <td>0.293099</td>\n",
       "      <td>0.293099</td>\n",
       "      <td>loading</td>\n",
       "    </tr>\n",
       "    <tr>\n",
       "      <th>1</th>\n",
       "      <td>measurement_17</td>\n",
       "      <td>0.056721</td>\n",
       "      <td>0.056721</td>\n",
       "      <td>measurement_17</td>\n",
       "    </tr>\n",
       "    <tr>\n",
       "      <th>2</th>\n",
       "      <td>measurement_2</td>\n",
       "      <td>0.054718</td>\n",
       "      <td>0.054718</td>\n",
       "      <td>measurement_2</td>\n",
       "    </tr>\n",
       "    <tr>\n",
       "      <th>3</th>\n",
       "      <td>measurement_3_was_missing</td>\n",
       "      <td>-0.051447</td>\n",
       "      <td>0.051447</td>\n",
       "      <td>measurement_3_was_missing</td>\n",
       "    </tr>\n",
       "    <tr>\n",
       "      <th>4</th>\n",
       "      <td>measurement_5_was_missing</td>\n",
       "      <td>0.043363</td>\n",
       "      <td>0.043363</td>\n",
       "      <td>measurement_5_was_missing</td>\n",
       "    </tr>\n",
       "  </tbody>\n",
       "</table>\n",
       "</div>"
      ],
      "text/plain": [
       "                       index         0      mean                    feature\n",
       "0                    loading  0.293099  0.293099                    loading\n",
       "1             measurement_17  0.056721  0.056721             measurement_17\n",
       "2              measurement_2  0.054718  0.054718              measurement_2\n",
       "3  measurement_3_was_missing -0.051447  0.051447  measurement_3_was_missing\n",
       "4  measurement_5_was_missing  0.043363  0.043363  measurement_5_was_missing"
      ]
     },
     "execution_count": 34,
     "metadata": {},
     "output_type": "execute_result"
    }
   ],
   "source": [
    "importance_df.head()"
   ]
  },
  {
   "cell_type": "markdown",
   "id": "4354a9a7",
   "metadata": {
    "papermill": {
     "duration": 0.023804,
     "end_time": "2022-10-07T13:20:39.683768",
     "exception": false,
     "start_time": "2022-10-07T13:20:39.659964",
     "status": "completed"
    },
    "tags": []
   },
   "source": [
    "<a id=\"31\"></a> <br>\n",
    "# SVC - SVM Classifier"
   ]
  },
  {
   "cell_type": "code",
   "execution_count": 35,
   "id": "240b0a8e",
   "metadata": {
    "execution": {
     "iopub.execute_input": "2022-10-07T13:20:39.734916Z",
     "iopub.status.busy": "2022-10-07T13:20:39.734163Z",
     "iopub.status.idle": "2022-10-07T13:20:39.738260Z",
     "shell.execute_reply": "2022-10-07T13:20:39.737441Z"
    },
    "papermill": {
     "duration": 0.032178,
     "end_time": "2022-10-07T13:20:39.740554",
     "exception": false,
     "start_time": "2022-10-07T13:20:39.708376",
     "status": "completed"
    },
    "tags": []
   },
   "outputs": [],
   "source": [
    "# from sklearn.inspection import permutation_importance"
   ]
  },
  {
   "cell_type": "code",
   "execution_count": 36,
   "id": "0640363a",
   "metadata": {
    "execution": {
     "iopub.execute_input": "2022-10-07T13:20:39.792111Z",
     "iopub.status.busy": "2022-10-07T13:20:39.791666Z",
     "iopub.status.idle": "2022-10-07T13:20:39.796988Z",
     "shell.execute_reply": "2022-10-07T13:20:39.795745Z"
    },
    "papermill": {
     "duration": 0.033631,
     "end_time": "2022-10-07T13:20:39.799281",
     "exception": false,
     "start_time": "2022-10-07T13:20:39.765650",
     "status": "completed"
    },
    "tags": []
   },
   "outputs": [],
   "source": [
    "# %%time\n",
    "# model = SVC(probability=True)\n",
    "# model.fit(x_train, y_train)"
   ]
  },
  {
   "cell_type": "code",
   "execution_count": 37,
   "id": "514d9ca5",
   "metadata": {
    "execution": {
     "iopub.execute_input": "2022-10-07T13:20:39.851198Z",
     "iopub.status.busy": "2022-10-07T13:20:39.850477Z",
     "iopub.status.idle": "2022-10-07T13:20:39.855348Z",
     "shell.execute_reply": "2022-10-07T13:20:39.854136Z"
    },
    "papermill": {
     "duration": 0.033756,
     "end_time": "2022-10-07T13:20:39.858155",
     "exception": false,
     "start_time": "2022-10-07T13:20:39.824399",
     "status": "completed"
    },
    "tags": []
   },
   "outputs": [],
   "source": [
    "# %%time\n",
    "# # We validate the model\n",
    "# y_val_pred = model.predict_proba(x_val)[:,1]\n",
    "# score = roc_auc_score(y_val, y_val_pred)\n",
    "# print(f\"auc = {score:.5f}\")"
   ]
  },
  {
   "cell_type": "code",
   "execution_count": 38,
   "id": "ff5662c5",
   "metadata": {
    "execution": {
     "iopub.execute_input": "2022-10-07T13:20:39.909551Z",
     "iopub.status.busy": "2022-10-07T13:20:39.908800Z",
     "iopub.status.idle": "2022-10-07T13:20:39.913069Z",
     "shell.execute_reply": "2022-10-07T13:20:39.912061Z"
    },
    "papermill": {
     "duration": 0.033058,
     "end_time": "2022-10-07T13:20:39.915403",
     "exception": false,
     "start_time": "2022-10-07T13:20:39.882345",
     "status": "completed"
    },
    "tags": []
   },
   "outputs": [],
   "source": [
    "# %%time\n",
    "# # feature_importances = model.coef_.ravel() # ravel that makes the list to flattened array\n",
    "\n",
    "# perm_importance = permutation_importance(model, x_train, y_train)\n",
    "# # importance_df = plot_model_feature_importance(feature_importances, all_cols, title_name=\"SVC\", number_of_features=20)"
   ]
  },
  {
   "cell_type": "markdown",
   "id": "61ab9190",
   "metadata": {
    "papermill": {
     "duration": 0.023578,
     "end_time": "2022-10-07T13:20:39.963233",
     "exception": false,
     "start_time": "2022-10-07T13:20:39.939655",
     "status": "completed"
    },
    "tags": []
   },
   "source": [
    "<a id=\"13\"></a> <br>\n",
    "# RandomForestClassifier"
   ]
  },
  {
   "cell_type": "code",
   "execution_count": 39,
   "id": "ad7f1f97",
   "metadata": {
    "execution": {
     "iopub.execute_input": "2022-10-07T13:20:40.013424Z",
     "iopub.status.busy": "2022-10-07T13:20:40.012192Z",
     "iopub.status.idle": "2022-10-07T13:20:49.501635Z",
     "shell.execute_reply": "2022-10-07T13:20:49.499636Z"
    },
    "papermill": {
     "duration": 9.517314,
     "end_time": "2022-10-07T13:20:49.504458",
     "exception": false,
     "start_time": "2022-10-07T13:20:39.987144",
     "status": "completed"
    },
    "tags": []
   },
   "outputs": [
    {
     "name": "stdout",
     "output_type": "stream",
     "text": [
      "CPU times: user 9.42 s, sys: 42.3 ms, total: 9.46 s\n",
      "Wall time: 9.48 s\n"
     ]
    },
    {
     "data": {
      "text/plain": [
       "RandomForestClassifier(random_state=0)"
      ]
     },
     "execution_count": 39,
     "metadata": {},
     "output_type": "execute_result"
    }
   ],
   "source": [
    "%%time\n",
    "random_forest = RandomForestClassifier(n_estimators=100, random_state=0)\n",
    "\n",
    "random_forest.fit(x_train, y_train)"
   ]
  },
  {
   "cell_type": "code",
   "execution_count": 40,
   "id": "2ab03265",
   "metadata": {
    "execution": {
     "iopub.execute_input": "2022-10-07T13:20:49.555400Z",
     "iopub.status.busy": "2022-10-07T13:20:49.554997Z",
     "iopub.status.idle": "2022-10-07T13:20:49.732969Z",
     "shell.execute_reply": "2022-10-07T13:20:49.731374Z"
    },
    "papermill": {
     "duration": 0.206898,
     "end_time": "2022-10-07T13:20:49.735808",
     "exception": false,
     "start_time": "2022-10-07T13:20:49.528910",
     "status": "completed"
    },
    "tags": []
   },
   "outputs": [
    {
     "name": "stdout",
     "output_type": "stream",
     "text": [
      "auc = 0.55575\n"
     ]
    }
   ],
   "source": [
    "# We validate the model\n",
    "y_val_pred = random_forest.predict_proba(x_val)[:,1]\n",
    "score = roc_auc_score(y_val, y_val_pred)\n",
    "print(f\"auc = {score:.5f}\")"
   ]
  },
  {
   "cell_type": "code",
   "execution_count": 41,
   "id": "2394e3a5",
   "metadata": {
    "execution": {
     "iopub.execute_input": "2022-10-07T13:20:49.786974Z",
     "iopub.status.busy": "2022-10-07T13:20:49.786569Z",
     "iopub.status.idle": "2022-10-07T13:20:49.816569Z",
     "shell.execute_reply": "2022-10-07T13:20:49.814993Z"
    },
    "papermill": {
     "duration": 0.059173,
     "end_time": "2022-10-07T13:20:49.819241",
     "exception": false,
     "start_time": "2022-10-07T13:20:49.760068",
     "status": "completed"
    },
    "tags": []
   },
   "outputs": [
    {
     "data": {
      "text/plain": [
       "array([0.0663639 , 0.00857186, 0.00815086, 0.03387101, 0.03426656,\n",
       "       0.03261221, 0.05036885, 0.04998795, 0.05049431, 0.04881541,\n",
       "       0.04874038, 0.04941006, 0.04968118, 0.04834884, 0.04870724,\n",
       "       0.04921982, 0.049205  , 0.04899003, 0.04748329, 0.0487998 ,\n",
       "       0.04832425, 0.0009444 , 0.00109169, 0.00225447, 0.00259548,\n",
       "       0.00216931, 0.00272223, 0.00285234, 0.00302511, 0.00326151,\n",
       "       0.00336941, 0.00369206, 0.00358995, 0.003855  , 0.00388524,\n",
       "       0.00373837, 0.00397392, 0.00285275, 0.00274582, 0.00351036,\n",
       "       0.00374673, 0.00323803, 0.0026712 , 0.00266094, 0.0038962 ,\n",
       "       0.00323731, 0.00400741])"
      ]
     },
     "execution_count": 41,
     "metadata": {},
     "output_type": "execute_result"
    }
   ],
   "source": [
    "# feature importance for RandomForestClassifier\n",
    "feature_importances = random_forest.feature_importances_\n",
    "feature_importances"
   ]
  },
  {
   "cell_type": "code",
   "execution_count": 42,
   "id": "3d01dd87",
   "metadata": {
    "execution": {
     "iopub.execute_input": "2022-10-07T13:20:49.870209Z",
     "iopub.status.busy": "2022-10-07T13:20:49.869801Z",
     "iopub.status.idle": "2022-10-07T13:20:50.185224Z",
     "shell.execute_reply": "2022-10-07T13:20:50.183858Z"
    },
    "papermill": {
     "duration": 0.343836,
     "end_time": "2022-10-07T13:20:50.187922",
     "exception": false,
     "start_time": "2022-10-07T13:20:49.844086",
     "status": "completed"
    },
    "tags": []
   },
   "outputs": [
    {
     "data": {
      "image/png": "[encoded data removed]",
      "text/plain": [
       "<Figure size 1008x288 with 1 Axes>"
      ]
     },
     "metadata": {
      "needs_background": "light"
     },
     "output_type": "display_data"
    }
   ],
   "source": [
    "importance_df = plot_model_feature_importance(feature_importances, all_cols, title_name=\"RandomForestClassifier\", number_of_features=20)"
   ]
  },
  {
   "cell_type": "markdown",
   "id": "be6c07cc",
   "metadata": {
    "papermill": {
     "duration": 0.028836,
     "end_time": "2022-10-07T13:20:50.241707",
     "exception": false,
     "start_time": "2022-10-07T13:20:50.212871",
     "status": "completed"
    },
    "tags": []
   },
   "source": [
    "<a id=\"20\"></a> <br>\n",
    "# XGBoost"
   ]
  },
  {
   "cell_type": "code",
   "execution_count": 43,
   "id": "cee9b0e0",
   "metadata": {
    "execution": {
     "iopub.execute_input": "2022-10-07T13:20:50.297151Z",
     "iopub.status.busy": "2022-10-07T13:20:50.295866Z",
     "iopub.status.idle": "2022-10-07T13:20:50.301002Z",
     "shell.execute_reply": "2022-10-07T13:20:50.300034Z"
    },
    "papermill": {
     "duration": 0.034617,
     "end_time": "2022-10-07T13:20:50.303527",
     "exception": false,
     "start_time": "2022-10-07T13:20:50.268910",
     "status": "completed"
    },
    "tags": []
   },
   "outputs": [],
   "source": [
    "# !pip install --upgrade xgboost\n",
    "from xgboost import XGBClassifier"
   ]
  },
  {
   "cell_type": "code",
   "execution_count": 44,
   "id": "a0023765",
   "metadata": {
    "execution": {
     "iopub.execute_input": "2022-10-07T13:20:50.360270Z",
     "iopub.status.busy": "2022-10-07T13:20:50.359126Z",
     "iopub.status.idle": "2022-10-07T13:20:54.543741Z",
     "shell.execute_reply": "2022-10-07T13:20:54.541796Z"
    },
    "papermill": {
     "duration": 4.215794,
     "end_time": "2022-10-07T13:20:54.546862",
     "exception": false,
     "start_time": "2022-10-07T13:20:50.331068",
     "status": "completed"
    },
    "tags": []
   },
   "outputs": [
    {
     "name": "stdout",
     "output_type": "stream",
     "text": [
      "CPU times: user 16.5 s, sys: 49.6 ms, total: 16.5 s\n",
      "Wall time: 4.17 s\n"
     ]
    },
    {
     "data": {
      "text/plain": [
       "XGBClassifier(base_score=0.5, booster='gbtree', callbacks=None,\n",
       "              colsample_bylevel=1, colsample_bynode=1, colsample_bytree=1,\n",
       "              early_stopping_rounds=None, enable_categorical=False,\n",
       "              eval_metric=None, gamma=0, gpu_id=-1, grow_policy='depthwise',\n",
       "              importance_type=None, interaction_constraints='',\n",
       "              learning_rate=0.300000012, max_bin=256, max_cat_to_onehot=4,\n",
       "              max_delta_step=0, max_depth=6, max_leaves=0, min_child_weight=1,\n",
       "              missing=nan, monotone_constraints='()', n_estimators=100,\n",
       "              n_jobs=0, num_parallel_tree=1, predictor='auto', random_state=0,\n",
       "              reg_alpha=0, reg_lambda=1, ...)"
      ]
     },
     "execution_count": 44,
     "metadata": {},
     "output_type": "execute_result"
    }
   ],
   "source": [
    "%%time\n",
    "model = XGBClassifier()\n",
    "\n",
    "model.fit(x_train, y_train)"
   ]
  },
  {
   "cell_type": "code",
   "execution_count": 45,
   "id": "9d089461",
   "metadata": {
    "execution": {
     "iopub.execute_input": "2022-10-07T13:20:54.601911Z",
     "iopub.status.busy": "2022-10-07T13:20:54.601061Z",
     "iopub.status.idle": "2022-10-07T13:20:54.625834Z",
     "shell.execute_reply": "2022-10-07T13:20:54.623633Z"
    },
    "papermill": {
     "duration": 0.055954,
     "end_time": "2022-10-07T13:20:54.628873",
     "exception": false,
     "start_time": "2022-10-07T13:20:54.572919",
     "status": "completed"
    },
    "tags": []
   },
   "outputs": [
    {
     "name": "stdout",
     "output_type": "stream",
     "text": [
      "auc = 0.55216\n"
     ]
    }
   ],
   "source": [
    "# We validate the model\n",
    "y_val_pred = model.predict_proba(x_val)[:,1]\n",
    "score = roc_auc_score(y_val, y_val_pred)\n",
    "print(f\"auc = {score:.5f}\")"
   ]
  },
  {
   "cell_type": "code",
   "execution_count": 46,
   "id": "3609fa8c",
   "metadata": {
    "execution": {
     "iopub.execute_input": "2022-10-07T13:20:54.683447Z",
     "iopub.status.busy": "2022-10-07T13:20:54.682149Z",
     "iopub.status.idle": "2022-10-07T13:20:55.150369Z",
     "shell.execute_reply": "2022-10-07T13:20:55.145869Z"
    },
    "papermill": {
     "duration": 0.500176,
     "end_time": "2022-10-07T13:20:55.155230",
     "exception": false,
     "start_time": "2022-10-07T13:20:54.655054",
     "status": "completed"
    },
    "tags": []
   },
   "outputs": [
    {
     "data": {
      "image/png": "[encoded data removed]",
      "text/plain": [
       "<Figure size 1008x288 with 1 Axes>"
      ]
     },
     "metadata": {
      "needs_background": "light"
     },
     "output_type": "display_data"
    }
   ],
   "source": [
    "feature_importances = model.feature_importances_\n",
    "importance_df = plot_model_feature_importance(feature_importances, all_cols, title_name=\"XGBoost\", number_of_features=20)"
   ]
  },
  {
   "cell_type": "markdown",
   "id": "cb0f2a5f",
   "metadata": {
    "papermill": {
     "duration": 0.025307,
     "end_time": "2022-10-07T13:20:55.208480",
     "exception": false,
     "start_time": "2022-10-07T13:20:55.183173",
     "status": "completed"
    },
    "tags": []
   },
   "source": [
    "<a id=\"32\"></a> <br>\n",
    "# CatBoost Classifier"
   ]
  },
  {
   "cell_type": "code",
   "execution_count": 47,
   "id": "d9c7cf5c",
   "metadata": {
    "execution": {
     "iopub.execute_input": "2022-10-07T13:20:55.261418Z",
     "iopub.status.busy": "2022-10-07T13:20:55.261022Z",
     "iopub.status.idle": "2022-10-07T13:20:55.874262Z",
     "shell.execute_reply": "2022-10-07T13:20:55.872777Z"
    },
    "papermill": {
     "duration": 0.643993,
     "end_time": "2022-10-07T13:20:55.878215",
     "exception": false,
     "start_time": "2022-10-07T13:20:55.234222",
     "status": "completed"
    },
    "tags": []
   },
   "outputs": [
    {
     "name": "stdout",
     "output_type": "stream",
     "text": [
      "Learning rate set to 0.5\n",
      "0:\tlearn: 0.5551668\ttotal: 66.6ms\tremaining: 599ms\n",
      "5:\tlearn: 0.5077395\ttotal: 110ms\tremaining: 73.5ms\n",
      "9:\tlearn: 0.5015050\ttotal: 149ms\tremaining: 0us\n"
     ]
    },
    {
     "data": {
      "text/plain": [
       "<catboost.core.CatBoostClassifier at 0x7fca6a258d50>"
      ]
     },
     "execution_count": 47,
     "metadata": {},
     "output_type": "execute_result"
    }
   ],
   "source": [
    "model = CatBoostClassifier(iterations=10,verbose=5)\n",
    "model.fit(x_train, y_train)"
   ]
  },
  {
   "cell_type": "code",
   "execution_count": 48,
   "id": "2220efd3",
   "metadata": {
    "execution": {
     "iopub.execute_input": "2022-10-07T13:20:55.933922Z",
     "iopub.status.busy": "2022-10-07T13:20:55.933490Z",
     "iopub.status.idle": "2022-10-07T13:20:56.028789Z",
     "shell.execute_reply": "2022-10-07T13:20:56.027290Z"
    },
    "papermill": {
     "duration": 0.126799,
     "end_time": "2022-10-07T13:20:56.031845",
     "exception": false,
     "start_time": "2022-10-07T13:20:55.905046",
     "status": "completed"
    },
    "tags": []
   },
   "outputs": [
    {
     "name": "stdout",
     "output_type": "stream",
     "text": [
      "auc = 0.59041\n"
     ]
    }
   ],
   "source": [
    "# We validate the model\n",
    "y_val_pred = model.predict_proba(x_val)[:,1]\n",
    "score = roc_auc_score(y_val, y_val_pred)\n",
    "print(f\"auc = {score:.5f}\")"
   ]
  },
  {
   "cell_type": "code",
   "execution_count": 49,
   "id": "fcc66e09",
   "metadata": {
    "execution": {
     "iopub.execute_input": "2022-10-07T13:20:56.085300Z",
     "iopub.status.busy": "2022-10-07T13:20:56.084865Z",
     "iopub.status.idle": "2022-10-07T13:20:56.389837Z",
     "shell.execute_reply": "2022-10-07T13:20:56.388585Z"
    },
    "papermill": {
     "duration": 0.334618,
     "end_time": "2022-10-07T13:20:56.392410",
     "exception": false,
     "start_time": "2022-10-07T13:20:56.057792",
     "status": "completed"
    },
    "tags": []
   },
   "outputs": [
    {
     "data": {
      "image/png": "[encoded data removed]",
      "text/plain": [
       "<Figure size 1008x288 with 1 Axes>"
      ]
     },
     "metadata": {
      "needs_background": "light"
     },
     "output_type": "display_data"
    }
   ],
   "source": [
    "feature_importances = model.feature_importances_\n",
    "importance_df = plot_model_feature_importance(feature_importances, all_cols, title_name=\"CatBoostClassifier\", number_of_features=20)"
   ]
  },
  {
   "cell_type": "markdown",
   "id": "f329dec0",
   "metadata": {
    "papermill": {
     "duration": 0.026001,
     "end_time": "2022-10-07T13:20:56.444796",
     "exception": false,
     "start_time": "2022-10-07T13:20:56.418795",
     "status": "completed"
    },
    "tags": []
   },
   "source": [
    "<a id=\"33\"></a> <br>\n",
    "# LightGBM"
   ]
  },
  {
   "cell_type": "code",
   "execution_count": 50,
   "id": "f7faf833",
   "metadata": {
    "execution": {
     "iopub.execute_input": "2022-10-07T13:20:56.500248Z",
     "iopub.status.busy": "2022-10-07T13:20:56.499829Z",
     "iopub.status.idle": "2022-10-07T13:20:57.051604Z",
     "shell.execute_reply": "2022-10-07T13:20:57.050686Z"
    },
    "papermill": {
     "duration": 0.583332,
     "end_time": "2022-10-07T13:20:57.054455",
     "exception": false,
     "start_time": "2022-10-07T13:20:56.471123",
     "status": "completed"
    },
    "tags": []
   },
   "outputs": [
    {
     "data": {
      "text/plain": [
       "LGBMClassifier()"
      ]
     },
     "execution_count": 50,
     "metadata": {},
     "output_type": "execute_result"
    }
   ],
   "source": [
    "model = LGBMClassifier()\n",
    "model.fit(x_train, y_train)"
   ]
  },
  {
   "cell_type": "code",
   "execution_count": 51,
   "id": "bbb66ccf",
   "metadata": {
    "execution": {
     "iopub.execute_input": "2022-10-07T13:20:57.110866Z",
     "iopub.status.busy": "2022-10-07T13:20:57.110435Z",
     "iopub.status.idle": "2022-10-07T13:20:57.134001Z",
     "shell.execute_reply": "2022-10-07T13:20:57.132703Z"
    },
    "papermill": {
     "duration": 0.055611,
     "end_time": "2022-10-07T13:20:57.137549",
     "exception": false,
     "start_time": "2022-10-07T13:20:57.081938",
     "status": "completed"
    },
    "tags": []
   },
   "outputs": [
    {
     "name": "stdout",
     "output_type": "stream",
     "text": [
      "auc = 0.57595\n"
     ]
    }
   ],
   "source": [
    "# We validate the model\n",
    "y_val_pred = model.predict_proba(x_val)[:,1]\n",
    "score = roc_auc_score(y_val, y_val_pred)\n",
    "print(f\"auc = {score:.5f}\")"
   ]
  },
  {
   "cell_type": "code",
   "execution_count": 52,
   "id": "a29f72a5",
   "metadata": {
    "execution": {
     "iopub.execute_input": "2022-10-07T13:20:57.194471Z",
     "iopub.status.busy": "2022-10-07T13:20:57.193749Z",
     "iopub.status.idle": "2022-10-07T13:20:57.502261Z",
     "shell.execute_reply": "2022-10-07T13:20:57.501025Z"
    },
    "papermill": {
     "duration": 0.339527,
     "end_time": "2022-10-07T13:20:57.504930",
     "exception": false,
     "start_time": "2022-10-07T13:20:57.165403",
     "status": "completed"
    },
    "tags": []
   },
   "outputs": [
    {
     "data": {
      "image/png": "[encoded data removed]",
      "text/plain": [
       "<Figure size 1008x288 with 1 Axes>"
      ]
     },
     "metadata": {
      "needs_background": "light"
     },
     "output_type": "display_data"
    }
   ],
   "source": [
    "feature_importances = model.feature_importances_\n",
    "importance_df = plot_model_feature_importance(feature_importances, all_cols, title_name=\"LGBMClassifier\", number_of_features=20)"
   ]
  },
  {
   "cell_type": "markdown",
   "id": "71350609",
   "metadata": {
    "papermill": {
     "duration": 0.026871,
     "end_time": "2022-10-07T13:20:57.558934",
     "exception": false,
     "start_time": "2022-10-07T13:20:57.532063",
     "status": "completed"
    },
    "tags": []
   },
   "source": [
    "# Evaluate Models"
   ]
  },
  {
   "cell_type": "code",
   "execution_count": 53,
   "id": "c489916b",
   "metadata": {
    "execution": {
     "iopub.execute_input": "2022-10-07T13:20:57.614361Z",
     "iopub.status.busy": "2022-10-07T13:20:57.613887Z",
     "iopub.status.idle": "2022-10-07T13:20:57.620110Z",
     "shell.execute_reply": "2022-10-07T13:20:57.619092Z"
    },
    "papermill": {
     "duration": 0.036881,
     "end_time": "2022-10-07T13:20:57.622677",
     "exception": false,
     "start_time": "2022-10-07T13:20:57.585796",
     "status": "completed"
    },
    "tags": []
   },
   "outputs": [],
   "source": [
    "# %%time\n",
    "# model_list = [(\"SVC\", SVC(probability=True)), \n",
    "#               (\"LogisticRegression\", LogisticRegression()),\n",
    "#               (\"XGBoost\", XGBClassifier()),\n",
    "#               (\"RandomForestClassifier\", RandomForestClassifier(n_estimators=100, random_state=0)),\n",
    "#               (\"CatBoostClassifier\", CatBoostClassifier(iterations=10,verbose=5)),\n",
    "#               (\"LGBMClassifier\", LGBMClassifier())]\n",
    "\n",
    "\n",
    "# models_auc_scores = []\n",
    "\n",
    "# model_names = []\n",
    "\n",
    "# for i in range(len(model_list)):\n",
    "#     model_names.append(model_list[i][0])\n",
    "\n",
    "\n",
    "# for name, model in model_list:\n",
    "#     print(f\"-----{name}-----\")\n",
    "#     model.fit(x_train, y_train)\n",
    "    \n",
    "#     #Evaluating on Validation Set\n",
    "#     y_val_pred = model.predict_proba(x_val)[:,1]\n",
    "#     score = roc_auc_score(y_val, y_val_pred)\n",
    "#     print(f\"auc = {score:.5f}\")\n",
    "    \n",
    "#     models_auc_scores.append(score)\n",
    "    \n",
    "#     #Feature Importances\n",
    "#     if name == \"LogisticRegression\":\n",
    "#         feature_importances = model.coef_.ravel()\n",
    "#     else:   \n",
    "#         feature_importances = model.feature_importances_\n",
    "        \n",
    "#     importance_df = plot_model_feature_importance(feature_importances, all_cols, number_of_features=20)\n",
    "\n",
    "# # Models Auc Score Comparison\n",
    "# df_models_auc_score = pd.DataFrame(np.array(models_auc_scores).T, index=model_names)\n",
    "# df_models_auc_score = df_models_auc_score.sort_values(0, ascending=False).reset_index()\n",
    "\n",
    "# plt.figure(figsize=(8, 2))\n",
    "# plt.barh(df_models_auc_score[\"index\"], df_models_auc_score[0], color='purple')\n",
    "# plt.gca().invert_yaxis()\n",
    "# plt.title(\"Models Auc Score Comparison\")\n",
    "# plt.show()"
   ]
  },
  {
   "cell_type": "markdown",
   "id": "e723eace",
   "metadata": {
    "papermill": {
     "duration": 0.027093,
     "end_time": "2022-10-07T13:20:57.677689",
     "exception": false,
     "start_time": "2022-10-07T13:20:57.650596",
     "status": "completed"
    },
    "tags": []
   },
   "source": [
    "# Train on All Training Data"
   ]
  },
  {
   "cell_type": "code",
   "execution_count": 54,
   "id": "c268c8e5",
   "metadata": {
    "execution": {
     "iopub.execute_input": "2022-10-07T13:20:57.735576Z",
     "iopub.status.busy": "2022-10-07T13:20:57.734352Z",
     "iopub.status.idle": "2022-10-07T13:20:58.165947Z",
     "shell.execute_reply": "2022-10-07T13:20:58.164653Z"
    },
    "papermill": {
     "duration": 0.462768,
     "end_time": "2022-10-07T13:20:58.168393",
     "exception": false,
     "start_time": "2022-10-07T13:20:57.705625",
     "status": "completed"
    },
    "tags": []
   },
   "outputs": [
    {
     "name": "stdout",
     "output_type": "stream",
     "text": [
      "(26570, 47)\n"
     ]
    }
   ],
   "source": [
    "x_train_all = do_preprocess(df_train, preprocessor, train=True)"
   ]
  },
  {
   "cell_type": "code",
   "execution_count": 55,
   "id": "d4012b4d",
   "metadata": {
    "execution": {
     "iopub.execute_input": "2022-10-07T13:20:58.224976Z",
     "iopub.status.busy": "2022-10-07T13:20:58.224295Z",
     "iopub.status.idle": "2022-10-07T13:20:58.229092Z",
     "shell.execute_reply": "2022-10-07T13:20:58.228100Z"
    },
    "papermill": {
     "duration": 0.035927,
     "end_time": "2022-10-07T13:20:58.231549",
     "exception": false,
     "start_time": "2022-10-07T13:20:58.195622",
     "status": "completed"
    },
    "tags": []
   },
   "outputs": [],
   "source": [
    "# model = LogisticRegression()\n",
    "# model = XGBClassifier()\n",
    "# model = CatBoostClassifier(iterations=10,verbose=5)\n",
    "# model = LGBMClassifier()"
   ]
  },
  {
   "cell_type": "code",
   "execution_count": 56,
   "id": "75bc1501",
   "metadata": {
    "execution": {
     "iopub.execute_input": "2022-10-07T13:20:58.289700Z",
     "iopub.status.busy": "2022-10-07T13:20:58.288976Z",
     "iopub.status.idle": "2022-10-07T13:20:58.779927Z",
     "shell.execute_reply": "2022-10-07T13:20:58.778981Z"
    },
    "papermill": {
     "duration": 0.523588,
     "end_time": "2022-10-07T13:20:58.782820",
     "exception": false,
     "start_time": "2022-10-07T13:20:58.259232",
     "status": "completed"
    },
    "tags": []
   },
   "outputs": [
    {
     "data": {
      "text/plain": [
       "LGBMClassifier()"
      ]
     },
     "execution_count": 56,
     "metadata": {},
     "output_type": "execute_result"
    }
   ],
   "source": [
    "model.fit(x_train_all, y)"
   ]
  },
  {
   "cell_type": "markdown",
   "id": "8b43cf36",
   "metadata": {
    "papermill": {
     "duration": 0.026878,
     "end_time": "2022-10-07T13:20:58.837841",
     "exception": false,
     "start_time": "2022-10-07T13:20:58.810963",
     "status": "completed"
    },
    "tags": []
   },
   "source": [
    "<a id=\"30\"></a> <br>\n",
    "# Submission"
   ]
  },
  {
   "cell_type": "code",
   "execution_count": 57,
   "id": "4e6a6c9d",
   "metadata": {
    "execution": {
     "iopub.execute_input": "2022-10-07T13:20:58.894452Z",
     "iopub.status.busy": "2022-10-07T13:20:58.894014Z",
     "iopub.status.idle": "2022-10-07T13:20:59.048488Z",
     "shell.execute_reply": "2022-10-07T13:20:59.047167Z"
    },
    "papermill": {
     "duration": 0.185545,
     "end_time": "2022-10-07T13:20:59.051264",
     "exception": false,
     "start_time": "2022-10-07T13:20:58.865719",
     "status": "completed"
    },
    "tags": []
   },
   "outputs": [
    {
     "name": "stdout",
     "output_type": "stream",
     "text": [
      "(20775, 47)\n"
     ]
    }
   ],
   "source": [
    "x_test = do_preprocess(df_test, preprocessor, train=False)\n",
    "# x_test = preprocessor.transform(df_test)"
   ]
  },
  {
   "cell_type": "code",
   "execution_count": 58,
   "id": "4920cfe1",
   "metadata": {
    "execution": {
     "iopub.execute_input": "2022-10-07T13:20:59.108514Z",
     "iopub.status.busy": "2022-10-07T13:20:59.107117Z",
     "iopub.status.idle": "2022-10-07T13:20:59.157364Z",
     "shell.execute_reply": "2022-10-07T13:20:59.156082Z"
    },
    "papermill": {
     "duration": 0.082101,
     "end_time": "2022-10-07T13:20:59.160466",
     "exception": false,
     "start_time": "2022-10-07T13:20:59.078365",
     "status": "completed"
    },
    "tags": []
   },
   "outputs": [
    {
     "data": {
      "text/plain": [
       "array([0.20040493, 0.2038508 , 0.10737566, ..., 0.13649042, 0.19488358,\n",
       "       0.10921552])"
      ]
     },
     "execution_count": 58,
     "metadata": {},
     "output_type": "execute_result"
    }
   ],
   "source": [
    "test_pred = model.predict_proba(x_test)[:,1]\n",
    "test_pred"
   ]
  },
  {
   "cell_type": "code",
   "execution_count": 59,
   "id": "b29b6b3a",
   "metadata": {
    "execution": {
     "iopub.execute_input": "2022-10-07T13:20:59.224304Z",
     "iopub.status.busy": "2022-10-07T13:20:59.223475Z",
     "iopub.status.idle": "2022-10-07T13:20:59.290888Z",
     "shell.execute_reply": "2022-10-07T13:20:59.289649Z"
    },
    "papermill": {
     "duration": 0.101865,
     "end_time": "2022-10-07T13:20:59.293742",
     "exception": false,
     "start_time": "2022-10-07T13:20:59.191877",
     "status": "completed"
    },
    "tags": []
   },
   "outputs": [
    {
     "data": {
      "text/html": [
       "<div>\n",
       "<style scoped>\n",
       "    .dataframe tbody tr th:only-of-type {\n",
       "        vertical-align: middle;\n",
       "    }\n",
       "\n",
       "    .dataframe tbody tr th {\n",
       "        vertical-align: top;\n",
       "    }\n",
       "\n",
       "    .dataframe thead th {\n",
       "        text-align: right;\n",
       "    }\n",
       "</style>\n",
       "<table border=\"1\" class=\"dataframe\">\n",
       "  <thead>\n",
       "    <tr style=\"text-align: right;\">\n",
       "      <th></th>\n",
       "      <th>id</th>\n",
       "      <th>failure</th>\n",
       "    </tr>\n",
       "  </thead>\n",
       "  <tbody>\n",
       "    <tr>\n",
       "      <th>0</th>\n",
       "      <td>26570</td>\n",
       "      <td>0.200405</td>\n",
       "    </tr>\n",
       "    <tr>\n",
       "      <th>1</th>\n",
       "      <td>26571</td>\n",
       "      <td>0.203851</td>\n",
       "    </tr>\n",
       "    <tr>\n",
       "      <th>2</th>\n",
       "      <td>26572</td>\n",
       "      <td>0.107376</td>\n",
       "    </tr>\n",
       "    <tr>\n",
       "      <th>3</th>\n",
       "      <td>26573</td>\n",
       "      <td>0.147961</td>\n",
       "    </tr>\n",
       "    <tr>\n",
       "      <th>4</th>\n",
       "      <td>26574</td>\n",
       "      <td>0.201598</td>\n",
       "    </tr>\n",
       "    <tr>\n",
       "      <th>...</th>\n",
       "      <td>...</td>\n",
       "      <td>...</td>\n",
       "    </tr>\n",
       "    <tr>\n",
       "      <th>20770</th>\n",
       "      <td>47340</td>\n",
       "      <td>0.227544</td>\n",
       "    </tr>\n",
       "    <tr>\n",
       "      <th>20771</th>\n",
       "      <td>47341</td>\n",
       "      <td>0.125890</td>\n",
       "    </tr>\n",
       "    <tr>\n",
       "      <th>20772</th>\n",
       "      <td>47342</td>\n",
       "      <td>0.136490</td>\n",
       "    </tr>\n",
       "    <tr>\n",
       "      <th>20773</th>\n",
       "      <td>47343</td>\n",
       "      <td>0.194884</td>\n",
       "    </tr>\n",
       "    <tr>\n",
       "      <th>20774</th>\n",
       "      <td>47344</td>\n",
       "      <td>0.109216</td>\n",
       "    </tr>\n",
       "  </tbody>\n",
       "</table>\n",
       "<p>20775 rows × 2 columns</p>\n",
       "</div>"
      ],
      "text/plain": [
       "          id   failure\n",
       "0      26570  0.200405\n",
       "1      26571  0.203851\n",
       "2      26572  0.107376\n",
       "3      26573  0.147961\n",
       "4      26574  0.201598\n",
       "...      ...       ...\n",
       "20770  47340  0.227544\n",
       "20771  47341  0.125890\n",
       "20772  47342  0.136490\n",
       "20773  47343  0.194884\n",
       "20774  47344  0.109216\n",
       "\n",
       "[20775 rows x 2 columns]"
      ]
     },
     "execution_count": 59,
     "metadata": {},
     "output_type": "execute_result"
    }
   ],
   "source": [
    "submission = pd.DataFrame({'id': df_test.index,\n",
    "                           'failure': test_pred})\n",
    "submission.to_csv('submission.csv', index=False)\n",
    "submission"
   ]
  }
 ],
 "metadata": {
  "kernelspec": {
   "display_name": "Python 3",
   "language": "python",
   "name": "python3"
  },
  "language_info": {
   "codemirror_mode": {
    "name": "ipython",
    "version": 3
   },
   "file_extension": ".py",
   "mimetype": "text/x-python",
   "name": "python",
   "nbconvert_exporter": "python",
   "pygments_lexer": "ipython3",
   "version": "3.7.12"
  },
  "papermill": {
   "default_parameters": {},
   "duration": 37.98601,
   "end_time": "2022-10-07T13:21:00.244820",
   "environment_variables": {},
   "exception": null,
   "input_path": "__notebook__.ipynb",
   "output_path": "__notebook__.ipynb",
   "parameters": {},
   "start_time": "2022-10-07T13:20:22.258810",
   "version": "2.3.4"
  }
 },
 "nbformat": 4,
 "nbformat_minor": 5
}
