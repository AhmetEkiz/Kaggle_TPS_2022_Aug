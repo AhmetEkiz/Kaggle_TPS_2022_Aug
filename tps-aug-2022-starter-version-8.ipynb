{
 "cells": [
  {
   "cell_type": "markdown",
   "id": "28899204",
   "metadata": {
    "papermill": {
     "duration": 0.011542,
     "end_time": "2022-08-23T19:55:04.703605",
     "exception": false,
     "start_time": "2022-08-23T19:55:04.692063",
     "status": "completed"
    },
    "tags": []
   },
   "source": [
    "# Tabular Playground Series - Aug 2022\n",
    "\n",
    "In this notebook, I create base model for TPS Aug 2022. In below, some information about data is gave us. \n",
    "\n",
    ">This data represents the results of a large product testing study. For each **product_code** you are given a number of product **attributes** (fixed for the code) as well as a number of **measurement values** for each individual product, representing various lab testing methods. Each product is used in a simulated real-world environment experiment, and and absorbs a certain amount of fluid (**loading**) to see whether or not it fails.\n",
    "\n",
    ">Your task is to use the data to predict individual product failures of new codes with their individual lab test results."
   ]
  },
  {
   "cell_type": "markdown",
   "id": "7c8f1383",
   "metadata": {
    "papermill": {
     "duration": 0.00951,
     "end_time": "2022-08-23T19:55:04.723827",
     "exception": false,
     "start_time": "2022-08-23T19:55:04.714317",
     "status": "completed"
    },
    "tags": []
   },
   "source": [
    "<a id=\"0\"></a> <br>\n",
    "# Table of Contents  \n",
    "1. [Introduction to Tabular Playground Series - Aug 2022](#1)     \n",
    "1. [A glance at the Data](#2) \n",
    " 1. [Create Train and Test Sets](#3) \n",
    "1. [EDA](#4)\n",
    "1. [Missing Values](#4)\n",
    "1. [Modelling](#10)\n",
    "1. [XGBoost](#20)\n",
    "1. [Submission](#30)"
   ]
  },
  {
   "cell_type": "markdown",
   "id": "86165056",
   "metadata": {
    "papermill": {
     "duration": 0.009528,
     "end_time": "2022-08-23T19:55:04.743135",
     "exception": false,
     "start_time": "2022-08-23T19:55:04.733607",
     "status": "completed"
    },
    "tags": []
   },
   "source": [
    "<a id=\"1\"></a> <br>\n",
    "# 1. A glance at the Data"
   ]
  },
  {
   "cell_type": "code",
   "execution_count": 1,
   "id": "d2d32eb8",
   "metadata": {
    "_cell_guid": "b1076dfc-b9ad-4769-8c92-a6c4dae69d19",
    "_uuid": "8f2839f25d086af736a60e9eeb907d3b93b6e0e5",
    "execution": {
     "iopub.execute_input": "2022-08-23T19:55:04.765159Z",
     "iopub.status.busy": "2022-08-23T19:55:04.764381Z",
     "iopub.status.idle": "2022-08-23T19:55:06.170802Z",
     "shell.execute_reply": "2022-08-23T19:55:06.169965Z"
    },
    "papermill": {
     "duration": 1.422723,
     "end_time": "2022-08-23T19:55:06.175560",
     "exception": false,
     "start_time": "2022-08-23T19:55:04.752837",
     "status": "completed"
    },
    "tags": []
   },
   "outputs": [
    {
     "name": "stdout",
     "output_type": "stream",
     "text": [
      "/kaggle/input/tabular-playground-series-aug-2022/sample_submission.csv\n",
      "/kaggle/input/tabular-playground-series-aug-2022/train.csv\n",
      "/kaggle/input/tabular-playground-series-aug-2022/test.csv\n"
     ]
    }
   ],
   "source": [
    "import numpy as np # linear algebra\n",
    "import pandas as pd # data processing, CSV file I/O (e.g. pd.read_csv)\n",
    "from matplotlib import pyplot as plt\n",
    "import seaborn as sns\n",
    "\n",
    "# Preprocess\n",
    "from sklearn.compose import ColumnTransformer\n",
    "from sklearn.pipeline import Pipeline\n",
    "from sklearn.impute import SimpleImputer\n",
    "from sklearn.preprocessing import OneHotEncoder, StandardScaler\n",
    "\n",
    "# Metrics\n",
    "from sklearn.metrics import roc_auc_score\n",
    "\n",
    "# Model\n",
    "from sklearn.ensemble import RandomForestClassifier\n",
    "from sklearn.linear_model import LogisticRegression\n",
    "\n",
    "\n",
    "import os\n",
    "for dirname, _, filenames in os.walk('/kaggle/input'):\n",
    "    for filename in filenames:\n",
    "        print(os.path.join(dirname, filename))"
   ]
  },
  {
   "cell_type": "code",
   "execution_count": 2,
   "id": "99d1baf9",
   "metadata": {
    "execution": {
     "iopub.execute_input": "2022-08-23T19:55:06.203586Z",
     "iopub.status.busy": "2022-08-23T19:55:06.203005Z",
     "iopub.status.idle": "2022-08-23T19:55:06.491825Z",
     "shell.execute_reply": "2022-08-23T19:55:06.490769Z"
    },
    "papermill": {
     "duration": 0.305534,
     "end_time": "2022-08-23T19:55:06.494405",
     "exception": false,
     "start_time": "2022-08-23T19:55:06.188871",
     "status": "completed"
    },
    "tags": []
   },
   "outputs": [
    {
     "data": {
      "text/html": [
       "<div>\n",
       "<style scoped>\n",
       "    .dataframe tbody tr th:only-of-type {\n",
       "        vertical-align: middle;\n",
       "    }\n",
       "\n",
       "    .dataframe tbody tr th {\n",
       "        vertical-align: top;\n",
       "    }\n",
       "\n",
       "    .dataframe thead th {\n",
       "        text-align: right;\n",
       "    }\n",
       "</style>\n",
       "<table border=\"1\" class=\"dataframe\">\n",
       "  <thead>\n",
       "    <tr style=\"text-align: right;\">\n",
       "      <th></th>\n",
       "      <th>product_code</th>\n",
       "      <th>loading</th>\n",
       "      <th>attribute_0</th>\n",
       "      <th>attribute_1</th>\n",
       "      <th>attribute_2</th>\n",
       "      <th>attribute_3</th>\n",
       "      <th>measurement_0</th>\n",
       "      <th>measurement_1</th>\n",
       "      <th>measurement_2</th>\n",
       "      <th>measurement_3</th>\n",
       "      <th>...</th>\n",
       "      <th>measurement_9</th>\n",
       "      <th>measurement_10</th>\n",
       "      <th>measurement_11</th>\n",
       "      <th>measurement_12</th>\n",
       "      <th>measurement_13</th>\n",
       "      <th>measurement_14</th>\n",
       "      <th>measurement_15</th>\n",
       "      <th>measurement_16</th>\n",
       "      <th>measurement_17</th>\n",
       "      <th>failure</th>\n",
       "    </tr>\n",
       "    <tr>\n",
       "      <th>id</th>\n",
       "      <th></th>\n",
       "      <th></th>\n",
       "      <th></th>\n",
       "      <th></th>\n",
       "      <th></th>\n",
       "      <th></th>\n",
       "      <th></th>\n",
       "      <th></th>\n",
       "      <th></th>\n",
       "      <th></th>\n",
       "      <th></th>\n",
       "      <th></th>\n",
       "      <th></th>\n",
       "      <th></th>\n",
       "      <th></th>\n",
       "      <th></th>\n",
       "      <th></th>\n",
       "      <th></th>\n",
       "      <th></th>\n",
       "      <th></th>\n",
       "      <th></th>\n",
       "    </tr>\n",
       "  </thead>\n",
       "  <tbody>\n",
       "    <tr>\n",
       "      <th>0</th>\n",
       "      <td>A</td>\n",
       "      <td>80.10</td>\n",
       "      <td>material_7</td>\n",
       "      <td>material_8</td>\n",
       "      <td>9</td>\n",
       "      <td>5</td>\n",
       "      <td>7</td>\n",
       "      <td>8</td>\n",
       "      <td>4</td>\n",
       "      <td>18.040</td>\n",
       "      <td>...</td>\n",
       "      <td>10.672</td>\n",
       "      <td>15.859</td>\n",
       "      <td>17.594</td>\n",
       "      <td>15.193</td>\n",
       "      <td>15.029</td>\n",
       "      <td>NaN</td>\n",
       "      <td>13.034</td>\n",
       "      <td>14.684</td>\n",
       "      <td>764.100</td>\n",
       "      <td>0</td>\n",
       "    </tr>\n",
       "    <tr>\n",
       "      <th>1</th>\n",
       "      <td>A</td>\n",
       "      <td>84.89</td>\n",
       "      <td>material_7</td>\n",
       "      <td>material_8</td>\n",
       "      <td>9</td>\n",
       "      <td>5</td>\n",
       "      <td>14</td>\n",
       "      <td>3</td>\n",
       "      <td>3</td>\n",
       "      <td>18.213</td>\n",
       "      <td>...</td>\n",
       "      <td>12.448</td>\n",
       "      <td>17.947</td>\n",
       "      <td>17.915</td>\n",
       "      <td>11.755</td>\n",
       "      <td>14.732</td>\n",
       "      <td>15.425</td>\n",
       "      <td>14.395</td>\n",
       "      <td>15.631</td>\n",
       "      <td>682.057</td>\n",
       "      <td>0</td>\n",
       "    </tr>\n",
       "    <tr>\n",
       "      <th>2</th>\n",
       "      <td>A</td>\n",
       "      <td>82.43</td>\n",
       "      <td>material_7</td>\n",
       "      <td>material_8</td>\n",
       "      <td>9</td>\n",
       "      <td>5</td>\n",
       "      <td>12</td>\n",
       "      <td>1</td>\n",
       "      <td>5</td>\n",
       "      <td>18.057</td>\n",
       "      <td>...</td>\n",
       "      <td>12.715</td>\n",
       "      <td>15.607</td>\n",
       "      <td>NaN</td>\n",
       "      <td>13.798</td>\n",
       "      <td>16.711</td>\n",
       "      <td>18.631</td>\n",
       "      <td>14.094</td>\n",
       "      <td>17.946</td>\n",
       "      <td>663.376</td>\n",
       "      <td>0</td>\n",
       "    </tr>\n",
       "    <tr>\n",
       "      <th>3</th>\n",
       "      <td>A</td>\n",
       "      <td>101.07</td>\n",
       "      <td>material_7</td>\n",
       "      <td>material_8</td>\n",
       "      <td>9</td>\n",
       "      <td>5</td>\n",
       "      <td>13</td>\n",
       "      <td>2</td>\n",
       "      <td>6</td>\n",
       "      <td>17.295</td>\n",
       "      <td>...</td>\n",
       "      <td>12.471</td>\n",
       "      <td>16.346</td>\n",
       "      <td>18.377</td>\n",
       "      <td>10.020</td>\n",
       "      <td>15.250</td>\n",
       "      <td>15.562</td>\n",
       "      <td>16.154</td>\n",
       "      <td>17.172</td>\n",
       "      <td>826.282</td>\n",
       "      <td>0</td>\n",
       "    </tr>\n",
       "    <tr>\n",
       "      <th>4</th>\n",
       "      <td>A</td>\n",
       "      <td>188.06</td>\n",
       "      <td>material_7</td>\n",
       "      <td>material_8</td>\n",
       "      <td>9</td>\n",
       "      <td>5</td>\n",
       "      <td>9</td>\n",
       "      <td>2</td>\n",
       "      <td>8</td>\n",
       "      <td>19.346</td>\n",
       "      <td>...</td>\n",
       "      <td>10.337</td>\n",
       "      <td>17.082</td>\n",
       "      <td>19.932</td>\n",
       "      <td>12.428</td>\n",
       "      <td>16.182</td>\n",
       "      <td>12.760</td>\n",
       "      <td>13.153</td>\n",
       "      <td>16.412</td>\n",
       "      <td>579.885</td>\n",
       "      <td>0</td>\n",
       "    </tr>\n",
       "  </tbody>\n",
       "</table>\n",
       "<p>5 rows × 25 columns</p>\n",
       "</div>"
      ],
      "text/plain": [
       "   product_code  loading attribute_0 attribute_1  attribute_2  attribute_3  \\\n",
       "id                                                                           \n",
       "0             A    80.10  material_7  material_8            9            5   \n",
       "1             A    84.89  material_7  material_8            9            5   \n",
       "2             A    82.43  material_7  material_8            9            5   \n",
       "3             A   101.07  material_7  material_8            9            5   \n",
       "4             A   188.06  material_7  material_8            9            5   \n",
       "\n",
       "    measurement_0  measurement_1  measurement_2  measurement_3  ...  \\\n",
       "id                                                              ...   \n",
       "0               7              8              4         18.040  ...   \n",
       "1              14              3              3         18.213  ...   \n",
       "2              12              1              5         18.057  ...   \n",
       "3              13              2              6         17.295  ...   \n",
       "4               9              2              8         19.346  ...   \n",
       "\n",
       "    measurement_9  measurement_10  measurement_11  measurement_12  \\\n",
       "id                                                                  \n",
       "0          10.672          15.859          17.594          15.193   \n",
       "1          12.448          17.947          17.915          11.755   \n",
       "2          12.715          15.607             NaN          13.798   \n",
       "3          12.471          16.346          18.377          10.020   \n",
       "4          10.337          17.082          19.932          12.428   \n",
       "\n",
       "    measurement_13  measurement_14  measurement_15  measurement_16  \\\n",
       "id                                                                   \n",
       "0           15.029             NaN          13.034          14.684   \n",
       "1           14.732          15.425          14.395          15.631   \n",
       "2           16.711          18.631          14.094          17.946   \n",
       "3           15.250          15.562          16.154          17.172   \n",
       "4           16.182          12.760          13.153          16.412   \n",
       "\n",
       "    measurement_17  failure  \n",
       "id                           \n",
       "0          764.100        0  \n",
       "1          682.057        0  \n",
       "2          663.376        0  \n",
       "3          826.282        0  \n",
       "4          579.885        0  \n",
       "\n",
       "[5 rows x 25 columns]"
      ]
     },
     "execution_count": 2,
     "metadata": {},
     "output_type": "execute_result"
    }
   ],
   "source": [
    "df_train_full = pd.read_csv(\"/kaggle/input/tabular-playground-series-aug-2022/train.csv\", index_col='id')\n",
    "df_test = pd.read_csv(\"/kaggle/input/tabular-playground-series-aug-2022/test.csv\", index_col='id')\n",
    "\n",
    "df_train_full.head()"
   ]
  },
  {
   "cell_type": "code",
   "execution_count": 3,
   "id": "bed4c2db",
   "metadata": {
    "execution": {
     "iopub.execute_input": "2022-08-23T19:55:06.517446Z",
     "iopub.status.busy": "2022-08-23T19:55:06.516504Z",
     "iopub.status.idle": "2022-08-23T19:55:06.539649Z",
     "shell.execute_reply": "2022-08-23T19:55:06.538403Z"
    },
    "papermill": {
     "duration": 0.037276,
     "end_time": "2022-08-23T19:55:06.542160",
     "exception": false,
     "start_time": "2022-08-23T19:55:06.504884",
     "status": "completed"
    },
    "tags": []
   },
   "outputs": [
    {
     "name": "stdout",
     "output_type": "stream",
     "text": [
      "<class 'pandas.core.frame.DataFrame'>\n",
      "Int64Index: 26570 entries, 0 to 26569\n",
      "Data columns (total 25 columns):\n",
      " #   Column          Non-Null Count  Dtype  \n",
      "---  ------          --------------  -----  \n",
      " 0   product_code    26570 non-null  object \n",
      " 1   loading         26320 non-null  float64\n",
      " 2   attribute_0     26570 non-null  object \n",
      " 3   attribute_1     26570 non-null  object \n",
      " 4   attribute_2     26570 non-null  int64  \n",
      " 5   attribute_3     26570 non-null  int64  \n",
      " 6   measurement_0   26570 non-null  int64  \n",
      " 7   measurement_1   26570 non-null  int64  \n",
      " 8   measurement_2   26570 non-null  int64  \n",
      " 9   measurement_3   26189 non-null  float64\n",
      " 10  measurement_4   26032 non-null  float64\n",
      " 11  measurement_5   25894 non-null  float64\n",
      " 12  measurement_6   25774 non-null  float64\n",
      " 13  measurement_7   25633 non-null  float64\n",
      " 14  measurement_8   25522 non-null  float64\n",
      " 15  measurement_9   25343 non-null  float64\n",
      " 16  measurement_10  25270 non-null  float64\n",
      " 17  measurement_11  25102 non-null  float64\n",
      " 18  measurement_12  24969 non-null  float64\n",
      " 19  measurement_13  24796 non-null  float64\n",
      " 20  measurement_14  24696 non-null  float64\n",
      " 21  measurement_15  24561 non-null  float64\n",
      " 22  measurement_16  24460 non-null  float64\n",
      " 23  measurement_17  24286 non-null  float64\n",
      " 24  failure         26570 non-null  int64  \n",
      "dtypes: float64(16), int64(6), object(3)\n",
      "memory usage: 5.3+ MB\n"
     ]
    }
   ],
   "source": [
    "df_train_full.info()"
   ]
  },
  {
   "cell_type": "code",
   "execution_count": 4,
   "id": "de1dcc58",
   "metadata": {
    "execution": {
     "iopub.execute_input": "2022-08-23T19:55:06.565298Z",
     "iopub.status.busy": "2022-08-23T19:55:06.564684Z",
     "iopub.status.idle": "2022-08-23T19:55:06.671909Z",
     "shell.execute_reply": "2022-08-23T19:55:06.670609Z"
    },
    "papermill": {
     "duration": 0.121833,
     "end_time": "2022-08-23T19:55:06.674572",
     "exception": false,
     "start_time": "2022-08-23T19:55:06.552739",
     "status": "completed"
    },
    "tags": []
   },
   "outputs": [
    {
     "data": {
      "text/html": [
       "<div>\n",
       "<style scoped>\n",
       "    .dataframe tbody tr th:only-of-type {\n",
       "        vertical-align: middle;\n",
       "    }\n",
       "\n",
       "    .dataframe tbody tr th {\n",
       "        vertical-align: top;\n",
       "    }\n",
       "\n",
       "    .dataframe thead th {\n",
       "        text-align: right;\n",
       "    }\n",
       "</style>\n",
       "<table border=\"1\" class=\"dataframe\">\n",
       "  <thead>\n",
       "    <tr style=\"text-align: right;\">\n",
       "      <th></th>\n",
       "      <th>loading</th>\n",
       "      <th>attribute_2</th>\n",
       "      <th>attribute_3</th>\n",
       "      <th>measurement_0</th>\n",
       "      <th>measurement_1</th>\n",
       "      <th>measurement_2</th>\n",
       "      <th>measurement_3</th>\n",
       "      <th>measurement_4</th>\n",
       "      <th>measurement_5</th>\n",
       "      <th>measurement_6</th>\n",
       "      <th>...</th>\n",
       "      <th>measurement_9</th>\n",
       "      <th>measurement_10</th>\n",
       "      <th>measurement_11</th>\n",
       "      <th>measurement_12</th>\n",
       "      <th>measurement_13</th>\n",
       "      <th>measurement_14</th>\n",
       "      <th>measurement_15</th>\n",
       "      <th>measurement_16</th>\n",
       "      <th>measurement_17</th>\n",
       "      <th>failure</th>\n",
       "    </tr>\n",
       "  </thead>\n",
       "  <tbody>\n",
       "    <tr>\n",
       "      <th>count</th>\n",
       "      <td>26320.000000</td>\n",
       "      <td>26570.000000</td>\n",
       "      <td>26570.000000</td>\n",
       "      <td>26570.000000</td>\n",
       "      <td>26570.000000</td>\n",
       "      <td>26570.000000</td>\n",
       "      <td>26189.000000</td>\n",
       "      <td>26032.000000</td>\n",
       "      <td>25894.000000</td>\n",
       "      <td>25774.000000</td>\n",
       "      <td>...</td>\n",
       "      <td>25343.000000</td>\n",
       "      <td>25270.000000</td>\n",
       "      <td>25102.000000</td>\n",
       "      <td>24969.000000</td>\n",
       "      <td>24796.000000</td>\n",
       "      <td>24696.000000</td>\n",
       "      <td>24561.000000</td>\n",
       "      <td>24460.000000</td>\n",
       "      <td>24286.000000</td>\n",
       "      <td>26570.000000</td>\n",
       "    </tr>\n",
       "    <tr>\n",
       "      <th>mean</th>\n",
       "      <td>127.826233</td>\n",
       "      <td>6.754046</td>\n",
       "      <td>7.240459</td>\n",
       "      <td>7.415883</td>\n",
       "      <td>8.232518</td>\n",
       "      <td>6.256568</td>\n",
       "      <td>17.791528</td>\n",
       "      <td>11.731988</td>\n",
       "      <td>17.127804</td>\n",
       "      <td>17.510759</td>\n",
       "      <td>...</td>\n",
       "      <td>11.430725</td>\n",
       "      <td>16.117711</td>\n",
       "      <td>19.172085</td>\n",
       "      <td>11.702464</td>\n",
       "      <td>15.652904</td>\n",
       "      <td>16.048444</td>\n",
       "      <td>14.995554</td>\n",
       "      <td>16.460727</td>\n",
       "      <td>701.269059</td>\n",
       "      <td>0.212608</td>\n",
       "    </tr>\n",
       "    <tr>\n",
       "      <th>std</th>\n",
       "      <td>39.030020</td>\n",
       "      <td>1.471852</td>\n",
       "      <td>1.456493</td>\n",
       "      <td>4.116690</td>\n",
       "      <td>4.199401</td>\n",
       "      <td>3.309109</td>\n",
       "      <td>1.001200</td>\n",
       "      <td>0.996085</td>\n",
       "      <td>0.996414</td>\n",
       "      <td>0.995980</td>\n",
       "      <td>...</td>\n",
       "      <td>0.999137</td>\n",
       "      <td>1.405978</td>\n",
       "      <td>1.520785</td>\n",
       "      <td>1.488838</td>\n",
       "      <td>1.155247</td>\n",
       "      <td>1.491923</td>\n",
       "      <td>1.549226</td>\n",
       "      <td>1.708935</td>\n",
       "      <td>123.304161</td>\n",
       "      <td>0.409160</td>\n",
       "    </tr>\n",
       "    <tr>\n",
       "      <th>min</th>\n",
       "      <td>33.160000</td>\n",
       "      <td>5.000000</td>\n",
       "      <td>5.000000</td>\n",
       "      <td>0.000000</td>\n",
       "      <td>0.000000</td>\n",
       "      <td>0.000000</td>\n",
       "      <td>13.968000</td>\n",
       "      <td>8.008000</td>\n",
       "      <td>12.073000</td>\n",
       "      <td>12.715000</td>\n",
       "      <td>...</td>\n",
       "      <td>7.537000</td>\n",
       "      <td>9.323000</td>\n",
       "      <td>12.461000</td>\n",
       "      <td>5.167000</td>\n",
       "      <td>10.890000</td>\n",
       "      <td>9.140000</td>\n",
       "      <td>9.104000</td>\n",
       "      <td>9.701000</td>\n",
       "      <td>196.787000</td>\n",
       "      <td>0.000000</td>\n",
       "    </tr>\n",
       "    <tr>\n",
       "      <th>25%</th>\n",
       "      <td>99.987500</td>\n",
       "      <td>6.000000</td>\n",
       "      <td>6.000000</td>\n",
       "      <td>4.000000</td>\n",
       "      <td>5.000000</td>\n",
       "      <td>4.000000</td>\n",
       "      <td>17.117000</td>\n",
       "      <td>11.051000</td>\n",
       "      <td>16.443000</td>\n",
       "      <td>16.839000</td>\n",
       "      <td>...</td>\n",
       "      <td>10.757000</td>\n",
       "      <td>15.209000</td>\n",
       "      <td>18.170000</td>\n",
       "      <td>10.703000</td>\n",
       "      <td>14.890000</td>\n",
       "      <td>15.057000</td>\n",
       "      <td>13.957000</td>\n",
       "      <td>15.268000</td>\n",
       "      <td>618.961500</td>\n",
       "      <td>0.000000</td>\n",
       "    </tr>\n",
       "    <tr>\n",
       "      <th>50%</th>\n",
       "      <td>122.390000</td>\n",
       "      <td>6.000000</td>\n",
       "      <td>8.000000</td>\n",
       "      <td>7.000000</td>\n",
       "      <td>8.000000</td>\n",
       "      <td>6.000000</td>\n",
       "      <td>17.787000</td>\n",
       "      <td>11.733000</td>\n",
       "      <td>17.132000</td>\n",
       "      <td>17.516000</td>\n",
       "      <td>...</td>\n",
       "      <td>11.430000</td>\n",
       "      <td>16.127000</td>\n",
       "      <td>19.211500</td>\n",
       "      <td>11.717000</td>\n",
       "      <td>15.628500</td>\n",
       "      <td>16.040000</td>\n",
       "      <td>14.969000</td>\n",
       "      <td>16.436000</td>\n",
       "      <td>701.024500</td>\n",
       "      <td>0.000000</td>\n",
       "    </tr>\n",
       "    <tr>\n",
       "      <th>75%</th>\n",
       "      <td>149.152500</td>\n",
       "      <td>8.000000</td>\n",
       "      <td>8.000000</td>\n",
       "      <td>10.000000</td>\n",
       "      <td>11.000000</td>\n",
       "      <td>8.000000</td>\n",
       "      <td>18.469000</td>\n",
       "      <td>12.410000</td>\n",
       "      <td>17.805000</td>\n",
       "      <td>18.178000</td>\n",
       "      <td>...</td>\n",
       "      <td>12.102000</td>\n",
       "      <td>17.025000</td>\n",
       "      <td>20.207000</td>\n",
       "      <td>12.709000</td>\n",
       "      <td>16.374000</td>\n",
       "      <td>17.082000</td>\n",
       "      <td>16.018000</td>\n",
       "      <td>17.628000</td>\n",
       "      <td>784.090250</td>\n",
       "      <td>0.000000</td>\n",
       "    </tr>\n",
       "    <tr>\n",
       "      <th>max</th>\n",
       "      <td>385.860000</td>\n",
       "      <td>9.000000</td>\n",
       "      <td>9.000000</td>\n",
       "      <td>29.000000</td>\n",
       "      <td>29.000000</td>\n",
       "      <td>24.000000</td>\n",
       "      <td>21.499000</td>\n",
       "      <td>16.484000</td>\n",
       "      <td>21.425000</td>\n",
       "      <td>21.543000</td>\n",
       "      <td>...</td>\n",
       "      <td>15.412000</td>\n",
       "      <td>22.479000</td>\n",
       "      <td>25.640000</td>\n",
       "      <td>17.663000</td>\n",
       "      <td>22.713000</td>\n",
       "      <td>22.303000</td>\n",
       "      <td>21.626000</td>\n",
       "      <td>24.094000</td>\n",
       "      <td>1312.794000</td>\n",
       "      <td>1.000000</td>\n",
       "    </tr>\n",
       "  </tbody>\n",
       "</table>\n",
       "<p>8 rows × 22 columns</p>\n",
       "</div>"
      ],
      "text/plain": [
       "            loading   attribute_2   attribute_3  measurement_0  measurement_1  \\\n",
       "count  26320.000000  26570.000000  26570.000000   26570.000000   26570.000000   \n",
       "mean     127.826233      6.754046      7.240459       7.415883       8.232518   \n",
       "std       39.030020      1.471852      1.456493       4.116690       4.199401   \n",
       "min       33.160000      5.000000      5.000000       0.000000       0.000000   \n",
       "25%       99.987500      6.000000      6.000000       4.000000       5.000000   \n",
       "50%      122.390000      6.000000      8.000000       7.000000       8.000000   \n",
       "75%      149.152500      8.000000      8.000000      10.000000      11.000000   \n",
       "max      385.860000      9.000000      9.000000      29.000000      29.000000   \n",
       "\n",
       "       measurement_2  measurement_3  measurement_4  measurement_5  \\\n",
       "count   26570.000000   26189.000000   26032.000000   25894.000000   \n",
       "mean        6.256568      17.791528      11.731988      17.127804   \n",
       "std         3.309109       1.001200       0.996085       0.996414   \n",
       "min         0.000000      13.968000       8.008000      12.073000   \n",
       "25%         4.000000      17.117000      11.051000      16.443000   \n",
       "50%         6.000000      17.787000      11.733000      17.132000   \n",
       "75%         8.000000      18.469000      12.410000      17.805000   \n",
       "max        24.000000      21.499000      16.484000      21.425000   \n",
       "\n",
       "       measurement_6  ...  measurement_9  measurement_10  measurement_11  \\\n",
       "count   25774.000000  ...   25343.000000    25270.000000    25102.000000   \n",
       "mean       17.510759  ...      11.430725       16.117711       19.172085   \n",
       "std         0.995980  ...       0.999137        1.405978        1.520785   \n",
       "min        12.715000  ...       7.537000        9.323000       12.461000   \n",
       "25%        16.839000  ...      10.757000       15.209000       18.170000   \n",
       "50%        17.516000  ...      11.430000       16.127000       19.211500   \n",
       "75%        18.178000  ...      12.102000       17.025000       20.207000   \n",
       "max        21.543000  ...      15.412000       22.479000       25.640000   \n",
       "\n",
       "       measurement_12  measurement_13  measurement_14  measurement_15  \\\n",
       "count    24969.000000    24796.000000    24696.000000    24561.000000   \n",
       "mean        11.702464       15.652904       16.048444       14.995554   \n",
       "std          1.488838        1.155247        1.491923        1.549226   \n",
       "min          5.167000       10.890000        9.140000        9.104000   \n",
       "25%         10.703000       14.890000       15.057000       13.957000   \n",
       "50%         11.717000       15.628500       16.040000       14.969000   \n",
       "75%         12.709000       16.374000       17.082000       16.018000   \n",
       "max         17.663000       22.713000       22.303000       21.626000   \n",
       "\n",
       "       measurement_16  measurement_17       failure  \n",
       "count    24460.000000    24286.000000  26570.000000  \n",
       "mean        16.460727      701.269059      0.212608  \n",
       "std          1.708935      123.304161      0.409160  \n",
       "min          9.701000      196.787000      0.000000  \n",
       "25%         15.268000      618.961500      0.000000  \n",
       "50%         16.436000      701.024500      0.000000  \n",
       "75%         17.628000      784.090250      0.000000  \n",
       "max         24.094000     1312.794000      1.000000  \n",
       "\n",
       "[8 rows x 22 columns]"
      ]
     },
     "execution_count": 4,
     "metadata": {},
     "output_type": "execute_result"
    }
   ],
   "source": [
    "df_train_full.describe()"
   ]
  },
  {
   "cell_type": "markdown",
   "id": "ab1d0b1d",
   "metadata": {
    "papermill": {
     "duration": 0.011081,
     "end_time": "2022-08-23T19:55:06.697065",
     "exception": false,
     "start_time": "2022-08-23T19:55:06.685984",
     "status": "completed"
    },
    "tags": []
   },
   "source": [
    "### Ratio of the Failure on Train Set"
   ]
  },
  {
   "cell_type": "code",
   "execution_count": 5,
   "id": "148226f0",
   "metadata": {
    "execution": {
     "iopub.execute_input": "2022-08-23T19:55:06.722294Z",
     "iopub.status.busy": "2022-08-23T19:55:06.721814Z",
     "iopub.status.idle": "2022-08-23T19:55:06.858606Z",
     "shell.execute_reply": "2022-08-23T19:55:06.857203Z"
    },
    "papermill": {
     "duration": 0.153823,
     "end_time": "2022-08-23T19:55:06.862198",
     "exception": false,
     "start_time": "2022-08-23T19:55:06.708375",
     "status": "completed"
    },
    "tags": []
   },
   "outputs": [
    {
     "name": "stdout",
     "output_type": "stream",
     "text": [
      "0    20921\n",
      "1     5649\n",
      "Name: failure, dtype: int64\n"
     ]
    },
    {
     "data": {
      "text/plain": [
       "Text(0.5, 1.0, 'Failure Rate of Products on Training Set')"
      ]
     },
     "execution_count": 5,
     "metadata": {},
     "output_type": "execute_result"
    },
    {
     "data": {
      "image/png": "[encoded data removed]",
      "text/plain": [
       "<Figure size 360x360 with 1 Axes>"
      ]
     },
     "metadata": {},
     "output_type": "display_data"
    }
   ],
   "source": [
    "colors = [\"#22a7f0\",\"#c9e52f\"]\n",
    "labels = ['Normal', 'Failure']\n",
    "explode = [0,0.05]\n",
    "\n",
    "print(df_train_full.failure.value_counts())\n",
    "           \n",
    "plt.figure(figsize = (5,5))\n",
    "plt.pie(df_train_full.failure.value_counts(),explode=explode, labels=labels, colors=colors, autopct='%1.1f%%')\n",
    "plt.title(\"Failure Rate of Products on Training Set\", color = 'blue',fontsize = 14)"
   ]
  },
  {
   "cell_type": "markdown",
   "id": "d3154f4d",
   "metadata": {
    "papermill": {
     "duration": 0.017455,
     "end_time": "2022-08-23T19:55:06.898096",
     "exception": false,
     "start_time": "2022-08-23T19:55:06.880641",
     "status": "completed"
    },
    "tags": []
   },
   "source": [
    "### Ratio of Nan Values\n",
    "There is a lot of missing value. We will deal with them later."
   ]
  },
  {
   "cell_type": "code",
   "execution_count": 6,
   "id": "f7413cd2",
   "metadata": {
    "execution": {
     "iopub.execute_input": "2022-08-23T19:55:06.936884Z",
     "iopub.status.busy": "2022-08-23T19:55:06.935437Z",
     "iopub.status.idle": "2022-08-23T19:55:07.029388Z",
     "shell.execute_reply": "2022-08-23T19:55:07.028317Z"
    },
    "papermill": {
     "duration": 0.115877,
     "end_time": "2022-08-23T19:55:07.031832",
     "exception": false,
     "start_time": "2022-08-23T19:55:06.915955",
     "status": "completed"
    },
    "tags": []
   },
   "outputs": [
    {
     "data": {
      "text/html": [
       "<style type=\"text/css\">\n",
       "#T_fce60_row0_col0, #T_fce60_row0_col1 {\n",
       "  background-color: #ff0000;\n",
       "  color: #f1f1f1;\n",
       "}\n",
       "#T_fce60_row1_col0, #T_fce60_row1_col1 {\n",
       "  background-color: #fe1212;\n",
       "  color: #f1f1f1;\n",
       "}\n",
       "#T_fce60_row2_col0, #T_fce60_row2_col1 {\n",
       "  background-color: #fe1c1c;\n",
       "  color: #f1f1f1;\n",
       "}\n",
       "#T_fce60_row3_col0, #T_fce60_row3_col1 {\n",
       "  background-color: #fd2a2a;\n",
       "  color: #f1f1f1;\n",
       "}\n",
       "#T_fce60_row4_col0, #T_fce60_row4_col1 {\n",
       "  background-color: #fc3636;\n",
       "  color: #f1f1f1;\n",
       "}\n",
       "#T_fce60_row5_col0, #T_fce60_row5_col1 {\n",
       "  background-color: #fb4848;\n",
       "  color: #f1f1f1;\n",
       "}\n",
       "#T_fce60_row6_col0, #T_fce60_row6_col1 {\n",
       "  background-color: #fb5656;\n",
       "  color: #f1f1f1;\n",
       "}\n",
       "#T_fce60_row7_col0, #T_fce60_row7_col1 {\n",
       "  background-color: #fa6868;\n",
       "  color: #f1f1f1;\n",
       "}\n",
       "#T_fce60_row8_col0, #T_fce60_row8_col1 {\n",
       "  background-color: #f96f6f;\n",
       "  color: #f1f1f1;\n",
       "}\n",
       "#T_fce60_row9_col0, #T_fce60_row9_col1 {\n",
       "  background-color: #f88282;\n",
       "  color: #f1f1f1;\n",
       "}\n",
       "#T_fce60_row10_col0, #T_fce60_row10_col1 {\n",
       "  background-color: #f88d8d;\n",
       "  color: #000000;\n",
       "}\n",
       "#T_fce60_row11_col0, #T_fce60_row11_col1 {\n",
       "  background-color: #f79c9c;\n",
       "  color: #000000;\n",
       "}\n",
       "#T_fce60_row12_col0, #T_fce60_row12_col1 {\n",
       "  background-color: #f6a9a9;\n",
       "  color: #000000;\n",
       "}\n",
       "#T_fce60_row13_col0, #T_fce60_row13_col1 {\n",
       "  background-color: #f6b8b7;\n",
       "  color: #000000;\n",
       "}\n",
       "#T_fce60_row14_col0, #T_fce60_row14_col1 {\n",
       "  background-color: #f5c8c8;\n",
       "  color: #000000;\n",
       "}\n",
       "#T_fce60_row15_col0, #T_fce60_row15_col1 {\n",
       "  background-color: #f4d6d6;\n",
       "  color: #000000;\n",
       "}\n",
       "#T_fce60_row16_col0, #T_fce60_row16_col1, #T_fce60_row17_col0, #T_fce60_row17_col1, #T_fce60_row18_col0, #T_fce60_row18_col1, #T_fce60_row19_col0, #T_fce60_row19_col1, #T_fce60_row20_col0, #T_fce60_row20_col1, #T_fce60_row21_col0, #T_fce60_row21_col1, #T_fce60_row22_col0, #T_fce60_row22_col1, #T_fce60_row23_col0, #T_fce60_row23_col1, #T_fce60_row24_col0, #T_fce60_row24_col1 {\n",
       "  background-color: #f3f0f0;\n",
       "  color: #000000;\n",
       "}\n",
       "</style>\n",
       "<table id=\"T_fce60_\">\n",
       "  <thead>\n",
       "    <tr>\n",
       "      <th class=\"blank level0\" >&nbsp;</th>\n",
       "      <th class=\"col_heading level0 col0\" >NaN Count</th>\n",
       "      <th class=\"col_heading level0 col1\" >NaN Ratio</th>\n",
       "    </tr>\n",
       "  </thead>\n",
       "  <tbody>\n",
       "    <tr>\n",
       "      <th id=\"T_fce60_level0_row0\" class=\"row_heading level0 row0\" >measurement_17</th>\n",
       "      <td id=\"T_fce60_row0_col0\" class=\"data row0 col0\" >2284</td>\n",
       "      <td id=\"T_fce60_row0_col1\" class=\"data row0 col1\" >0.085962</td>\n",
       "    </tr>\n",
       "    <tr>\n",
       "      <th id=\"T_fce60_level0_row1\" class=\"row_heading level0 row1\" >measurement_16</th>\n",
       "      <td id=\"T_fce60_row1_col0\" class=\"data row1 col0\" >2110</td>\n",
       "      <td id=\"T_fce60_row1_col1\" class=\"data row1 col1\" >0.079413</td>\n",
       "    </tr>\n",
       "    <tr>\n",
       "      <th id=\"T_fce60_level0_row2\" class=\"row_heading level0 row2\" >measurement_15</th>\n",
       "      <td id=\"T_fce60_row2_col0\" class=\"data row2 col0\" >2009</td>\n",
       "      <td id=\"T_fce60_row2_col1\" class=\"data row2 col1\" >0.075612</td>\n",
       "    </tr>\n",
       "    <tr>\n",
       "      <th id=\"T_fce60_level0_row3\" class=\"row_heading level0 row3\" >measurement_14</th>\n",
       "      <td id=\"T_fce60_row3_col0\" class=\"data row3 col0\" >1874</td>\n",
       "      <td id=\"T_fce60_row3_col1\" class=\"data row3 col1\" >0.070531</td>\n",
       "    </tr>\n",
       "    <tr>\n",
       "      <th id=\"T_fce60_level0_row4\" class=\"row_heading level0 row4\" >measurement_13</th>\n",
       "      <td id=\"T_fce60_row4_col0\" class=\"data row4 col0\" >1774</td>\n",
       "      <td id=\"T_fce60_row4_col1\" class=\"data row4 col1\" >0.066767</td>\n",
       "    </tr>\n",
       "    <tr>\n",
       "      <th id=\"T_fce60_level0_row5\" class=\"row_heading level0 row5\" >measurement_12</th>\n",
       "      <td id=\"T_fce60_row5_col0\" class=\"data row5 col0\" >1601</td>\n",
       "      <td id=\"T_fce60_row5_col1\" class=\"data row5 col1\" >0.060256</td>\n",
       "    </tr>\n",
       "    <tr>\n",
       "      <th id=\"T_fce60_level0_row6\" class=\"row_heading level0 row6\" >measurement_11</th>\n",
       "      <td id=\"T_fce60_row6_col0\" class=\"data row6 col0\" >1468</td>\n",
       "      <td id=\"T_fce60_row6_col1\" class=\"data row6 col1\" >0.055250</td>\n",
       "    </tr>\n",
       "    <tr>\n",
       "      <th id=\"T_fce60_level0_row7\" class=\"row_heading level0 row7\" >measurement_10</th>\n",
       "      <td id=\"T_fce60_row7_col0\" class=\"data row7 col0\" >1300</td>\n",
       "      <td id=\"T_fce60_row7_col1\" class=\"data row7 col1\" >0.048927</td>\n",
       "    </tr>\n",
       "    <tr>\n",
       "      <th id=\"T_fce60_level0_row8\" class=\"row_heading level0 row8\" >measurement_9</th>\n",
       "      <td id=\"T_fce60_row8_col0\" class=\"data row8 col0\" >1227</td>\n",
       "      <td id=\"T_fce60_row8_col1\" class=\"data row8 col1\" >0.046180</td>\n",
       "    </tr>\n",
       "    <tr>\n",
       "      <th id=\"T_fce60_level0_row9\" class=\"row_heading level0 row9\" >measurement_8</th>\n",
       "      <td id=\"T_fce60_row9_col0\" class=\"data row9 col0\" >1048</td>\n",
       "      <td id=\"T_fce60_row9_col1\" class=\"data row9 col1\" >0.039443</td>\n",
       "    </tr>\n",
       "    <tr>\n",
       "      <th id=\"T_fce60_level0_row10\" class=\"row_heading level0 row10\" >measurement_7</th>\n",
       "      <td id=\"T_fce60_row10_col0\" class=\"data row10 col0\" >937</td>\n",
       "      <td id=\"T_fce60_row10_col1\" class=\"data row10 col1\" >0.035265</td>\n",
       "    </tr>\n",
       "    <tr>\n",
       "      <th id=\"T_fce60_level0_row11\" class=\"row_heading level0 row11\" >measurement_6</th>\n",
       "      <td id=\"T_fce60_row11_col0\" class=\"data row11 col0\" >796</td>\n",
       "      <td id=\"T_fce60_row11_col1\" class=\"data row11 col1\" >0.029959</td>\n",
       "    </tr>\n",
       "    <tr>\n",
       "      <th id=\"T_fce60_level0_row12\" class=\"row_heading level0 row12\" >measurement_5</th>\n",
       "      <td id=\"T_fce60_row12_col0\" class=\"data row12 col0\" >676</td>\n",
       "      <td id=\"T_fce60_row12_col1\" class=\"data row12 col1\" >0.025442</td>\n",
       "    </tr>\n",
       "    <tr>\n",
       "      <th id=\"T_fce60_level0_row13\" class=\"row_heading level0 row13\" >measurement_4</th>\n",
       "      <td id=\"T_fce60_row13_col0\" class=\"data row13 col0\" >538</td>\n",
       "      <td id=\"T_fce60_row13_col1\" class=\"data row13 col1\" >0.020248</td>\n",
       "    </tr>\n",
       "    <tr>\n",
       "      <th id=\"T_fce60_level0_row14\" class=\"row_heading level0 row14\" >measurement_3</th>\n",
       "      <td id=\"T_fce60_row14_col0\" class=\"data row14 col0\" >381</td>\n",
       "      <td id=\"T_fce60_row14_col1\" class=\"data row14 col1\" >0.014339</td>\n",
       "    </tr>\n",
       "    <tr>\n",
       "      <th id=\"T_fce60_level0_row15\" class=\"row_heading level0 row15\" >loading</th>\n",
       "      <td id=\"T_fce60_row15_col0\" class=\"data row15 col0\" >250</td>\n",
       "      <td id=\"T_fce60_row15_col1\" class=\"data row15 col1\" >0.009409</td>\n",
       "    </tr>\n",
       "    <tr>\n",
       "      <th id=\"T_fce60_level0_row16\" class=\"row_heading level0 row16\" >product_code</th>\n",
       "      <td id=\"T_fce60_row16_col0\" class=\"data row16 col0\" >0</td>\n",
       "      <td id=\"T_fce60_row16_col1\" class=\"data row16 col1\" >0.000000</td>\n",
       "    </tr>\n",
       "    <tr>\n",
       "      <th id=\"T_fce60_level0_row17\" class=\"row_heading level0 row17\" >measurement_2</th>\n",
       "      <td id=\"T_fce60_row17_col0\" class=\"data row17 col0\" >0</td>\n",
       "      <td id=\"T_fce60_row17_col1\" class=\"data row17 col1\" >0.000000</td>\n",
       "    </tr>\n",
       "    <tr>\n",
       "      <th id=\"T_fce60_level0_row18\" class=\"row_heading level0 row18\" >measurement_1</th>\n",
       "      <td id=\"T_fce60_row18_col0\" class=\"data row18 col0\" >0</td>\n",
       "      <td id=\"T_fce60_row18_col1\" class=\"data row18 col1\" >0.000000</td>\n",
       "    </tr>\n",
       "    <tr>\n",
       "      <th id=\"T_fce60_level0_row19\" class=\"row_heading level0 row19\" >measurement_0</th>\n",
       "      <td id=\"T_fce60_row19_col0\" class=\"data row19 col0\" >0</td>\n",
       "      <td id=\"T_fce60_row19_col1\" class=\"data row19 col1\" >0.000000</td>\n",
       "    </tr>\n",
       "    <tr>\n",
       "      <th id=\"T_fce60_level0_row20\" class=\"row_heading level0 row20\" >attribute_3</th>\n",
       "      <td id=\"T_fce60_row20_col0\" class=\"data row20 col0\" >0</td>\n",
       "      <td id=\"T_fce60_row20_col1\" class=\"data row20 col1\" >0.000000</td>\n",
       "    </tr>\n",
       "    <tr>\n",
       "      <th id=\"T_fce60_level0_row21\" class=\"row_heading level0 row21\" >attribute_2</th>\n",
       "      <td id=\"T_fce60_row21_col0\" class=\"data row21 col0\" >0</td>\n",
       "      <td id=\"T_fce60_row21_col1\" class=\"data row21 col1\" >0.000000</td>\n",
       "    </tr>\n",
       "    <tr>\n",
       "      <th id=\"T_fce60_level0_row22\" class=\"row_heading level0 row22\" >attribute_1</th>\n",
       "      <td id=\"T_fce60_row22_col0\" class=\"data row22 col0\" >0</td>\n",
       "      <td id=\"T_fce60_row22_col1\" class=\"data row22 col1\" >0.000000</td>\n",
       "    </tr>\n",
       "    <tr>\n",
       "      <th id=\"T_fce60_level0_row23\" class=\"row_heading level0 row23\" >attribute_0</th>\n",
       "      <td id=\"T_fce60_row23_col0\" class=\"data row23 col0\" >0</td>\n",
       "      <td id=\"T_fce60_row23_col1\" class=\"data row23 col1\" >0.000000</td>\n",
       "    </tr>\n",
       "    <tr>\n",
       "      <th id=\"T_fce60_level0_row24\" class=\"row_heading level0 row24\" >failure</th>\n",
       "      <td id=\"T_fce60_row24_col0\" class=\"data row24 col0\" >0</td>\n",
       "      <td id=\"T_fce60_row24_col1\" class=\"data row24 col1\" >0.000000</td>\n",
       "    </tr>\n",
       "  </tbody>\n",
       "</table>\n"
      ],
      "text/plain": [
       "<pandas.io.formats.style.Styler at 0x7f7548fc0b50>"
      ]
     },
     "execution_count": 6,
     "metadata": {},
     "output_type": "execute_result"
    }
   ],
   "source": [
    "cm = sns.light_palette(\"red\", as_cmap=True)\n",
    "pd.DataFrame({\"NaN Count\": df_train_full.isna().sum(),\n",
    "              \"NaN Ratio\": df_train_full.isna().sum()/len(df_train_full)}).sort_values(by=\"NaN Count\",\n",
    "                                                                 ascending=False).style.background_gradient(cmap=cm)"
   ]
  },
  {
   "cell_type": "markdown",
   "id": "c61ef54a",
   "metadata": {
    "papermill": {
     "duration": 0.011437,
     "end_time": "2022-08-23T19:55:07.055098",
     "exception": false,
     "start_time": "2022-08-23T19:55:07.043661",
     "status": "completed"
    },
    "tags": []
   },
   "source": [
    "<a id=\"3\"></a> <br>\n",
    "## 1.A. Create Train and Test Sets"
   ]
  },
  {
   "cell_type": "code",
   "execution_count": 7,
   "id": "6fc56cf8",
   "metadata": {
    "execution": {
     "iopub.execute_input": "2022-08-23T19:55:07.080539Z",
     "iopub.status.busy": "2022-08-23T19:55:07.079771Z",
     "iopub.status.idle": "2022-08-23T19:55:07.101636Z",
     "shell.execute_reply": "2022-08-23T19:55:07.100360Z"
    },
    "papermill": {
     "duration": 0.038198,
     "end_time": "2022-08-23T19:55:07.105015",
     "exception": false,
     "start_time": "2022-08-23T19:55:07.066817",
     "status": "completed"
    },
    "tags": []
   },
   "outputs": [],
   "source": [
    "from sklearn.model_selection import train_test_split\n",
    "\n",
    "random_state=42\n",
    "\n",
    "y = df_train_full[\"failure\"]  # save target\n",
    "# df_train_full.drop(['failure'], axis=1, inplace=True) # drop target\n",
    "df_train = df_train_full.drop(['failure'], axis=1)\n",
    "\n",
    "test_size = 0.2\n",
    "x_train, x_val, y_train, y_val = train_test_split(df_train, y , test_size = test_size, random_state=random_state)"
   ]
  },
  {
   "cell_type": "code",
   "execution_count": 8,
   "id": "94c5d2f1",
   "metadata": {
    "execution": {
     "iopub.execute_input": "2022-08-23T19:55:07.137698Z",
     "iopub.status.busy": "2022-08-23T19:55:07.136669Z",
     "iopub.status.idle": "2022-08-23T19:55:07.144180Z",
     "shell.execute_reply": "2022-08-23T19:55:07.142807Z"
    },
    "papermill": {
     "duration": 0.025077,
     "end_time": "2022-08-23T19:55:07.147140",
     "exception": false,
     "start_time": "2022-08-23T19:55:07.122063",
     "status": "completed"
    },
    "tags": []
   },
   "outputs": [
    {
     "name": "stdout",
     "output_type": "stream",
     "text": [
      "x_train.shape:  (21256, 24)\n",
      "y_train.shape:  (21256,)\n",
      "x_val.shape:  (5314, 24)\n",
      "y_val.shape:  (5314,)\n"
     ]
    }
   ],
   "source": [
    "print(\"x_train.shape: \",x_train.shape)\n",
    "print(\"y_train.shape: \",y_train.shape)\n",
    "print(\"x_val.shape: \",x_val.shape)\n",
    "print(\"y_val.shape: \",y_val.shape)"
   ]
  },
  {
   "cell_type": "code",
   "execution_count": 9,
   "id": "a3fd07b8",
   "metadata": {
    "execution": {
     "iopub.execute_input": "2022-08-23T19:55:07.174330Z",
     "iopub.status.busy": "2022-08-23T19:55:07.173933Z",
     "iopub.status.idle": "2022-08-23T19:55:07.202225Z",
     "shell.execute_reply": "2022-08-23T19:55:07.201254Z"
    },
    "papermill": {
     "duration": 0.044963,
     "end_time": "2022-08-23T19:55:07.204431",
     "exception": false,
     "start_time": "2022-08-23T19:55:07.159468",
     "status": "completed"
    },
    "tags": []
   },
   "outputs": [
    {
     "data": {
      "text/html": [
       "<div>\n",
       "<style scoped>\n",
       "    .dataframe tbody tr th:only-of-type {\n",
       "        vertical-align: middle;\n",
       "    }\n",
       "\n",
       "    .dataframe tbody tr th {\n",
       "        vertical-align: top;\n",
       "    }\n",
       "\n",
       "    .dataframe thead th {\n",
       "        text-align: right;\n",
       "    }\n",
       "</style>\n",
       "<table border=\"1\" class=\"dataframe\">\n",
       "  <thead>\n",
       "    <tr style=\"text-align: right;\">\n",
       "      <th></th>\n",
       "      <th>product_code</th>\n",
       "      <th>loading</th>\n",
       "      <th>attribute_0</th>\n",
       "      <th>attribute_1</th>\n",
       "      <th>attribute_2</th>\n",
       "      <th>attribute_3</th>\n",
       "      <th>measurement_0</th>\n",
       "      <th>measurement_1</th>\n",
       "      <th>measurement_2</th>\n",
       "      <th>measurement_3</th>\n",
       "      <th>...</th>\n",
       "      <th>measurement_8</th>\n",
       "      <th>measurement_9</th>\n",
       "      <th>measurement_10</th>\n",
       "      <th>measurement_11</th>\n",
       "      <th>measurement_12</th>\n",
       "      <th>measurement_13</th>\n",
       "      <th>measurement_14</th>\n",
       "      <th>measurement_15</th>\n",
       "      <th>measurement_16</th>\n",
       "      <th>measurement_17</th>\n",
       "    </tr>\n",
       "    <tr>\n",
       "      <th>id</th>\n",
       "      <th></th>\n",
       "      <th></th>\n",
       "      <th></th>\n",
       "      <th></th>\n",
       "      <th></th>\n",
       "      <th></th>\n",
       "      <th></th>\n",
       "      <th></th>\n",
       "      <th></th>\n",
       "      <th></th>\n",
       "      <th></th>\n",
       "      <th></th>\n",
       "      <th></th>\n",
       "      <th></th>\n",
       "      <th></th>\n",
       "      <th></th>\n",
       "      <th></th>\n",
       "      <th></th>\n",
       "      <th></th>\n",
       "      <th></th>\n",
       "      <th></th>\n",
       "    </tr>\n",
       "  </thead>\n",
       "  <tbody>\n",
       "    <tr>\n",
       "      <th>0</th>\n",
       "      <td>A</td>\n",
       "      <td>80.10</td>\n",
       "      <td>material_7</td>\n",
       "      <td>material_8</td>\n",
       "      <td>9</td>\n",
       "      <td>5</td>\n",
       "      <td>7</td>\n",
       "      <td>8</td>\n",
       "      <td>4</td>\n",
       "      <td>18.040</td>\n",
       "      <td>...</td>\n",
       "      <td>20.155</td>\n",
       "      <td>10.672</td>\n",
       "      <td>15.859</td>\n",
       "      <td>17.594</td>\n",
       "      <td>15.193</td>\n",
       "      <td>15.029</td>\n",
       "      <td>NaN</td>\n",
       "      <td>13.034</td>\n",
       "      <td>14.684</td>\n",
       "      <td>764.100</td>\n",
       "    </tr>\n",
       "    <tr>\n",
       "      <th>1</th>\n",
       "      <td>A</td>\n",
       "      <td>84.89</td>\n",
       "      <td>material_7</td>\n",
       "      <td>material_8</td>\n",
       "      <td>9</td>\n",
       "      <td>5</td>\n",
       "      <td>14</td>\n",
       "      <td>3</td>\n",
       "      <td>3</td>\n",
       "      <td>18.213</td>\n",
       "      <td>...</td>\n",
       "      <td>17.889</td>\n",
       "      <td>12.448</td>\n",
       "      <td>17.947</td>\n",
       "      <td>17.915</td>\n",
       "      <td>11.755</td>\n",
       "      <td>14.732</td>\n",
       "      <td>15.425</td>\n",
       "      <td>14.395</td>\n",
       "      <td>15.631</td>\n",
       "      <td>682.057</td>\n",
       "    </tr>\n",
       "    <tr>\n",
       "      <th>2</th>\n",
       "      <td>A</td>\n",
       "      <td>82.43</td>\n",
       "      <td>material_7</td>\n",
       "      <td>material_8</td>\n",
       "      <td>9</td>\n",
       "      <td>5</td>\n",
       "      <td>12</td>\n",
       "      <td>1</td>\n",
       "      <td>5</td>\n",
       "      <td>18.057</td>\n",
       "      <td>...</td>\n",
       "      <td>18.288</td>\n",
       "      <td>12.715</td>\n",
       "      <td>15.607</td>\n",
       "      <td>NaN</td>\n",
       "      <td>13.798</td>\n",
       "      <td>16.711</td>\n",
       "      <td>18.631</td>\n",
       "      <td>14.094</td>\n",
       "      <td>17.946</td>\n",
       "      <td>663.376</td>\n",
       "    </tr>\n",
       "    <tr>\n",
       "      <th>3</th>\n",
       "      <td>A</td>\n",
       "      <td>101.07</td>\n",
       "      <td>material_7</td>\n",
       "      <td>material_8</td>\n",
       "      <td>9</td>\n",
       "      <td>5</td>\n",
       "      <td>13</td>\n",
       "      <td>2</td>\n",
       "      <td>6</td>\n",
       "      <td>17.295</td>\n",
       "      <td>...</td>\n",
       "      <td>19.060</td>\n",
       "      <td>12.471</td>\n",
       "      <td>16.346</td>\n",
       "      <td>18.377</td>\n",
       "      <td>10.020</td>\n",
       "      <td>15.250</td>\n",
       "      <td>15.562</td>\n",
       "      <td>16.154</td>\n",
       "      <td>17.172</td>\n",
       "      <td>826.282</td>\n",
       "    </tr>\n",
       "    <tr>\n",
       "      <th>4</th>\n",
       "      <td>A</td>\n",
       "      <td>188.06</td>\n",
       "      <td>material_7</td>\n",
       "      <td>material_8</td>\n",
       "      <td>9</td>\n",
       "      <td>5</td>\n",
       "      <td>9</td>\n",
       "      <td>2</td>\n",
       "      <td>8</td>\n",
       "      <td>19.346</td>\n",
       "      <td>...</td>\n",
       "      <td>18.093</td>\n",
       "      <td>10.337</td>\n",
       "      <td>17.082</td>\n",
       "      <td>19.932</td>\n",
       "      <td>12.428</td>\n",
       "      <td>16.182</td>\n",
       "      <td>12.760</td>\n",
       "      <td>13.153</td>\n",
       "      <td>16.412</td>\n",
       "      <td>579.885</td>\n",
       "    </tr>\n",
       "  </tbody>\n",
       "</table>\n",
       "<p>5 rows × 24 columns</p>\n",
       "</div>"
      ],
      "text/plain": [
       "   product_code  loading attribute_0 attribute_1  attribute_2  attribute_3  \\\n",
       "id                                                                           \n",
       "0             A    80.10  material_7  material_8            9            5   \n",
       "1             A    84.89  material_7  material_8            9            5   \n",
       "2             A    82.43  material_7  material_8            9            5   \n",
       "3             A   101.07  material_7  material_8            9            5   \n",
       "4             A   188.06  material_7  material_8            9            5   \n",
       "\n",
       "    measurement_0  measurement_1  measurement_2  measurement_3  ...  \\\n",
       "id                                                              ...   \n",
       "0               7              8              4         18.040  ...   \n",
       "1              14              3              3         18.213  ...   \n",
       "2              12              1              5         18.057  ...   \n",
       "3              13              2              6         17.295  ...   \n",
       "4               9              2              8         19.346  ...   \n",
       "\n",
       "    measurement_8  measurement_9  measurement_10  measurement_11  \\\n",
       "id                                                                 \n",
       "0          20.155         10.672          15.859          17.594   \n",
       "1          17.889         12.448          17.947          17.915   \n",
       "2          18.288         12.715          15.607             NaN   \n",
       "3          19.060         12.471          16.346          18.377   \n",
       "4          18.093         10.337          17.082          19.932   \n",
       "\n",
       "    measurement_12  measurement_13  measurement_14  measurement_15  \\\n",
       "id                                                                   \n",
       "0           15.193          15.029             NaN          13.034   \n",
       "1           11.755          14.732          15.425          14.395   \n",
       "2           13.798          16.711          18.631          14.094   \n",
       "3           10.020          15.250          15.562          16.154   \n",
       "4           12.428          16.182          12.760          13.153   \n",
       "\n",
       "    measurement_16  measurement_17  \n",
       "id                                  \n",
       "0           14.684         764.100  \n",
       "1           15.631         682.057  \n",
       "2           17.946         663.376  \n",
       "3           17.172         826.282  \n",
       "4           16.412         579.885  \n",
       "\n",
       "[5 rows x 24 columns]"
      ]
     },
     "execution_count": 9,
     "metadata": {},
     "output_type": "execute_result"
    }
   ],
   "source": [
    "df_train.head()"
   ]
  },
  {
   "cell_type": "markdown",
   "id": "083b630e",
   "metadata": {
    "papermill": {
     "duration": 0.011659,
     "end_time": "2022-08-23T19:55:07.228483",
     "exception": false,
     "start_time": "2022-08-23T19:55:07.216824",
     "status": "completed"
    },
    "tags": []
   },
   "source": [
    "**What's the ratio of failure numbers, after splitting data?**"
   ]
  },
  {
   "cell_type": "code",
   "execution_count": 10,
   "id": "75d3ae17",
   "metadata": {
    "execution": {
     "iopub.execute_input": "2022-08-23T19:55:07.254451Z",
     "iopub.status.busy": "2022-08-23T19:55:07.253763Z",
     "iopub.status.idle": "2022-08-23T19:55:07.279077Z",
     "shell.execute_reply": "2022-08-23T19:55:07.278279Z"
    },
    "papermill": {
     "duration": 0.040503,
     "end_time": "2022-08-23T19:55:07.281102",
     "exception": false,
     "start_time": "2022-08-23T19:55:07.240599",
     "status": "completed"
    },
    "tags": []
   },
   "outputs": [
    {
     "data": {
      "text/html": [
       "<div>\n",
       "<style scoped>\n",
       "    .dataframe tbody tr th:only-of-type {\n",
       "        vertical-align: middle;\n",
       "    }\n",
       "\n",
       "    .dataframe tbody tr th {\n",
       "        vertical-align: top;\n",
       "    }\n",
       "\n",
       "    .dataframe thead th {\n",
       "        text-align: right;\n",
       "    }\n",
       "</style>\n",
       "<table border=\"1\" class=\"dataframe\">\n",
       "  <thead>\n",
       "    <tr style=\"text-align: right;\">\n",
       "      <th></th>\n",
       "      <th>product_code</th>\n",
       "      <th>loading</th>\n",
       "      <th>attribute_0</th>\n",
       "      <th>attribute_1</th>\n",
       "      <th>attribute_2</th>\n",
       "      <th>attribute_3</th>\n",
       "      <th>measurement_0</th>\n",
       "      <th>measurement_1</th>\n",
       "      <th>measurement_2</th>\n",
       "      <th>measurement_3</th>\n",
       "      <th>...</th>\n",
       "      <th>measurement_8</th>\n",
       "      <th>measurement_9</th>\n",
       "      <th>measurement_10</th>\n",
       "      <th>measurement_11</th>\n",
       "      <th>measurement_12</th>\n",
       "      <th>measurement_13</th>\n",
       "      <th>measurement_14</th>\n",
       "      <th>measurement_15</th>\n",
       "      <th>measurement_16</th>\n",
       "      <th>measurement_17</th>\n",
       "    </tr>\n",
       "    <tr>\n",
       "      <th>id</th>\n",
       "      <th></th>\n",
       "      <th></th>\n",
       "      <th></th>\n",
       "      <th></th>\n",
       "      <th></th>\n",
       "      <th></th>\n",
       "      <th></th>\n",
       "      <th></th>\n",
       "      <th></th>\n",
       "      <th></th>\n",
       "      <th></th>\n",
       "      <th></th>\n",
       "      <th></th>\n",
       "      <th></th>\n",
       "      <th></th>\n",
       "      <th></th>\n",
       "      <th></th>\n",
       "      <th></th>\n",
       "      <th></th>\n",
       "      <th></th>\n",
       "      <th></th>\n",
       "    </tr>\n",
       "  </thead>\n",
       "  <tbody>\n",
       "    <tr>\n",
       "      <th>4031</th>\n",
       "      <td>A</td>\n",
       "      <td>125.77</td>\n",
       "      <td>material_7</td>\n",
       "      <td>material_8</td>\n",
       "      <td>9</td>\n",
       "      <td>5</td>\n",
       "      <td>13</td>\n",
       "      <td>1</td>\n",
       "      <td>3</td>\n",
       "      <td>16.957</td>\n",
       "      <td>...</td>\n",
       "      <td>21.896</td>\n",
       "      <td>NaN</td>\n",
       "      <td>14.837</td>\n",
       "      <td>17.120</td>\n",
       "      <td>13.848</td>\n",
       "      <td>16.205</td>\n",
       "      <td>14.036</td>\n",
       "      <td>12.391</td>\n",
       "      <td>15.069</td>\n",
       "      <td>879.008</td>\n",
       "    </tr>\n",
       "    <tr>\n",
       "      <th>2375</th>\n",
       "      <td>A</td>\n",
       "      <td>108.12</td>\n",
       "      <td>material_7</td>\n",
       "      <td>material_8</td>\n",
       "      <td>9</td>\n",
       "      <td>5</td>\n",
       "      <td>14</td>\n",
       "      <td>8</td>\n",
       "      <td>7</td>\n",
       "      <td>18.219</td>\n",
       "      <td>...</td>\n",
       "      <td>NaN</td>\n",
       "      <td>11.097</td>\n",
       "      <td>16.114</td>\n",
       "      <td>19.780</td>\n",
       "      <td>11.668</td>\n",
       "      <td>14.948</td>\n",
       "      <td>18.790</td>\n",
       "      <td>13.674</td>\n",
       "      <td>17.019</td>\n",
       "      <td>760.411</td>\n",
       "    </tr>\n",
       "    <tr>\n",
       "      <th>13904</th>\n",
       "      <td>C</td>\n",
       "      <td>190.34</td>\n",
       "      <td>material_7</td>\n",
       "      <td>material_8</td>\n",
       "      <td>5</td>\n",
       "      <td>8</td>\n",
       "      <td>16</td>\n",
       "      <td>11</td>\n",
       "      <td>10</td>\n",
       "      <td>17.512</td>\n",
       "      <td>...</td>\n",
       "      <td>18.780</td>\n",
       "      <td>10.582</td>\n",
       "      <td>15.999</td>\n",
       "      <td>18.201</td>\n",
       "      <td>10.160</td>\n",
       "      <td>16.337</td>\n",
       "      <td>16.701</td>\n",
       "      <td>15.145</td>\n",
       "      <td>16.283</td>\n",
       "      <td>675.360</td>\n",
       "    </tr>\n",
       "    <tr>\n",
       "      <th>18772</th>\n",
       "      <td>D</td>\n",
       "      <td>132.96</td>\n",
       "      <td>material_7</td>\n",
       "      <td>material_5</td>\n",
       "      <td>6</td>\n",
       "      <td>6</td>\n",
       "      <td>8</td>\n",
       "      <td>8</td>\n",
       "      <td>5</td>\n",
       "      <td>18.077</td>\n",
       "      <td>...</td>\n",
       "      <td>20.289</td>\n",
       "      <td>11.254</td>\n",
       "      <td>19.852</td>\n",
       "      <td>18.620</td>\n",
       "      <td>12.750</td>\n",
       "      <td>15.698</td>\n",
       "      <td>17.998</td>\n",
       "      <td>NaN</td>\n",
       "      <td>17.994</td>\n",
       "      <td>966.597</td>\n",
       "    </tr>\n",
       "    <tr>\n",
       "      <th>3884</th>\n",
       "      <td>A</td>\n",
       "      <td>108.12</td>\n",
       "      <td>material_7</td>\n",
       "      <td>material_8</td>\n",
       "      <td>9</td>\n",
       "      <td>5</td>\n",
       "      <td>11</td>\n",
       "      <td>5</td>\n",
       "      <td>4</td>\n",
       "      <td>18.878</td>\n",
       "      <td>...</td>\n",
       "      <td>18.192</td>\n",
       "      <td>10.980</td>\n",
       "      <td>14.872</td>\n",
       "      <td>21.283</td>\n",
       "      <td>11.759</td>\n",
       "      <td>16.563</td>\n",
       "      <td>17.046</td>\n",
       "      <td>14.296</td>\n",
       "      <td>14.557</td>\n",
       "      <td>566.990</td>\n",
       "    </tr>\n",
       "  </tbody>\n",
       "</table>\n",
       "<p>5 rows × 24 columns</p>\n",
       "</div>"
      ],
      "text/plain": [
       "      product_code  loading attribute_0 attribute_1  attribute_2  attribute_3  \\\n",
       "id                                                                              \n",
       "4031             A   125.77  material_7  material_8            9            5   \n",
       "2375             A   108.12  material_7  material_8            9            5   \n",
       "13904            C   190.34  material_7  material_8            5            8   \n",
       "18772            D   132.96  material_7  material_5            6            6   \n",
       "3884             A   108.12  material_7  material_8            9            5   \n",
       "\n",
       "       measurement_0  measurement_1  measurement_2  measurement_3  ...  \\\n",
       "id                                                                 ...   \n",
       "4031              13              1              3         16.957  ...   \n",
       "2375              14              8              7         18.219  ...   \n",
       "13904             16             11             10         17.512  ...   \n",
       "18772              8              8              5         18.077  ...   \n",
       "3884              11              5              4         18.878  ...   \n",
       "\n",
       "       measurement_8  measurement_9  measurement_10  measurement_11  \\\n",
       "id                                                                    \n",
       "4031          21.896            NaN          14.837          17.120   \n",
       "2375             NaN         11.097          16.114          19.780   \n",
       "13904         18.780         10.582          15.999          18.201   \n",
       "18772         20.289         11.254          19.852          18.620   \n",
       "3884          18.192         10.980          14.872          21.283   \n",
       "\n",
       "       measurement_12  measurement_13  measurement_14  measurement_15  \\\n",
       "id                                                                      \n",
       "4031           13.848          16.205          14.036          12.391   \n",
       "2375           11.668          14.948          18.790          13.674   \n",
       "13904          10.160          16.337          16.701          15.145   \n",
       "18772          12.750          15.698          17.998             NaN   \n",
       "3884           11.759          16.563          17.046          14.296   \n",
       "\n",
       "       measurement_16  measurement_17  \n",
       "id                                     \n",
       "4031           15.069         879.008  \n",
       "2375           17.019         760.411  \n",
       "13904          16.283         675.360  \n",
       "18772          17.994         966.597  \n",
       "3884           14.557         566.990  \n",
       "\n",
       "[5 rows x 24 columns]"
      ]
     },
     "execution_count": 10,
     "metadata": {},
     "output_type": "execute_result"
    }
   ],
   "source": [
    "x_train.head()"
   ]
  },
  {
   "cell_type": "code",
   "execution_count": 11,
   "id": "e521792e",
   "metadata": {
    "execution": {
     "iopub.execute_input": "2022-08-23T19:55:07.307648Z",
     "iopub.status.busy": "2022-08-23T19:55:07.307029Z",
     "iopub.status.idle": "2022-08-23T19:55:07.487138Z",
     "shell.execute_reply": "2022-08-23T19:55:07.485962Z"
    },
    "papermill": {
     "duration": 0.196588,
     "end_time": "2022-08-23T19:55:07.490122",
     "exception": false,
     "start_time": "2022-08-23T19:55:07.293534",
     "status": "completed"
    },
    "tags": []
   },
   "outputs": [
    {
     "name": "stdout",
     "output_type": "stream",
     "text": [
      "Failure Rate on Splitted Training Set\n",
      " 0    16664\n",
      "1     4592\n",
      "Name: failure, dtype: int64\n"
     ]
    },
    {
     "data": {
      "text/plain": [
       "Text(0.5, 1.0, 'Failure Rate on Training Set')"
      ]
     },
     "execution_count": 11,
     "metadata": {},
     "output_type": "execute_result"
    },
    {
     "data": {
      "image/png": "[encoded data removed]",
      "text/plain": [
       "<Figure size 720x360 with 2 Axes>"
      ]
     },
     "metadata": {},
     "output_type": "display_data"
    }
   ],
   "source": [
    "print(\"Failure Rate on Splitted Training Set\\n\",y_train.value_counts())\n",
    "           \n",
    "plt.figure(figsize = (10,5))\n",
    "\n",
    "plt.subplot(1,2,1)\n",
    "plt.pie(y_train.value_counts(),explode=explode, labels=labels, colors=colors, autopct='%1.1f%%')\n",
    "plt.title(\"Failure Rate on Splitted Training Set\", color = 'blue',fontsize = 14)\n",
    "\n",
    "plt.subplot(1,2,2)\n",
    "plt.pie(df_train_full.failure.value_counts(),explode=explode, labels=labels, colors=colors, autopct='%1.1f%%')\n",
    "plt.title(\"Failure Rate on Training Set\", color = 'Red',fontsize = 14)"
   ]
  },
  {
   "cell_type": "markdown",
   "id": "b0f82a7a",
   "metadata": {
    "papermill": {
     "duration": 0.020255,
     "end_time": "2022-08-23T19:55:07.531340",
     "exception": false,
     "start_time": "2022-08-23T19:55:07.511085",
     "status": "completed"
    },
    "tags": []
   },
   "source": [
    "<a id=\"3\"></a> <br>\n",
    "# 2. EDA"
   ]
  },
  {
   "cell_type": "code",
   "execution_count": 12,
   "id": "b7865fdc",
   "metadata": {
    "execution": {
     "iopub.execute_input": "2022-08-23T19:55:07.565750Z",
     "iopub.status.busy": "2022-08-23T19:55:07.564831Z",
     "iopub.status.idle": "2022-08-23T19:55:07.583503Z",
     "shell.execute_reply": "2022-08-23T19:55:07.582264Z"
    },
    "papermill": {
     "duration": 0.035648,
     "end_time": "2022-08-23T19:55:07.586442",
     "exception": false,
     "start_time": "2022-08-23T19:55:07.550794",
     "status": "completed"
    },
    "tags": []
   },
   "outputs": [
    {
     "name": "stdout",
     "output_type": "stream",
     "text": [
      "\n",
      " product_code\n",
      "C    4615\n",
      "E    4251\n",
      "B    4175\n",
      "D    4144\n",
      "A    4071\n",
      "Name: product_code, dtype: int64\n",
      "\n",
      " attribute_0\n",
      "material_7    17081\n",
      "material_5     4175\n",
      "Name: attribute_0, dtype: int64\n",
      "\n",
      " attribute_1\n",
      "material_8    8686\n",
      "material_5    8319\n",
      "material_6    4251\n",
      "Name: attribute_1, dtype: int64\n",
      "\n",
      " attribute_2\n",
      "6    8395\n",
      "5    4615\n",
      "8    4175\n",
      "9    4071\n",
      "Name: attribute_2, dtype: int64\n",
      "\n",
      " attribute_3\n",
      "8    8790\n",
      "9    4251\n",
      "6    4144\n",
      "5    4071\n",
      "Name: attribute_3, dtype: int64\n"
     ]
    }
   ],
   "source": [
    "for column in x_train.columns:\n",
    "    if x_train[column].dtypes == \"object\":\n",
    "        print(\"\\n\",column)\n",
    "        print(x_train[column].value_counts())\n",
    "\n",
    "attributes = [\"attribute_2\", \"attribute_3\"]\n",
    "print(\"\\n\",attributes[0])\n",
    "print(x_train[attributes[0]].value_counts())\n",
    "print(\"\\n\",attributes[1])\n",
    "print(x_train[attributes[1]].value_counts())\n",
    "\n",
    "# categorical_columns = \n",
    "\n",
    "# cm = sns.light_palette(\"red\", as_cmap=True)\n",
    "# pd.DataFrame({\"NaN Count\": df.isna().sum(),\n",
    "#               \"NaN Ratio\": df.isna().sum()/len(df)}).sort_values(by=\"NaN Count\",\n",
    "#                                                                  ascending=False).style.background_gradient(cmap=cm)"
   ]
  },
  {
   "cell_type": "markdown",
   "id": "b8aeee94",
   "metadata": {
    "papermill": {
     "duration": 0.012617,
     "end_time": "2022-08-23T19:55:07.612700",
     "exception": false,
     "start_time": "2022-08-23T19:55:07.600083",
     "status": "completed"
    },
    "tags": []
   },
   "source": [
    "<a id=\"4\"></a> <br>\n",
    "## 2. Missing Values"
   ]
  },
  {
   "cell_type": "code",
   "execution_count": 13,
   "id": "83f5a653",
   "metadata": {
    "execution": {
     "iopub.execute_input": "2022-08-23T19:55:07.640234Z",
     "iopub.status.busy": "2022-08-23T19:55:07.639847Z",
     "iopub.status.idle": "2022-08-23T19:55:07.652147Z",
     "shell.execute_reply": "2022-08-23T19:55:07.650996Z"
    },
    "papermill": {
     "duration": 0.02863,
     "end_time": "2022-08-23T19:55:07.654218",
     "exception": false,
     "start_time": "2022-08-23T19:55:07.625588",
     "status": "completed"
    },
    "tags": []
   },
   "outputs": [
    {
     "data": {
      "text/plain": [
       "product_code         0\n",
       "loading            207\n",
       "attribute_0          0\n",
       "attribute_1          0\n",
       "attribute_2          0\n",
       "attribute_3          0\n",
       "measurement_0        0\n",
       "measurement_1        0\n",
       "measurement_2        0\n",
       "measurement_3      293\n",
       "measurement_4      439\n",
       "measurement_5      539\n",
       "measurement_6      627\n",
       "measurement_7      738\n",
       "measurement_8      852\n",
       "measurement_9      972\n",
       "measurement_10    1042\n",
       "measurement_11    1153\n",
       "measurement_12    1315\n",
       "measurement_13    1401\n",
       "measurement_14    1496\n",
       "measurement_15    1623\n",
       "measurement_16    1699\n",
       "measurement_17    1837\n",
       "dtype: int64"
      ]
     },
     "execution_count": 13,
     "metadata": {},
     "output_type": "execute_result"
    }
   ],
   "source": [
    "x_train.isnull().sum()"
   ]
  },
  {
   "cell_type": "markdown",
   "id": "31c30840",
   "metadata": {
    "papermill": {
     "duration": 0.012758,
     "end_time": "2022-08-23T19:55:07.680122",
     "exception": false,
     "start_time": "2022-08-23T19:55:07.667364",
     "status": "completed"
    },
    "tags": []
   },
   "source": [
    "<div class=\"alert alert-block alert-warning\">\n",
    "<b>Remember:</b> Null Values can be a sign of failure.\n",
    "</div>"
   ]
  },
  {
   "cell_type": "code",
   "execution_count": 14,
   "id": "42122809",
   "metadata": {
    "execution": {
     "iopub.execute_input": "2022-08-23T19:55:07.708636Z",
     "iopub.status.busy": "2022-08-23T19:55:07.707623Z",
     "iopub.status.idle": "2022-08-23T19:55:07.715075Z",
     "shell.execute_reply": "2022-08-23T19:55:07.713998Z"
    },
    "papermill": {
     "duration": 0.024168,
     "end_time": "2022-08-23T19:55:07.717418",
     "exception": false,
     "start_time": "2022-08-23T19:55:07.693250",
     "status": "completed"
    },
    "tags": []
   },
   "outputs": [
    {
     "name": "stdout",
     "output_type": "stream",
     "text": [
      "Numerical Columns ['loading', 'attribute_2', 'attribute_3', 'measurement_0', 'measurement_1', 'measurement_2', 'measurement_3', 'measurement_4', 'measurement_5', 'measurement_6', 'measurement_7', 'measurement_8', 'measurement_9', 'measurement_10', 'measurement_11', 'measurement_12', 'measurement_13', 'measurement_14', 'measurement_15', 'measurement_16', 'measurement_17']\n",
      "\n",
      "Categorical Columns ['product_code', 'attribute_0', 'attribute_1']\n"
     ]
    }
   ],
   "source": [
    "numerical_cols = [c for c in x_train.columns if x_train[c].dtypes in ['int', 'float']]\n",
    "print(\"Numerical Columns\", numerical_cols)\n",
    "\n",
    "categorical_cols = [c for c in x_train.columns if x_train[c].dtypes in ['object']]\n",
    "print(\"\\nCategorical Columns\", categorical_cols)"
   ]
  },
  {
   "cell_type": "markdown",
   "id": "1d51d311",
   "metadata": {
    "papermill": {
     "duration": 0.012843,
     "end_time": "2022-08-23T19:55:07.743609",
     "exception": false,
     "start_time": "2022-08-23T19:55:07.730766",
     "status": "completed"
    },
    "tags": []
   },
   "source": [
    "## Transformers"
   ]
  },
  {
   "cell_type": "code",
   "execution_count": 15,
   "id": "eb6bb81e",
   "metadata": {
    "execution": {
     "iopub.execute_input": "2022-08-23T19:55:07.772229Z",
     "iopub.status.busy": "2022-08-23T19:55:07.771207Z",
     "iopub.status.idle": "2022-08-23T19:55:07.778412Z",
     "shell.execute_reply": "2022-08-23T19:55:07.777346Z"
    },
    "papermill": {
     "duration": 0.023847,
     "end_time": "2022-08-23T19:55:07.780606",
     "exception": false,
     "start_time": "2022-08-23T19:55:07.756759",
     "status": "completed"
    },
    "tags": []
   },
   "outputs": [],
   "source": [
    "# Preprocessing for numerical data\n",
    "# it was constant\n",
    "# numerical_transformer = Pipeline(steps=[('imputer',SimpleImputer(strategy='median')),\n",
    "#                                         ('std_scaler', StandardScaler())\n",
    "#                                        ]) \n",
    "\n",
    "numerical_transformer = Pipeline(steps=[('imputer',SimpleImputer(strategy='median'))\n",
    "                                       ]) \n",
    "\n",
    "# Preprocessing for categorical data\n",
    "categorical_transformer = Pipeline(steps=[\n",
    "    ('imputer', SimpleImputer(strategy='constant')),\n",
    "    ('onehot', OneHotEncoder(handle_unknown='ignore'))\n",
    "])\n",
    "\n",
    "# Bundle preprocessing for numerical and categorical data\n",
    "preprocessor = ColumnTransformer(\n",
    "    transformers=[\n",
    "        ('num', numerical_transformer, numerical_cols),\n",
    "        ('cat', categorical_transformer, categorical_cols)\n",
    "    ])"
   ]
  },
  {
   "cell_type": "code",
   "execution_count": 16,
   "id": "000480cf",
   "metadata": {
    "execution": {
     "iopub.execute_input": "2022-08-23T19:55:07.809457Z",
     "iopub.status.busy": "2022-08-23T19:55:07.808668Z",
     "iopub.status.idle": "2022-08-23T19:55:07.842904Z",
     "shell.execute_reply": "2022-08-23T19:55:07.841776Z"
    },
    "papermill": {
     "duration": 0.050918,
     "end_time": "2022-08-23T19:55:07.845151",
     "exception": false,
     "start_time": "2022-08-23T19:55:07.794233",
     "status": "completed"
    },
    "tags": []
   },
   "outputs": [
    {
     "data": {
      "text/html": [
       "<div>\n",
       "<style scoped>\n",
       "    .dataframe tbody tr th:only-of-type {\n",
       "        vertical-align: middle;\n",
       "    }\n",
       "\n",
       "    .dataframe tbody tr th {\n",
       "        vertical-align: top;\n",
       "    }\n",
       "\n",
       "    .dataframe thead th {\n",
       "        text-align: right;\n",
       "    }\n",
       "</style>\n",
       "<table border=\"1\" class=\"dataframe\">\n",
       "  <thead>\n",
       "    <tr style=\"text-align: right;\">\n",
       "      <th></th>\n",
       "      <th>product_code</th>\n",
       "      <th>loading</th>\n",
       "      <th>attribute_0</th>\n",
       "      <th>attribute_1</th>\n",
       "      <th>attribute_2</th>\n",
       "      <th>attribute_3</th>\n",
       "      <th>measurement_0</th>\n",
       "      <th>measurement_1</th>\n",
       "      <th>measurement_2</th>\n",
       "      <th>measurement_3</th>\n",
       "      <th>...</th>\n",
       "      <th>measurement_8</th>\n",
       "      <th>measurement_9</th>\n",
       "      <th>measurement_10</th>\n",
       "      <th>measurement_11</th>\n",
       "      <th>measurement_12</th>\n",
       "      <th>measurement_13</th>\n",
       "      <th>measurement_14</th>\n",
       "      <th>measurement_15</th>\n",
       "      <th>measurement_16</th>\n",
       "      <th>measurement_17</th>\n",
       "    </tr>\n",
       "    <tr>\n",
       "      <th>id</th>\n",
       "      <th></th>\n",
       "      <th></th>\n",
       "      <th></th>\n",
       "      <th></th>\n",
       "      <th></th>\n",
       "      <th></th>\n",
       "      <th></th>\n",
       "      <th></th>\n",
       "      <th></th>\n",
       "      <th></th>\n",
       "      <th></th>\n",
       "      <th></th>\n",
       "      <th></th>\n",
       "      <th></th>\n",
       "      <th></th>\n",
       "      <th></th>\n",
       "      <th></th>\n",
       "      <th></th>\n",
       "      <th></th>\n",
       "      <th></th>\n",
       "      <th></th>\n",
       "    </tr>\n",
       "  </thead>\n",
       "  <tbody>\n",
       "    <tr>\n",
       "      <th>4031</th>\n",
       "      <td>A</td>\n",
       "      <td>125.77</td>\n",
       "      <td>material_7</td>\n",
       "      <td>material_8</td>\n",
       "      <td>9</td>\n",
       "      <td>5</td>\n",
       "      <td>13</td>\n",
       "      <td>1</td>\n",
       "      <td>3</td>\n",
       "      <td>16.957</td>\n",
       "      <td>...</td>\n",
       "      <td>21.896</td>\n",
       "      <td>NaN</td>\n",
       "      <td>14.837</td>\n",
       "      <td>17.120</td>\n",
       "      <td>13.848</td>\n",
       "      <td>16.205</td>\n",
       "      <td>14.036</td>\n",
       "      <td>12.391</td>\n",
       "      <td>15.069</td>\n",
       "      <td>879.008</td>\n",
       "    </tr>\n",
       "    <tr>\n",
       "      <th>2375</th>\n",
       "      <td>A</td>\n",
       "      <td>108.12</td>\n",
       "      <td>material_7</td>\n",
       "      <td>material_8</td>\n",
       "      <td>9</td>\n",
       "      <td>5</td>\n",
       "      <td>14</td>\n",
       "      <td>8</td>\n",
       "      <td>7</td>\n",
       "      <td>18.219</td>\n",
       "      <td>...</td>\n",
       "      <td>NaN</td>\n",
       "      <td>11.097</td>\n",
       "      <td>16.114</td>\n",
       "      <td>19.780</td>\n",
       "      <td>11.668</td>\n",
       "      <td>14.948</td>\n",
       "      <td>18.790</td>\n",
       "      <td>13.674</td>\n",
       "      <td>17.019</td>\n",
       "      <td>760.411</td>\n",
       "    </tr>\n",
       "    <tr>\n",
       "      <th>13904</th>\n",
       "      <td>C</td>\n",
       "      <td>190.34</td>\n",
       "      <td>material_7</td>\n",
       "      <td>material_8</td>\n",
       "      <td>5</td>\n",
       "      <td>8</td>\n",
       "      <td>16</td>\n",
       "      <td>11</td>\n",
       "      <td>10</td>\n",
       "      <td>17.512</td>\n",
       "      <td>...</td>\n",
       "      <td>18.780</td>\n",
       "      <td>10.582</td>\n",
       "      <td>15.999</td>\n",
       "      <td>18.201</td>\n",
       "      <td>10.160</td>\n",
       "      <td>16.337</td>\n",
       "      <td>16.701</td>\n",
       "      <td>15.145</td>\n",
       "      <td>16.283</td>\n",
       "      <td>675.360</td>\n",
       "    </tr>\n",
       "    <tr>\n",
       "      <th>18772</th>\n",
       "      <td>D</td>\n",
       "      <td>132.96</td>\n",
       "      <td>material_7</td>\n",
       "      <td>material_5</td>\n",
       "      <td>6</td>\n",
       "      <td>6</td>\n",
       "      <td>8</td>\n",
       "      <td>8</td>\n",
       "      <td>5</td>\n",
       "      <td>18.077</td>\n",
       "      <td>...</td>\n",
       "      <td>20.289</td>\n",
       "      <td>11.254</td>\n",
       "      <td>19.852</td>\n",
       "      <td>18.620</td>\n",
       "      <td>12.750</td>\n",
       "      <td>15.698</td>\n",
       "      <td>17.998</td>\n",
       "      <td>NaN</td>\n",
       "      <td>17.994</td>\n",
       "      <td>966.597</td>\n",
       "    </tr>\n",
       "    <tr>\n",
       "      <th>3884</th>\n",
       "      <td>A</td>\n",
       "      <td>108.12</td>\n",
       "      <td>material_7</td>\n",
       "      <td>material_8</td>\n",
       "      <td>9</td>\n",
       "      <td>5</td>\n",
       "      <td>11</td>\n",
       "      <td>5</td>\n",
       "      <td>4</td>\n",
       "      <td>18.878</td>\n",
       "      <td>...</td>\n",
       "      <td>18.192</td>\n",
       "      <td>10.980</td>\n",
       "      <td>14.872</td>\n",
       "      <td>21.283</td>\n",
       "      <td>11.759</td>\n",
       "      <td>16.563</td>\n",
       "      <td>17.046</td>\n",
       "      <td>14.296</td>\n",
       "      <td>14.557</td>\n",
       "      <td>566.990</td>\n",
       "    </tr>\n",
       "    <tr>\n",
       "      <th>18347</th>\n",
       "      <td>D</td>\n",
       "      <td>144.12</td>\n",
       "      <td>material_7</td>\n",
       "      <td>material_5</td>\n",
       "      <td>6</td>\n",
       "      <td>6</td>\n",
       "      <td>7</td>\n",
       "      <td>8</td>\n",
       "      <td>6</td>\n",
       "      <td>16.929</td>\n",
       "      <td>...</td>\n",
       "      <td>18.541</td>\n",
       "      <td>9.553</td>\n",
       "      <td>13.386</td>\n",
       "      <td>20.145</td>\n",
       "      <td>11.973</td>\n",
       "      <td>16.659</td>\n",
       "      <td>15.823</td>\n",
       "      <td>13.875</td>\n",
       "      <td>18.638</td>\n",
       "      <td>804.271</td>\n",
       "    </tr>\n",
       "    <tr>\n",
       "      <th>5610</th>\n",
       "      <td>B</td>\n",
       "      <td>171.30</td>\n",
       "      <td>material_5</td>\n",
       "      <td>material_5</td>\n",
       "      <td>8</td>\n",
       "      <td>8</td>\n",
       "      <td>6</td>\n",
       "      <td>9</td>\n",
       "      <td>6</td>\n",
       "      <td>15.724</td>\n",
       "      <td>...</td>\n",
       "      <td>18.470</td>\n",
       "      <td>10.543</td>\n",
       "      <td>15.388</td>\n",
       "      <td>18.421</td>\n",
       "      <td>10.796</td>\n",
       "      <td>14.399</td>\n",
       "      <td>16.273</td>\n",
       "      <td>12.998</td>\n",
       "      <td>17.569</td>\n",
       "      <td>660.654</td>\n",
       "    </tr>\n",
       "    <tr>\n",
       "      <th>21940</th>\n",
       "      <td>E</td>\n",
       "      <td>174.71</td>\n",
       "      <td>material_7</td>\n",
       "      <td>material_6</td>\n",
       "      <td>6</td>\n",
       "      <td>9</td>\n",
       "      <td>3</td>\n",
       "      <td>18</td>\n",
       "      <td>0</td>\n",
       "      <td>18.154</td>\n",
       "      <td>...</td>\n",
       "      <td>18.990</td>\n",
       "      <td>13.491</td>\n",
       "      <td>17.749</td>\n",
       "      <td>19.830</td>\n",
       "      <td>10.391</td>\n",
       "      <td>NaN</td>\n",
       "      <td>14.896</td>\n",
       "      <td>13.928</td>\n",
       "      <td>15.057</td>\n",
       "      <td>762.758</td>\n",
       "    </tr>\n",
       "    <tr>\n",
       "      <th>25511</th>\n",
       "      <td>E</td>\n",
       "      <td>189.11</td>\n",
       "      <td>material_7</td>\n",
       "      <td>material_6</td>\n",
       "      <td>6</td>\n",
       "      <td>9</td>\n",
       "      <td>5</td>\n",
       "      <td>8</td>\n",
       "      <td>8</td>\n",
       "      <td>17.781</td>\n",
       "      <td>...</td>\n",
       "      <td>18.195</td>\n",
       "      <td>12.326</td>\n",
       "      <td>16.642</td>\n",
       "      <td>21.269</td>\n",
       "      <td>12.471</td>\n",
       "      <td>15.330</td>\n",
       "      <td>15.751</td>\n",
       "      <td>15.165</td>\n",
       "      <td>18.934</td>\n",
       "      <td>706.423</td>\n",
       "    </tr>\n",
       "    <tr>\n",
       "      <th>18205</th>\n",
       "      <td>D</td>\n",
       "      <td>71.79</td>\n",
       "      <td>material_7</td>\n",
       "      <td>material_5</td>\n",
       "      <td>6</td>\n",
       "      <td>6</td>\n",
       "      <td>7</td>\n",
       "      <td>11</td>\n",
       "      <td>10</td>\n",
       "      <td>17.434</td>\n",
       "      <td>...</td>\n",
       "      <td>19.796</td>\n",
       "      <td>NaN</td>\n",
       "      <td>18.349</td>\n",
       "      <td>18.653</td>\n",
       "      <td>9.345</td>\n",
       "      <td>13.839</td>\n",
       "      <td>15.456</td>\n",
       "      <td>13.743</td>\n",
       "      <td>17.378</td>\n",
       "      <td>782.500</td>\n",
       "    </tr>\n",
       "  </tbody>\n",
       "</table>\n",
       "<p>10 rows × 24 columns</p>\n",
       "</div>"
      ],
      "text/plain": [
       "      product_code  loading attribute_0 attribute_1  attribute_2  attribute_3  \\\n",
       "id                                                                              \n",
       "4031             A   125.77  material_7  material_8            9            5   \n",
       "2375             A   108.12  material_7  material_8            9            5   \n",
       "13904            C   190.34  material_7  material_8            5            8   \n",
       "18772            D   132.96  material_7  material_5            6            6   \n",
       "3884             A   108.12  material_7  material_8            9            5   \n",
       "18347            D   144.12  material_7  material_5            6            6   \n",
       "5610             B   171.30  material_5  material_5            8            8   \n",
       "21940            E   174.71  material_7  material_6            6            9   \n",
       "25511            E   189.11  material_7  material_6            6            9   \n",
       "18205            D    71.79  material_7  material_5            6            6   \n",
       "\n",
       "       measurement_0  measurement_1  measurement_2  measurement_3  ...  \\\n",
       "id                                                                 ...   \n",
       "4031              13              1              3         16.957  ...   \n",
       "2375              14              8              7         18.219  ...   \n",
       "13904             16             11             10         17.512  ...   \n",
       "18772              8              8              5         18.077  ...   \n",
       "3884              11              5              4         18.878  ...   \n",
       "18347              7              8              6         16.929  ...   \n",
       "5610               6              9              6         15.724  ...   \n",
       "21940              3             18              0         18.154  ...   \n",
       "25511              5              8              8         17.781  ...   \n",
       "18205              7             11             10         17.434  ...   \n",
       "\n",
       "       measurement_8  measurement_9  measurement_10  measurement_11  \\\n",
       "id                                                                    \n",
       "4031          21.896            NaN          14.837          17.120   \n",
       "2375             NaN         11.097          16.114          19.780   \n",
       "13904         18.780         10.582          15.999          18.201   \n",
       "18772         20.289         11.254          19.852          18.620   \n",
       "3884          18.192         10.980          14.872          21.283   \n",
       "18347         18.541          9.553          13.386          20.145   \n",
       "5610          18.470         10.543          15.388          18.421   \n",
       "21940         18.990         13.491          17.749          19.830   \n",
       "25511         18.195         12.326          16.642          21.269   \n",
       "18205         19.796            NaN          18.349          18.653   \n",
       "\n",
       "       measurement_12  measurement_13  measurement_14  measurement_15  \\\n",
       "id                                                                      \n",
       "4031           13.848          16.205          14.036          12.391   \n",
       "2375           11.668          14.948          18.790          13.674   \n",
       "13904          10.160          16.337          16.701          15.145   \n",
       "18772          12.750          15.698          17.998             NaN   \n",
       "3884           11.759          16.563          17.046          14.296   \n",
       "18347          11.973          16.659          15.823          13.875   \n",
       "5610           10.796          14.399          16.273          12.998   \n",
       "21940          10.391             NaN          14.896          13.928   \n",
       "25511          12.471          15.330          15.751          15.165   \n",
       "18205           9.345          13.839          15.456          13.743   \n",
       "\n",
       "       measurement_16  measurement_17  \n",
       "id                                     \n",
       "4031           15.069         879.008  \n",
       "2375           17.019         760.411  \n",
       "13904          16.283         675.360  \n",
       "18772          17.994         966.597  \n",
       "3884           14.557         566.990  \n",
       "18347          18.638         804.271  \n",
       "5610           17.569         660.654  \n",
       "21940          15.057         762.758  \n",
       "25511          18.934         706.423  \n",
       "18205          17.378         782.500  \n",
       "\n",
       "[10 rows x 24 columns]"
      ]
     },
     "execution_count": 16,
     "metadata": {},
     "output_type": "execute_result"
    }
   ],
   "source": [
    "x_train.head(10)"
   ]
  },
  {
   "cell_type": "markdown",
   "id": "2f489a06",
   "metadata": {
    "papermill": {
     "duration": 0.013466,
     "end_time": "2022-08-23T19:55:07.872587",
     "exception": false,
     "start_time": "2022-08-23T19:55:07.859121",
     "status": "completed"
    },
    "tags": []
   },
   "source": [
    "### Apply Preprocess and put on Pd DataFrame"
   ]
  },
  {
   "cell_type": "code",
   "execution_count": 17,
   "id": "644559bb",
   "metadata": {
    "execution": {
     "iopub.execute_input": "2022-08-23T19:55:07.901937Z",
     "iopub.status.busy": "2022-08-23T19:55:07.901543Z",
     "iopub.status.idle": "2022-08-23T19:55:07.906013Z",
     "shell.execute_reply": "2022-08-23T19:55:07.904923Z"
    },
    "papermill": {
     "duration": 0.021845,
     "end_time": "2022-08-23T19:55:07.908099",
     "exception": false,
     "start_time": "2022-08-23T19:55:07.886254",
     "status": "completed"
    },
    "tags": []
   },
   "outputs": [],
   "source": [
    "# x_train[numerical_cols] = numerical_transformer.fit_transform(x_train[numerical_cols])\n",
    "\n",
    "# x_train.head(10)"
   ]
  },
  {
   "cell_type": "code",
   "execution_count": 18,
   "id": "80567eb5",
   "metadata": {
    "execution": {
     "iopub.execute_input": "2022-08-23T19:55:07.937034Z",
     "iopub.status.busy": "2022-08-23T19:55:07.936673Z",
     "iopub.status.idle": "2022-08-23T19:55:07.940595Z",
     "shell.execute_reply": "2022-08-23T19:55:07.939587Z"
    },
    "papermill": {
     "duration": 0.021129,
     "end_time": "2022-08-23T19:55:07.942950",
     "exception": false,
     "start_time": "2022-08-23T19:55:07.921821",
     "status": "completed"
    },
    "tags": []
   },
   "outputs": [],
   "source": [
    "# x_train[categorical_cols] = categorical_transformer.fit_transform(x_train[categorical_cols])\n",
    "# x_train.head()"
   ]
  },
  {
   "cell_type": "markdown",
   "id": "dd047667",
   "metadata": {
    "papermill": {
     "duration": 0.013447,
     "end_time": "2022-08-23T19:55:07.970088",
     "exception": false,
     "start_time": "2022-08-23T19:55:07.956641",
     "status": "completed"
    },
    "tags": []
   },
   "source": [
    "### Apply Preprocess"
   ]
  },
  {
   "cell_type": "code",
   "execution_count": 19,
   "id": "bb52a303",
   "metadata": {
    "execution": {
     "iopub.execute_input": "2022-08-23T19:55:08.000749Z",
     "iopub.status.busy": "2022-08-23T19:55:07.999662Z",
     "iopub.status.idle": "2022-08-23T19:55:08.135518Z",
     "shell.execute_reply": "2022-08-23T19:55:08.134401Z"
    },
    "papermill": {
     "duration": 0.153745,
     "end_time": "2022-08-23T19:55:08.138295",
     "exception": false,
     "start_time": "2022-08-23T19:55:07.984550",
     "status": "completed"
    },
    "tags": []
   },
   "outputs": [],
   "source": [
    "x_train = preprocessor.fit_transform(x_train)\n",
    "x_val = preprocessor.transform(x_val)"
   ]
  },
  {
   "cell_type": "code",
   "execution_count": 20,
   "id": "8076dfec",
   "metadata": {
    "execution": {
     "iopub.execute_input": "2022-08-23T19:55:08.168201Z",
     "iopub.status.busy": "2022-08-23T19:55:08.167417Z",
     "iopub.status.idle": "2022-08-23T19:55:08.176789Z",
     "shell.execute_reply": "2022-08-23T19:55:08.175897Z"
    },
    "papermill": {
     "duration": 0.028552,
     "end_time": "2022-08-23T19:55:08.180812",
     "exception": false,
     "start_time": "2022-08-23T19:55:08.152260",
     "status": "completed"
    },
    "tags": []
   },
   "outputs": [
    {
     "data": {
      "text/plain": [
       "array([[125.77,   9.  ,   5.  , ...,   0.  ,   0.  ,   1.  ],\n",
       "       [108.12,   9.  ,   5.  , ...,   0.  ,   0.  ,   1.  ],\n",
       "       [190.34,   5.  ,   8.  , ...,   0.  ,   0.  ,   1.  ],\n",
       "       ...,\n",
       "       [115.63,   9.  ,   5.  , ...,   0.  ,   0.  ,   1.  ],\n",
       "       [216.26,   5.  ,   8.  , ...,   0.  ,   0.  ,   1.  ],\n",
       "       [120.65,   6.  ,   9.  , ...,   0.  ,   1.  ,   0.  ]])"
      ]
     },
     "execution_count": 20,
     "metadata": {},
     "output_type": "execute_result"
    }
   ],
   "source": [
    "x_train"
   ]
  },
  {
   "cell_type": "markdown",
   "id": "4cc3035b",
   "metadata": {
    "papermill": {
     "duration": 0.015757,
     "end_time": "2022-08-23T19:55:08.212581",
     "exception": false,
     "start_time": "2022-08-23T19:55:08.196824",
     "status": "completed"
    },
    "tags": []
   },
   "source": [
    "<a id=\"10\"></a> <br>\n",
    "# Modelling"
   ]
  },
  {
   "cell_type": "markdown",
   "id": "1f3b4625",
   "metadata": {
    "papermill": {
     "duration": 0.01459,
     "end_time": "2022-08-23T19:55:08.245458",
     "exception": false,
     "start_time": "2022-08-23T19:55:08.230868",
     "status": "completed"
    },
    "tags": []
   },
   "source": [
    "<a id=\"11\"></a> <br>\n",
    "## RandomForestClassifier"
   ]
  },
  {
   "cell_type": "code",
   "execution_count": 21,
   "id": "afc65ffd",
   "metadata": {
    "execution": {
     "iopub.execute_input": "2022-08-23T19:55:08.281511Z",
     "iopub.status.busy": "2022-08-23T19:55:08.280692Z",
     "iopub.status.idle": "2022-08-23T19:55:18.376079Z",
     "shell.execute_reply": "2022-08-23T19:55:18.374887Z"
    },
    "papermill": {
     "duration": 10.118102,
     "end_time": "2022-08-23T19:55:18.378371",
     "exception": false,
     "start_time": "2022-08-23T19:55:08.260269",
     "status": "completed"
    },
    "tags": []
   },
   "outputs": [
    {
     "name": "stdout",
     "output_type": "stream",
     "text": [
      "CPU times: user 10 s, sys: 40.7 ms, total: 10.1 s\n",
      "Wall time: 10.1 s\n"
     ]
    },
    {
     "data": {
      "text/plain": [
       "RandomForestClassifier(random_state=0)"
      ]
     },
     "execution_count": 21,
     "metadata": {},
     "output_type": "execute_result"
    }
   ],
   "source": [
    "%%time\n",
    "model = RandomForestClassifier(n_estimators=100, random_state=0)\n",
    "\n",
    "model.fit(x_train, y_train)"
   ]
  },
  {
   "cell_type": "code",
   "execution_count": 22,
   "id": "d17e29cf",
   "metadata": {
    "execution": {
     "iopub.execute_input": "2022-08-23T19:55:18.408267Z",
     "iopub.status.busy": "2022-08-23T19:55:18.407857Z",
     "iopub.status.idle": "2022-08-23T19:55:18.567440Z",
     "shell.execute_reply": "2022-08-23T19:55:18.566273Z"
    },
    "papermill": {
     "duration": 0.178079,
     "end_time": "2022-08-23T19:55:18.570617",
     "exception": false,
     "start_time": "2022-08-23T19:55:18.392538",
     "status": "completed"
    },
    "tags": []
   },
   "outputs": [
    {
     "name": "stdout",
     "output_type": "stream",
     "text": [
      "auc = 0.54396\n"
     ]
    }
   ],
   "source": [
    "# We validate the model\n",
    "y_val_pred = model.predict_proba(x_val)[:,1]\n",
    "score = roc_auc_score(y_val, y_val_pred)\n",
    "print(f\"auc = {score:.5f}\")"
   ]
  },
  {
   "cell_type": "markdown",
   "id": "171b974d",
   "metadata": {
    "papermill": {
     "duration": 0.013753,
     "end_time": "2022-08-23T19:55:18.599576",
     "exception": false,
     "start_time": "2022-08-23T19:55:18.585823",
     "status": "completed"
    },
    "tags": []
   },
   "source": [
    "<a id=\"12\"></a> <br>\n",
    "## LogisticRegression"
   ]
  },
  {
   "cell_type": "code",
   "execution_count": 23,
   "id": "80f6bbc1",
   "metadata": {
    "execution": {
     "iopub.execute_input": "2022-08-23T19:55:18.629877Z",
     "iopub.status.busy": "2022-08-23T19:55:18.629154Z",
     "iopub.status.idle": "2022-08-23T19:55:18.932577Z",
     "shell.execute_reply": "2022-08-23T19:55:18.931419Z"
    },
    "papermill": {
     "duration": 0.325256,
     "end_time": "2022-08-23T19:55:18.938869",
     "exception": false,
     "start_time": "2022-08-23T19:55:18.613613",
     "status": "completed"
    },
    "tags": []
   },
   "outputs": [
    {
     "name": "stdout",
     "output_type": "stream",
     "text": [
      "auc = 0.59370\n",
      "CPU times: user 731 ms, sys: 424 ms, total: 1.16 s\n",
      "Wall time: 295 ms\n"
     ]
    },
    {
     "name": "stderr",
     "output_type": "stream",
     "text": [
      "/opt/conda/lib/python3.7/site-packages/sklearn/linear_model/_logistic.py:818: ConvergenceWarning: lbfgs failed to converge (status=1):\n",
      "STOP: TOTAL NO. of ITERATIONS REACHED LIMIT.\n",
      "\n",
      "Increase the number of iterations (max_iter) or scale the data as shown in:\n",
      "    https://scikit-learn.org/stable/modules/preprocessing.html\n",
      "Please also refer to the documentation for alternative solver options:\n",
      "    https://scikit-learn.org/stable/modules/linear_model.html#logistic-regression\n",
      "  extra_warning_msg=_LOGISTIC_SOLVER_CONVERGENCE_MSG,\n"
     ]
    }
   ],
   "source": [
    "%%time\n",
    "\n",
    "model = LogisticRegression()\n",
    "model.fit(x_train, y_train)\n",
    "\n",
    "# We validate the model\n",
    "y_val_pred = model.predict_proba(x_val)[:,1]\n",
    "score = roc_auc_score(y_val, y_val_pred)\n",
    "print(f\"auc = {score:.5f}\")"
   ]
  },
  {
   "cell_type": "markdown",
   "id": "4cb92e82",
   "metadata": {
    "papermill": {
     "duration": 0.022628,
     "end_time": "2022-08-23T19:55:18.984708",
     "exception": false,
     "start_time": "2022-08-23T19:55:18.962080",
     "status": "completed"
    },
    "tags": []
   },
   "source": [
    "<a id=\"20\"></a> <br>\n",
    "# XGBoost"
   ]
  },
  {
   "cell_type": "code",
   "execution_count": 24,
   "id": "4b1c9fb0",
   "metadata": {
    "execution": {
     "iopub.execute_input": "2022-08-23T19:55:19.032960Z",
     "iopub.status.busy": "2022-08-23T19:55:19.032420Z",
     "iopub.status.idle": "2022-08-23T19:55:19.037930Z",
     "shell.execute_reply": "2022-08-23T19:55:19.036779Z"
    },
    "papermill": {
     "duration": 0.032951,
     "end_time": "2022-08-23T19:55:19.040656",
     "exception": false,
     "start_time": "2022-08-23T19:55:19.007705",
     "status": "completed"
    },
    "tags": []
   },
   "outputs": [],
   "source": [
    "# !pip install --upgrade xgboost"
   ]
  },
  {
   "cell_type": "code",
   "execution_count": 25,
   "id": "3b701a10",
   "metadata": {
    "execution": {
     "iopub.execute_input": "2022-08-23T19:55:19.073071Z",
     "iopub.status.busy": "2022-08-23T19:55:19.072613Z",
     "iopub.status.idle": "2022-08-23T19:55:19.211044Z",
     "shell.execute_reply": "2022-08-23T19:55:19.210096Z"
    },
    "papermill": {
     "duration": 0.156858,
     "end_time": "2022-08-23T19:55:19.213604",
     "exception": false,
     "start_time": "2022-08-23T19:55:19.056746",
     "status": "completed"
    },
    "tags": []
   },
   "outputs": [],
   "source": [
    "from xgboost import XGBClassifier"
   ]
  },
  {
   "cell_type": "code",
   "execution_count": 26,
   "id": "4b518214",
   "metadata": {
    "execution": {
     "iopub.execute_input": "2022-08-23T19:55:19.253317Z",
     "iopub.status.busy": "2022-08-23T19:55:19.252035Z",
     "iopub.status.idle": "2022-08-23T19:55:22.741513Z",
     "shell.execute_reply": "2022-08-23T19:55:22.740166Z"
    },
    "papermill": {
     "duration": 3.511796,
     "end_time": "2022-08-23T19:55:22.744365",
     "exception": false,
     "start_time": "2022-08-23T19:55:19.232569",
     "status": "completed"
    },
    "tags": []
   },
   "outputs": [
    {
     "name": "stdout",
     "output_type": "stream",
     "text": [
      "CPU times: user 13.7 s, sys: 52.2 ms, total: 13.8 s\n",
      "Wall time: 3.47 s\n"
     ]
    },
    {
     "data": {
      "text/plain": [
       "XGBClassifier(base_score=0.5, booster='gbtree', callbacks=None,\n",
       "              colsample_bylevel=1, colsample_bynode=1, colsample_bytree=1,\n",
       "              early_stopping_rounds=None, enable_categorical=False,\n",
       "              eval_metric=None, gamma=0, gpu_id=-1, grow_policy='depthwise',\n",
       "              importance_type=None, interaction_constraints='',\n",
       "              learning_rate=0.300000012, max_bin=256, max_cat_to_onehot=4,\n",
       "              max_delta_step=0, max_depth=6, max_leaves=0, min_child_weight=1,\n",
       "              missing=nan, monotone_constraints='()', n_estimators=100,\n",
       "              n_jobs=0, num_parallel_tree=1, predictor='auto', random_state=0,\n",
       "              reg_alpha=0, reg_lambda=1, ...)"
      ]
     },
     "execution_count": 26,
     "metadata": {},
     "output_type": "execute_result"
    }
   ],
   "source": [
    "%%time\n",
    "xgb_clf = XGBClassifier()\n",
    "\n",
    "xgb_clf.fit(x_train, y_train)"
   ]
  },
  {
   "cell_type": "code",
   "execution_count": 27,
   "id": "833c561a",
   "metadata": {
    "execution": {
     "iopub.execute_input": "2022-08-23T19:55:22.775289Z",
     "iopub.status.busy": "2022-08-23T19:55:22.774896Z",
     "iopub.status.idle": "2022-08-23T19:55:22.795211Z",
     "shell.execute_reply": "2022-08-23T19:55:22.794168Z"
    },
    "papermill": {
     "duration": 0.038327,
     "end_time": "2022-08-23T19:55:22.797472",
     "exception": false,
     "start_time": "2022-08-23T19:55:22.759145",
     "status": "completed"
    },
    "tags": []
   },
   "outputs": [
    {
     "name": "stdout",
     "output_type": "stream",
     "text": [
      "auc = 0.54529\n"
     ]
    }
   ],
   "source": [
    "# We validate the model\n",
    "y_val_pred = xgb_clf.predict_proba(x_val)[:,1]\n",
    "score = roc_auc_score(y_val, y_val_pred)\n",
    "print(f\"auc = {score:.5f}\")"
   ]
  },
  {
   "cell_type": "markdown",
   "id": "6a1b587a",
   "metadata": {
    "papermill": {
     "duration": 0.014115,
     "end_time": "2022-08-23T19:55:22.826086",
     "exception": false,
     "start_time": "2022-08-23T19:55:22.811971",
     "status": "completed"
    },
    "tags": []
   },
   "source": [
    "<a id=\"30\"></a> <br>\n",
    "# Submission"
   ]
  },
  {
   "cell_type": "code",
   "execution_count": 28,
   "id": "80d36d32",
   "metadata": {
    "execution": {
     "iopub.execute_input": "2022-08-23T19:55:22.857146Z",
     "iopub.status.busy": "2022-08-23T19:55:22.856368Z",
     "iopub.status.idle": "2022-08-23T19:55:22.914409Z",
     "shell.execute_reply": "2022-08-23T19:55:22.913117Z"
    },
    "papermill": {
     "duration": 0.076786,
     "end_time": "2022-08-23T19:55:22.917309",
     "exception": false,
     "start_time": "2022-08-23T19:55:22.840523",
     "status": "completed"
    },
    "tags": []
   },
   "outputs": [],
   "source": [
    "x_test = preprocessor.transform(df_test)"
   ]
  },
  {
   "cell_type": "code",
   "execution_count": 29,
   "id": "b0f69a72",
   "metadata": {
    "execution": {
     "iopub.execute_input": "2022-08-23T19:55:22.949772Z",
     "iopub.status.busy": "2022-08-23T19:55:22.948729Z",
     "iopub.status.idle": "2022-08-23T19:55:22.963366Z",
     "shell.execute_reply": "2022-08-23T19:55:22.962177Z"
    },
    "papermill": {
     "duration": 0.033634,
     "end_time": "2022-08-23T19:55:22.966200",
     "exception": false,
     "start_time": "2022-08-23T19:55:22.932566",
     "status": "completed"
    },
    "tags": []
   },
   "outputs": [
    {
     "data": {
      "text/plain": [
       "array([0.22856407, 0.17381209, 0.20624759, ..., 0.14175294, 0.21970829,\n",
       "       0.17700166])"
      ]
     },
     "execution_count": 29,
     "metadata": {},
     "output_type": "execute_result"
    }
   ],
   "source": [
    "test_pred = model.predict_proba(x_test)[:,1]\n",
    "test_pred"
   ]
  },
  {
   "cell_type": "code",
   "execution_count": 30,
   "id": "5c4cf593",
   "metadata": {
    "execution": {
     "iopub.execute_input": "2022-08-23T19:55:23.015274Z",
     "iopub.status.busy": "2022-08-23T19:55:23.014607Z",
     "iopub.status.idle": "2022-08-23T19:55:23.104472Z",
     "shell.execute_reply": "2022-08-23T19:55:23.103350Z"
    },
    "papermill": {
     "duration": 0.117259,
     "end_time": "2022-08-23T19:55:23.106841",
     "exception": false,
     "start_time": "2022-08-23T19:55:22.989582",
     "status": "completed"
    },
    "tags": []
   },
   "outputs": [
    {
     "data": {
      "text/html": [
       "<div>\n",
       "<style scoped>\n",
       "    .dataframe tbody tr th:only-of-type {\n",
       "        vertical-align: middle;\n",
       "    }\n",
       "\n",
       "    .dataframe tbody tr th {\n",
       "        vertical-align: top;\n",
       "    }\n",
       "\n",
       "    .dataframe thead th {\n",
       "        text-align: right;\n",
       "    }\n",
       "</style>\n",
       "<table border=\"1\" class=\"dataframe\">\n",
       "  <thead>\n",
       "    <tr style=\"text-align: right;\">\n",
       "      <th></th>\n",
       "      <th>id</th>\n",
       "      <th>failure</th>\n",
       "    </tr>\n",
       "  </thead>\n",
       "  <tbody>\n",
       "    <tr>\n",
       "      <th>0</th>\n",
       "      <td>26570</td>\n",
       "      <td>0.228564</td>\n",
       "    </tr>\n",
       "    <tr>\n",
       "      <th>1</th>\n",
       "      <td>26571</td>\n",
       "      <td>0.173812</td>\n",
       "    </tr>\n",
       "    <tr>\n",
       "      <th>2</th>\n",
       "      <td>26572</td>\n",
       "      <td>0.206248</td>\n",
       "    </tr>\n",
       "    <tr>\n",
       "      <th>3</th>\n",
       "      <td>26573</td>\n",
       "      <td>0.214283</td>\n",
       "    </tr>\n",
       "    <tr>\n",
       "      <th>4</th>\n",
       "      <td>26574</td>\n",
       "      <td>0.367757</td>\n",
       "    </tr>\n",
       "    <tr>\n",
       "      <th>...</th>\n",
       "      <td>...</td>\n",
       "      <td>...</td>\n",
       "    </tr>\n",
       "    <tr>\n",
       "      <th>20770</th>\n",
       "      <td>47340</td>\n",
       "      <td>0.227052</td>\n",
       "    </tr>\n",
       "    <tr>\n",
       "      <th>20771</th>\n",
       "      <td>47341</td>\n",
       "      <td>0.172962</td>\n",
       "    </tr>\n",
       "    <tr>\n",
       "      <th>20772</th>\n",
       "      <td>47342</td>\n",
       "      <td>0.141753</td>\n",
       "    </tr>\n",
       "    <tr>\n",
       "      <th>20773</th>\n",
       "      <td>47343</td>\n",
       "      <td>0.219708</td>\n",
       "    </tr>\n",
       "    <tr>\n",
       "      <th>20774</th>\n",
       "      <td>47344</td>\n",
       "      <td>0.177002</td>\n",
       "    </tr>\n",
       "  </tbody>\n",
       "</table>\n",
       "<p>20775 rows × 2 columns</p>\n",
       "</div>"
      ],
      "text/plain": [
       "          id   failure\n",
       "0      26570  0.228564\n",
       "1      26571  0.173812\n",
       "2      26572  0.206248\n",
       "3      26573  0.214283\n",
       "4      26574  0.367757\n",
       "...      ...       ...\n",
       "20770  47340  0.227052\n",
       "20771  47341  0.172962\n",
       "20772  47342  0.141753\n",
       "20773  47343  0.219708\n",
       "20774  47344  0.177002\n",
       "\n",
       "[20775 rows x 2 columns]"
      ]
     },
     "execution_count": 30,
     "metadata": {},
     "output_type": "execute_result"
    }
   ],
   "source": [
    "submission = pd.DataFrame({'id': df_test.index,\n",
    "                           'failure': test_pred})\n",
    "submission.to_csv('submission.csv', index=False)\n",
    "submission"
   ]
  }
 ],
 "metadata": {
  "kernelspec": {
   "display_name": "Python 3",
   "language": "python",
   "name": "python3"
  },
  "language_info": {
   "codemirror_mode": {
    "name": "ipython",
    "version": 3
   },
   "file_extension": ".py",
   "mimetype": "text/x-python",
   "name": "python",
   "nbconvert_exporter": "python",
   "pygments_lexer": "ipython3",
   "version": "3.7.12"
  },
  "papermill": {
   "default_parameters": {},
   "duration": 27.766133,
   "end_time": "2022-08-23T19:55:23.843338",
   "environment_variables": {},
   "exception": null,
   "input_path": "__notebook__.ipynb",
   "output_path": "__notebook__.ipynb",
   "parameters": {},
   "start_time": "2022-08-23T19:54:56.077205",
   "version": "2.3.4"
  }
 },
 "nbformat": 4,
 "nbformat_minor": 5
}
